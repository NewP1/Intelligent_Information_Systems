{
 "cells": [
  {
   "cell_type": "code",
   "execution_count": null,
   "id": "a30570c8",
   "metadata": {},
   "outputs": [],
   "source": [
    "import csv\n",
    "\n",
    "f = open('incheon_population.csv', 'r')\n",
    "data = csv.reader(f)\n",
    "header = next(data)\n",
    "print(header)"
   ]
  },
  {
   "cell_type": "markdown",
   "id": "d091cfdc",
   "metadata": {},
   "source": [
    "-----------------------\n",
    "\n",
    "## 위의 list에서\n",
    "\n",
    "– ‘2021년08월_남_0세’의 index는? __3__\n",
    "\n",
    "– ‘2021년08월_남_1세’의 index는? __4 (3+1)__\n",
    "\n",
    "– ‘2021년08월_남_100세 이상’의 index는? __103 (3+100)__\n",
    "\n",
    "– ‘2021년08월_여_0세’의 index는? __106 (103+3)__\n",
    "\n",
    "– ‘2021년08월_여_1세’의 index는? __107 (106+1)__\n",
    "\n",
    "– ‘2021년08월_여_100세 이상’의 index는? __206 (106+100)__'\n",
    "\n",
    "# _우리의 관심사는 3 ~ 103 / 106 ~ 206_\n",
    "---"
   ]
  },
  {
   "cell_type": "code",
   "execution_count": 6,
   "id": "c3fef456",
   "metadata": {},
   "outputs": [
    {
     "name": "stdout",
     "output_type": "stream",
     "text": [
      "인구 구조를 알고 싶은 동 이름 입력 : 송도2동\n"
     ]
    },
    {
     "data": {
      "image/png": "[encoded data removed]",
      "text/plain": [
       "<Figure size 432x288 with 1 Axes>"
      ]
     },
     "metadata": {},
     "output_type": "display_data"
    }
   ],
   "source": [
    "import csv\n",
    "import matplotlib.pyplot as plt\n",
    "\n",
    "f = open('incheon_population.csv', 'r')\n",
    "data = csv.reader(f)\n",
    "\n",
    "\n",
    "result = []\n",
    "\n",
    "name = input(\"인구 구조를 알고 싶은 동 이름 입력 : \")\n",
    "\n",
    "for row in data:\n",
    "    if name in row[0]:\n",
    "        for m, fm in zip(row[3:104], row[106:207]):\n",
    "            result.append(int(m) + int(fm))\n",
    "f.close()\n",
    "\n",
    "\n",
    "plt.rc('font', family='Malgun Gothic')\n",
    "plt.title(name + ' 연령별 인구수')\n",
    "\n",
    "plt.style.use('ggplot') # 격자 무늬 스타일 지정\n",
    "plt.plot(result)\n",
    "plt.xlabel('연령')\n",
    "plt.ylabel('인구수')\n",
    "plt.show()\n"
   ]
  },
  {
   "cell_type": "markdown",
   "id": "13a018f3",
   "metadata": {},
   "source": [
    "### plt.style.available 가능한 스타일 보기"
   ]
  },
  {
   "cell_type": "code",
   "execution_count": 4,
   "id": "dc8a7cb4",
   "metadata": {},
   "outputs": [
    {
     "data": {
      "text/plain": [
       "['Solarize_Light2',\n",
       " '_classic_test_patch',\n",
       " 'bmh',\n",
       " 'classic',\n",
       " 'dark_background',\n",
       " 'fast',\n",
       " 'fivethirtyeight',\n",
       " 'ggplot',\n",
       " 'grayscale',\n",
       " 'seaborn',\n",
       " 'seaborn-bright',\n",
       " 'seaborn-colorblind',\n",
       " 'seaborn-dark',\n",
       " 'seaborn-dark-palette',\n",
       " 'seaborn-darkgrid',\n",
       " 'seaborn-deep',\n",
       " 'seaborn-muted',\n",
       " 'seaborn-notebook',\n",
       " 'seaborn-paper',\n",
       " 'seaborn-pastel',\n",
       " 'seaborn-poster',\n",
       " 'seaborn-talk',\n",
       " 'seaborn-ticks',\n",
       " 'seaborn-white',\n",
       " 'seaborn-whitegrid',\n",
       " 'tableau-colorblind10']"
      ]
     },
     "execution_count": 4,
     "metadata": {},
     "output_type": "execute_result"
    }
   ],
   "source": [
    "plt.style.available"
   ]
  },
  {
   "cell_type": "code",
   "execution_count": null,
   "id": "2506188c",
   "metadata": {},
   "outputs": [],
   "source": []
  }
 ],
 "metadata": {
  "kernelspec": {
   "display_name": "Python 3 (ipykernel)",
   "language": "python",
   "name": "python3"
  },
  "language_info": {
   "codemirror_mode": {
    "name": "ipython",
    "version": 3
   },
   "file_extension": ".py",
   "mimetype": "text/x-python",
   "name": "python",
   "nbconvert_exporter": "python",
   "pygments_lexer": "ipython3",
   "version": "3.9.7"
  }
 },
 "nbformat": 4,
 "nbformat_minor": 5
}

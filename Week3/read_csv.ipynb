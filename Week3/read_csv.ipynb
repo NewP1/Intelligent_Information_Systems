{
 "cells": [
  {
   "cell_type": "code",
   "execution_count": 16,
   "id": "b14daec0",
   "metadata": {},
   "outputs": [
    {
     "name": "stdout",
     "output_type": "stream",
     "text": [
      "기상 관측 아래 인천의 가장 더웠떤 날은 1949-07-16 , 온도는 38.9 이다\n"
     ]
    }
   ],
   "source": [
    "import csv\n",
    "\n",
    "f = open('incheon_weather.csv', 'r')\n",
    "data = csv.reader(f)\n",
    "header = next(data)\n",
    "# print(header)\n",
    "\n",
    "max_temp = -999\n",
    "max_date = ''\n",
    "\n",
    "for row in data: \n",
    "    if row[-1] == '':\n",
    "        row[-1] = -999\n",
    "    high = float(row[-1])\n",
    "    if high > max_temp:\n",
    "        max_temp = high\n",
    "        max_date = row[0]\n",
    "\n",
    "print(\"기상 관측 아래 인천의 가장 더웠떤 날은\", max_date, ', 온도는', max_temp, '이다')        \n",
    "# print(max_date)\n",
    "# print(max_temp)\n",
    "f.close()"
   ]
  },
  {
   "cell_type": "code",
   "execution_count": null,
   "id": "aeb38187",
   "metadata": {},
   "outputs": [],
   "source": []
  }
 ],
 "metadata": {
  "kernelspec": {
   "display_name": "Python 3 (ipykernel)",
   "language": "python",
   "name": "python3"
  },
  "language_info": {
   "codemirror_mode": {
    "name": "ipython",
    "version": 3
   },
   "file_extension": ".py",
   "mimetype": "text/x-python",
   "name": "python",
   "nbconvert_exporter": "python",
   "pygments_lexer": "ipython3",
   "version": "3.9.7"
  }
 },
 "nbformat": 4,
 "nbformat_minor": 5
}

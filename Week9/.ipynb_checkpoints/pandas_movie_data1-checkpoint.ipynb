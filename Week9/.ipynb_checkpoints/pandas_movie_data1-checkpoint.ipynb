{
 "cells": [
  {
   "cell_type": "code",
   "execution_count": 1,
   "id": "3b62f225",
   "metadata": {},
   "outputs": [
    {
     "data": {
      "application/vnd.jupyter.widget-view+json": {
       "model_id": "64997b3a08ef46dca8e2fc184a9b85ec",
       "version_major": 2,
       "version_minor": 0
      },
      "text/plain": [
       "  0%|          | 0/60 [00:00<?, ?it/s]"
      ]
     },
     "metadata": {},
     "output_type": "display_data"
    },
    {
     "data": {
      "text/html": [
       "<div>\n",
       "<style scoped>\n",
       "    .dataframe tbody tr th:only-of-type {\n",
       "        vertical-align: middle;\n",
       "    }\n",
       "\n",
       "    .dataframe tbody tr th {\n",
       "        vertical-align: top;\n",
       "    }\n",
       "\n",
       "    .dataframe thead th {\n",
       "        text-align: right;\n",
       "    }\n",
       "</style>\n",
       "<table border=\"1\" class=\"dataframe\">\n",
       "  <thead>\n",
       "    <tr style=\"text-align: right;\">\n",
       "      <th></th>\n",
       "      <th>point</th>\n",
       "    </tr>\n",
       "    <tr>\n",
       "      <th>title</th>\n",
       "      <th></th>\n",
       "    </tr>\n",
       "  </thead>\n",
       "  <tbody>\n",
       "    <tr>\n",
       "      <th>탑건: 매버릭</th>\n",
       "      <td>9.770000</td>\n",
       "    </tr>\n",
       "    <tr>\n",
       "      <th>인생은 뷰티풀: 비타돌체</th>\n",
       "      <td>9.742653</td>\n",
       "    </tr>\n",
       "    <tr>\n",
       "      <th>클라우스</th>\n",
       "      <td>9.698833</td>\n",
       "    </tr>\n",
       "    <tr>\n",
       "      <th>할머니의 먼 집</th>\n",
       "      <td>9.626500</td>\n",
       "    </tr>\n",
       "    <tr>\n",
       "      <th>극장판 짱구는 못말려: 수수께끼! 꽃피는 천하 떡잎 학교</th>\n",
       "      <td>9.625000</td>\n",
       "    </tr>\n",
       "    <tr>\n",
       "      <th>그린 북</th>\n",
       "      <td>9.600000</td>\n",
       "    </tr>\n",
       "    <tr>\n",
       "      <th>가버나움</th>\n",
       "      <td>9.590000</td>\n",
       "    </tr>\n",
       "    <tr>\n",
       "      <th>밥정</th>\n",
       "      <td>9.585333</td>\n",
       "    </tr>\n",
       "    <tr>\n",
       "      <th>아바타 리마스터링</th>\n",
       "      <td>9.550294</td>\n",
       "    </tr>\n",
       "    <tr>\n",
       "      <th>베일리 어게인</th>\n",
       "      <td>9.533667</td>\n",
       "    </tr>\n",
       "  </tbody>\n",
       "</table>\n",
       "</div>"
      ],
      "text/plain": [
       "                                    point\n",
       "title                                    \n",
       "탑건: 매버릭                          9.770000\n",
       "인생은 뷰티풀: 비타돌체                    9.742653\n",
       "클라우스                             9.698833\n",
       "할머니의 먼 집                         9.626500\n",
       "극장판 짱구는 못말려: 수수께끼! 꽃피는 천하 떡잎 학교  9.625000\n",
       "그린 북                             9.600000\n",
       "가버나움                             9.590000\n",
       "밥정                               9.585333\n",
       "아바타 리마스터링                        9.550294\n",
       "베일리 어게인                          9.533667"
      ]
     },
     "execution_count": 1,
     "metadata": {},
     "output_type": "execute_result"
    }
   ],
   "source": [
    "from urllib.request import urlopen\n",
    "from bs4 import BeautifulSoup\n",
    "import pandas as pd\n",
    "import numpy as np\n",
    "from tqdm.notebook import tqdm\n",
    "import matplotlib.pyplot as plt\n",
    "date_list = pd.date_range('2022-09-01', periods=60, freq='D')\n",
    "date_list\n",
    "\n",
    "movie_title = []\n",
    "movie_point = []\n",
    "movie_date = []\n",
    "\n",
    "\n",
    "for today in tqdm(date_list):\n",
    "    url = \"http://movie.naver.com/movie/sdb/rank/rmovie.nhn?sel=pnt&date=\" + (today.strftime('%Y%m%d'))\n",
    "    html = urlopen(url)\n",
    "    \n",
    "    soup = BeautifulSoup(html.read(), 'html.parser')\n",
    "    titles = soup.find_all('div', {'class':'tit5'})\n",
    "    points = soup.find_all('td', {'class':'point'})\n",
    "    \n",
    "    titles_text = [] #50\n",
    "    points_text = [] #50\n",
    "    date = [] #50\n",
    "    for t, p in zip(titles, points):\n",
    "        titles_text.append(t.text.strip(' \\n'))\n",
    "        points_text.append(float(p.text))\n",
    "        date.append(today)\n",
    "     \n",
    "    movie_title += titles_text\n",
    "    movie_point += points_text\n",
    "    movie_date += date\n",
    "    \n",
    "frame = pd.DataFrame({'date':movie_date, 'title':movie_title, 'point':movie_point})\n",
    "\n",
    "movie_point = pd.pivot_table(frame, index=['title'], aggfunc=np.mean)\n",
    "movie_point_sort = movie_point.sort_values(by='point' ,ascending=False)\n",
    "movie_point_sort.head(10)"
   ]
  },
  {
   "cell_type": "code",
   "execution_count": 2,
   "id": "7764a921",
   "metadata": {},
   "outputs": [
    {
     "data": {
      "image/png": "[encoded data removed]",
      "text/plain": [
       "<Figure size 864x576 with 1 Axes>"
      ]
     },
     "metadata": {},
     "output_type": "display_data"
    }
   ],
   "source": [
    "search_movie = frame.query(\"title == ['탑건: 매버릭']\")\n",
    "\n",
    "plt.rc('font', family = 'Malgun Gothic')\n",
    "plt.rcParams['axes.unicode_minus'] = False\n",
    "plt.style.use('ggplot')\n",
    "plt.figure(figsize=(12,8))\n",
    "plt.title('2022-09-01부터 60일간 탑건: 매버릭 평점 그래프')\n",
    "plt.plot(search_movie['date'], search_movie['point'])\n",
    "plt.xlabel('날짜')\n",
    "plt.ylabel('평점')\n",
    "plt.show()"
   ]
  },
  {
   "cell_type": "markdown",
   "id": "32631abb",
   "metadata": {},
   "source": [
    "탑건 매버릭은 2022년 09월 01일 부터 60일간 평점이 항상 9.77로 유지되었다. 큰 변화는 없었던 것으로 보인다."
   ]
  }
 ],
 "metadata": {
  "kernelspec": {
   "display_name": "Python 3 (ipykernel)",
   "language": "python",
   "name": "python3"
  },
  "language_info": {
   "codemirror_mode": {
    "name": "ipython",
    "version": 3
   },
   "file_extension": ".py",
   "mimetype": "text/x-python",
   "name": "python",
   "nbconvert_exporter": "python",
   "pygments_lexer": "ipython3",
   "version": "3.9.7"
  }
 },
 "nbformat": 4,
 "nbformat_minor": 5
}

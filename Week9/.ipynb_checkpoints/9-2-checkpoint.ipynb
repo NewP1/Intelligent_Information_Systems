{
 "cells": [
  {
   "cell_type": "code",
   "execution_count": 1,
   "id": "d36fe038",
   "metadata": {},
   "outputs": [],
   "source": [
    "from urllib.request import urlopen\n",
    "from bs4 import BeautifulSoup\n",
    "import pandas as pd"
   ]
  },
  {
   "cell_type": "code",
   "execution_count": 2,
   "id": "d3680896",
   "metadata": {},
   "outputs": [],
   "source": [
    "date_list = pd.date_range('2020-07-01', periods=100, freq='D')"
   ]
  },
  {
   "cell_type": "code",
   "execution_count": 3,
   "id": "cc7caacc",
   "metadata": {},
   "outputs": [],
   "source": [
    "movie_title = []\n",
    "movie_point =[]\n",
    "movie_date = []"
   ]
  },
  {
   "cell_type": "code",
   "execution_count": 4,
   "id": "684d5369",
   "metadata": {},
   "outputs": [],
   "source": [
    "for today in date_list:\n",
    "    url = \"https://movie.naver.com/movie/sdb/rank/rmovie.naver?sel=pnt&date=\" + today.strftime('%Y%m%d')\n",
    "    html = urlopen(url)\n",
    "    \n",
    "    soup = BeautifulSoup(html.read(), 'html.parser')\n",
    "    \n",
    "    titles = soup.find_all('div', {'class':'tit5'})\n",
    "    points = soup.find_all('td', {'class':'point'})\n",
    "    \n",
    "    t_text =[]\n",
    "    p_text = []\n",
    "    date = []\n",
    "        \n",
    "    for t, p in zip(titles,points):\n",
    "        t_text.append(t.text.strip(' \\n'))\n",
    "        p_text.append(float(p.text))\n",
    "        date.append(today)\n",
    "    movie_title += t_text\n",
    "    movie_point += p_text\n",
    "    movie_date += date"
   ]
  },
  {
   "cell_type": "code",
   "execution_count": 5,
   "id": "05124a0b",
   "metadata": {},
   "outputs": [
    {
     "name": "stdout",
     "output_type": "stream",
     "text": [
      "['그린 북', '가버나움', '베일리 어게인', '원더', '포드 V 페라리']\n"
     ]
    }
   ],
   "source": [
    "print(movie_title[:5])"
   ]
  },
  {
   "cell_type": "code",
   "execution_count": 9,
   "id": "be6df398",
   "metadata": {},
   "outputs": [
    {
     "data": {
      "text/html": [
       "<div>\n",
       "<style scoped>\n",
       "    .dataframe tbody tr th:only-of-type {\n",
       "        vertical-align: middle;\n",
       "    }\n",
       "\n",
       "    .dataframe tbody tr th {\n",
       "        vertical-align: top;\n",
       "    }\n",
       "\n",
       "    .dataframe thead th {\n",
       "        text-align: right;\n",
       "    }\n",
       "</style>\n",
       "<table border=\"1\" class=\"dataframe\">\n",
       "  <thead>\n",
       "    <tr style=\"text-align: right;\">\n",
       "      <th></th>\n",
       "      <th>date</th>\n",
       "      <th>title</th>\n",
       "      <th>point</th>\n",
       "    </tr>\n",
       "  </thead>\n",
       "  <tbody>\n",
       "    <tr>\n",
       "      <th>0</th>\n",
       "      <td>2020-07-01</td>\n",
       "      <td>그린 북</td>\n",
       "      <td>9.59</td>\n",
       "    </tr>\n",
       "    <tr>\n",
       "      <th>1</th>\n",
       "      <td>2020-07-01</td>\n",
       "      <td>가버나움</td>\n",
       "      <td>9.59</td>\n",
       "    </tr>\n",
       "    <tr>\n",
       "      <th>2</th>\n",
       "      <td>2020-07-01</td>\n",
       "      <td>베일리 어게인</td>\n",
       "      <td>9.53</td>\n",
       "    </tr>\n",
       "    <tr>\n",
       "      <th>3</th>\n",
       "      <td>2020-07-01</td>\n",
       "      <td>원더</td>\n",
       "      <td>9.49</td>\n",
       "    </tr>\n",
       "    <tr>\n",
       "      <th>4</th>\n",
       "      <td>2020-07-01</td>\n",
       "      <td>포드 V 페라리</td>\n",
       "      <td>9.49</td>\n",
       "    </tr>\n",
       "    <tr>\n",
       "      <th>...</th>\n",
       "      <td>...</td>\n",
       "      <td>...</td>\n",
       "      <td>...</td>\n",
       "    </tr>\n",
       "    <tr>\n",
       "      <th>4995</th>\n",
       "      <td>2020-10-08</td>\n",
       "      <td>쉰들러 리스트</td>\n",
       "      <td>9.36</td>\n",
       "    </tr>\n",
       "    <tr>\n",
       "      <th>4996</th>\n",
       "      <td>2020-10-08</td>\n",
       "      <td>클레멘타인</td>\n",
       "      <td>9.36</td>\n",
       "    </tr>\n",
       "    <tr>\n",
       "      <th>4997</th>\n",
       "      <td>2020-10-08</td>\n",
       "      <td>안녕 베일리</td>\n",
       "      <td>9.36</td>\n",
       "    </tr>\n",
       "    <tr>\n",
       "      <th>4998</th>\n",
       "      <td>2020-10-08</td>\n",
       "      <td>서유기 2 - 선리기연</td>\n",
       "      <td>9.36</td>\n",
       "    </tr>\n",
       "    <tr>\n",
       "      <th>4999</th>\n",
       "      <td>2020-10-08</td>\n",
       "      <td>여인의 향기</td>\n",
       "      <td>9.36</td>\n",
       "    </tr>\n",
       "  </tbody>\n",
       "</table>\n",
       "<p>5000 rows × 3 columns</p>\n",
       "</div>"
      ],
      "text/plain": [
       "           date         title  point\n",
       "0    2020-07-01          그린 북   9.59\n",
       "1    2020-07-01          가버나움   9.59\n",
       "2    2020-07-01       베일리 어게인   9.53\n",
       "3    2020-07-01            원더   9.49\n",
       "4    2020-07-01      포드 V 페라리   9.49\n",
       "...         ...           ...    ...\n",
       "4995 2020-10-08       쉰들러 리스트   9.36\n",
       "4996 2020-10-08         클레멘타인   9.36\n",
       "4997 2020-10-08        안녕 베일리   9.36\n",
       "4998 2020-10-08  서유기 2 - 선리기연   9.36\n",
       "4999 2020-10-08        여인의 향기   9.36\n",
       "\n",
       "[5000 rows x 3 columns]"
      ]
     },
     "execution_count": 9,
     "metadata": {},
     "output_type": "execute_result"
    }
   ],
   "source": [
    "frame = pd.DataFrame({'date':movie_date, 'title':movie_title, 'point':movie_point})\n",
    "frame"
   ]
  },
  {
   "cell_type": "code",
   "execution_count": 19,
   "id": "bb1a93a4",
   "metadata": {},
   "outputs": [
    {
     "name": "stdout",
     "output_type": "stream",
     "text": [
      "           date     title  point\n",
      "28   2020-07-01  토이 스토리 3   9.38\n",
      "77   2020-07-02  토이 스토리 3   9.38\n",
      "127  2020-07-03  토이 스토리 3   9.38\n",
      "178  2020-07-04  토이 스토리 3   9.38\n",
      "228  2020-07-05  토이 스토리 3   9.38\n",
      "...         ...       ...    ...\n",
      "4781 2020-10-04  토이 스토리 3   9.39\n",
      "4831 2020-10-05  토이 스토리 3   9.39\n",
      "4881 2020-10-06  토이 스토리 3   9.39\n",
      "4931 2020-10-07  토이 스토리 3   9.39\n",
      "4981 2020-10-08  토이 스토리 3   9.39\n",
      "\n",
      "[100 rows x 3 columns]\n"
     ]
    }
   ],
   "source": [
    "expr = \"title == ['토이 스토리 3']\"\n",
    "search_movie = frame.query(expr)\n",
    "print(search_movie)"
   ]
  },
  {
   "cell_type": "code",
   "execution_count": 15,
   "id": "2a082424",
   "metadata": {},
   "outputs": [
    {
     "name": "stdout",
     "output_type": "stream",
     "text": [
      "           date     title  point\n",
      "0    2020-07-01      그린 북   9.59\n",
      "28   2020-07-01  토이 스토리 3   9.38\n",
      "50   2020-07-02      그린 북   9.59\n",
      "77   2020-07-02  토이 스토리 3   9.38\n",
      "100  2020-07-03      그린 북   9.59\n",
      "...         ...       ...    ...\n",
      "4881 2020-10-06  토이 스토리 3   9.39\n",
      "4900 2020-10-07      그린 북   9.59\n",
      "4931 2020-10-07  토이 스토리 3   9.39\n",
      "4950 2020-10-08      그린 북   9.59\n",
      "4981 2020-10-08  토이 스토리 3   9.39\n",
      "\n",
      "[200 rows x 3 columns]\n"
     ]
    }
   ],
   "source": [
    "# expr = \"title == ['토이 스토리 3', '그린 북']\"\n",
    "# search_movie = frame.query(expr)\n",
    "# print(search_movie)"
   ]
  },
  {
   "cell_type": "code",
   "execution_count": 24,
   "id": "3bc1ee9f",
   "metadata": {},
   "outputs": [
    {
     "name": "stdout",
     "output_type": "stream",
     "text": [
      "토이 스토리 3\n"
     ]
    },
    {
     "data": {
      "image/png": "[encoded data removed]",
      "text/plain": [
       "<Figure size 864x576 with 1 Axes>"
      ]
     },
     "metadata": {},
     "output_type": "display_data"
    }
   ],
   "source": [
    "import matplotlib.pyplot as plt\n",
    "\n",
    "input_title = input()\n",
    "search_movie = frame.query(\"title == ['{}']\".format(input_title))\n",
    "\n",
    "\n",
    "plt.rc('font', family = 'Malgun Gothic')\n",
    "plt.rcParams['axes.unicode_minus'] = False\n",
    "plt.style.use('ggplot')\n",
    "plt.figure(figsize=(12,8))\n",
    "plt.title('2020-07-01부터 100일간 {} 평점 그래프'.format(input_title))\n",
    "plt.plot(search_movie['date'], search_movie['point'])\n",
    "plt.xlabel('날짜')\n",
    "plt.ylabel('평점')\n",
    "plt.show()"
   ]
  },
  {
   "cell_type": "code",
   "execution_count": null,
   "id": "2d92667c",
   "metadata": {},
   "outputs": [],
   "source": []
  }
 ],
 "metadata": {
  "kernelspec": {
   "display_name": "Python 3 (ipykernel)",
   "language": "python",
   "name": "python3"
  },
  "language_info": {
   "codemirror_mode": {
    "name": "ipython",
    "version": 3
   },
   "file_extension": ".py",
   "mimetype": "text/x-python",
   "name": "python",
   "nbconvert_exporter": "python",
   "pygments_lexer": "ipython3",
   "version": "3.9.7"
  }
 },
 "nbformat": 4,
 "nbformat_minor": 5
}

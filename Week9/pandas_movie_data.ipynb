{
 "cells": [
  {
   "cell_type": "code",
   "execution_count": 1,
   "id": "9204fbea",
   "metadata": {},
   "outputs": [],
   "source": [
    "from urllib.request import urlopen\n",
    "from bs4 import BeautifulSoup\n",
    "import pandas as pd\n",
    "import numpy as np\n",
    "from tqdm.notebook import tqdm"
   ]
  },
  {
   "cell_type": "code",
   "execution_count": 2,
   "id": "505f5704",
   "metadata": {
    "scrolled": true
   },
   "outputs": [
    {
     "data": {
      "text/plain": [
       "DatetimeIndex(['2022-09-01', '2022-09-02', '2022-09-03', '2022-09-04',\n",
       "               '2022-09-05', '2022-09-06', '2022-09-07', '2022-09-08',\n",
       "               '2022-09-09', '2022-09-10', '2022-09-11', '2022-09-12',\n",
       "               '2022-09-13', '2022-09-14', '2022-09-15', '2022-09-16',\n",
       "               '2022-09-17', '2022-09-18', '2022-09-19', '2022-09-20',\n",
       "               '2022-09-21', '2022-09-22', '2022-09-23', '2022-09-24',\n",
       "               '2022-09-25', '2022-09-26', '2022-09-27', '2022-09-28',\n",
       "               '2022-09-29', '2022-09-30', '2022-10-01', '2022-10-02',\n",
       "               '2022-10-03', '2022-10-04', '2022-10-05', '2022-10-06',\n",
       "               '2022-10-07', '2022-10-08', '2022-10-09', '2022-10-10',\n",
       "               '2022-10-11', '2022-10-12', '2022-10-13', '2022-10-14',\n",
       "               '2022-10-15', '2022-10-16', '2022-10-17', '2022-10-18',\n",
       "               '2022-10-19', '2022-10-20', '2022-10-21', '2022-10-22',\n",
       "               '2022-10-23', '2022-10-24', '2022-10-25', '2022-10-26',\n",
       "               '2022-10-27', '2022-10-28', '2022-10-29', '2022-10-30'],\n",
       "              dtype='datetime64[ns]', freq='D')"
      ]
     },
     "execution_count": 2,
     "metadata": {},
     "output_type": "execute_result"
    }
   ],
   "source": [
    "date_list = pd.date_range('2022-09-01', periods=60, freq='D')\n",
    "date_list"
   ]
  },
  {
   "cell_type": "code",
   "execution_count": 3,
   "id": "482e5c0f",
   "metadata": {},
   "outputs": [
    {
     "data": {
      "application/vnd.jupyter.widget-view+json": {
       "model_id": "89c923774a554044b4ed19d280d85c49",
       "version_major": 2,
       "version_minor": 0
      },
      "text/plain": [
       "  0%|          | 0/60 [00:00<?, ?it/s]"
      ]
     },
     "metadata": {},
     "output_type": "display_data"
    }
   ],
   "source": [
    "movie_title = []\n",
    "movie_point = []\n",
    "movie_date = []\n",
    "\n",
    "\n",
    "for today in tqdm(date_list):\n",
    "    url = \"http://movie.naver.com/movie/sdb/rank/rmovie.nhn?sel=pnt&date=\" + (today.strftime('%Y%m%d'))\n",
    "    html = urlopen(url)\n",
    "    \n",
    "    soup = BeautifulSoup(html.read(), 'html.parser')\n",
    "    titles = soup.find_all('div', {'class':'tit5'})\n",
    "    points = soup.find_all('td', {'class':'point'})\n",
    "    \n",
    "    titles_text = [] #50\n",
    "    points_text = [] #50\n",
    "    date = [] #50\n",
    "    for t, p in zip(titles, points):\n",
    "        titles_text.append(t.text.strip(' \\n'))\n",
    "        points_text.append(float(p.text))\n",
    "        date.append(today)\n",
    "     \n",
    "    movie_title += titles_text\n",
    "    movie_point += points_text\n",
    "    movie_date += date"
   ]
  },
  {
   "cell_type": "code",
   "execution_count": 4,
   "id": "3ea8e582",
   "metadata": {
    "scrolled": true
   },
   "outputs": [
    {
     "data": {
      "text/html": [
       "<div>\n",
       "<style scoped>\n",
       "    .dataframe tbody tr th:only-of-type {\n",
       "        vertical-align: middle;\n",
       "    }\n",
       "\n",
       "    .dataframe tbody tr th {\n",
       "        vertical-align: top;\n",
       "    }\n",
       "\n",
       "    .dataframe thead th {\n",
       "        text-align: right;\n",
       "    }\n",
       "</style>\n",
       "<table border=\"1\" class=\"dataframe\">\n",
       "  <thead>\n",
       "    <tr style=\"text-align: right;\">\n",
       "      <th></th>\n",
       "      <th>point</th>\n",
       "    </tr>\n",
       "    <tr>\n",
       "      <th>title</th>\n",
       "      <th></th>\n",
       "    </tr>\n",
       "  </thead>\n",
       "  <tbody>\n",
       "    <tr>\n",
       "      <th>탑건: 매버릭</th>\n",
       "      <td>9.770000</td>\n",
       "    </tr>\n",
       "    <tr>\n",
       "      <th>인생은 뷰티풀: 비타돌체</th>\n",
       "      <td>9.742653</td>\n",
       "    </tr>\n",
       "    <tr>\n",
       "      <th>클라우스</th>\n",
       "      <td>9.698833</td>\n",
       "    </tr>\n",
       "    <tr>\n",
       "      <th>할머니의 먼 집</th>\n",
       "      <td>9.626500</td>\n",
       "    </tr>\n",
       "    <tr>\n",
       "      <th>극장판 짱구는 못말려: 수수께끼! 꽃피는 천하 떡잎 학교</th>\n",
       "      <td>9.625000</td>\n",
       "    </tr>\n",
       "    <tr>\n",
       "      <th>그린 북</th>\n",
       "      <td>9.600000</td>\n",
       "    </tr>\n",
       "    <tr>\n",
       "      <th>가버나움</th>\n",
       "      <td>9.590000</td>\n",
       "    </tr>\n",
       "    <tr>\n",
       "      <th>밥정</th>\n",
       "      <td>9.585333</td>\n",
       "    </tr>\n",
       "    <tr>\n",
       "      <th>아바타 리마스터링</th>\n",
       "      <td>9.550294</td>\n",
       "    </tr>\n",
       "    <tr>\n",
       "      <th>베일리 어게인</th>\n",
       "      <td>9.533667</td>\n",
       "    </tr>\n",
       "  </tbody>\n",
       "</table>\n",
       "</div>"
      ],
      "text/plain": [
       "                                    point\n",
       "title                                    \n",
       "탑건: 매버릭                          9.770000\n",
       "인생은 뷰티풀: 비타돌체                    9.742653\n",
       "클라우스                             9.698833\n",
       "할머니의 먼 집                         9.626500\n",
       "극장판 짱구는 못말려: 수수께끼! 꽃피는 천하 떡잎 학교  9.625000\n",
       "그린 북                             9.600000\n",
       "가버나움                             9.590000\n",
       "밥정                               9.585333\n",
       "아바타 리마스터링                        9.550294\n",
       "베일리 어게인                          9.533667"
      ]
     },
     "execution_count": 4,
     "metadata": {},
     "output_type": "execute_result"
    }
   ],
   "source": [
    "frame = pd.DataFrame({'date':movie_date, 'title':movie_title, 'point':movie_point})\n",
    "\n",
    "movie_point = pd.pivot_table(frame, index=['title'], aggfunc=np.mean)\n",
    "movie_point_sort = movie_point.sort_values(by='point' ,ascending=False)\n",
    "movie_point_sort.head(10)"
   ]
  },
  {
   "cell_type": "markdown",
   "id": "c79c89c1",
   "metadata": {},
   "source": [
    "2022-09-01부터 2022-10-30까지의 모든 영화의 랭킹을 평점 순으로 정렬했다.\n",
    "해당 기간 동안 평점이 가장 높았던 영화는 '탑건:매버릭'이고 '인생은 뷰티풀:비타돌체', '클라우스'가 뒤를 이었다.\n",
    "\n",
    "위와 같은 기간을 설정한 이유는 최근들어 영화를 영화관에서 본 적이 없어 기간을 그렇게 정했고, 생각보다 요즘 영화들의 평점은 높지 않고 전에 상영된 영화들의 평점이 높아 10위 가지의 영화 목록에서 현재 상영 영화들을 보기가 힘들었다. \n",
    "\n",
    "탑건:매버릭은 1편인 탑건의 뒤를 이어 나온 후속작으로 전연령층의 흥미를 유발하여 많은 사람들의 사랑을 받았을 것이라 생각한다. 남자라면 한 번쯤 생각해볼 파일럿이라는 주제와 언제나 잘생긴 톰 크루즈 형님의 연기가 사랑 받는 이유라 생각한다."
   ]
  }
 ],
 "metadata": {
  "kernelspec": {
   "display_name": "Python 3 (ipykernel)",
   "language": "python",
   "name": "python3"
  },
  "language_info": {
   "codemirror_mode": {
    "name": "ipython",
    "version": 3
   },
   "file_extension": ".py",
   "mimetype": "text/x-python",
   "name": "python",
   "nbconvert_exporter": "python",
   "pygments_lexer": "ipython3",
   "version": "3.9.7"
  }
 },
 "nbformat": 4,
 "nbformat_minor": 5
}

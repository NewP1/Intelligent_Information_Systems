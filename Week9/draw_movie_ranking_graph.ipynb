{
 "cells": [
  {
   "cell_type": "code",
   "execution_count": 17,
   "id": "af9fb21d",
   "metadata": {},
   "outputs": [],
   "source": [
    "from urllib.request import urlopen\n",
    "from bs4 import BeautifulSoup\n",
    "import pandas as pd\n",
    "from tqdm.notebook import tqdm\n",
    "\n"
   ]
  },
  {
   "cell_type": "code",
   "execution_count": 2,
   "id": "c2e1bd11",
   "metadata": {
    "scrolled": true
   },
   "outputs": [
    {
     "data": {
      "text/plain": [
       "DatetimeIndex(['2020-07-01', '2020-07-02', '2020-07-03', '2020-07-04',\n",
       "               '2020-07-05', '2020-07-06', '2020-07-07', '2020-07-08',\n",
       "               '2020-07-09', '2020-07-10', '2020-07-11', '2020-07-12',\n",
       "               '2020-07-13', '2020-07-14', '2020-07-15', '2020-07-16',\n",
       "               '2020-07-17', '2020-07-18', '2020-07-19', '2020-07-20',\n",
       "               '2020-07-21', '2020-07-22', '2020-07-23', '2020-07-24',\n",
       "               '2020-07-25', '2020-07-26', '2020-07-27', '2020-07-28',\n",
       "               '2020-07-29', '2020-07-30', '2020-07-31', '2020-08-01',\n",
       "               '2020-08-02', '2020-08-03', '2020-08-04', '2020-08-05',\n",
       "               '2020-08-06', '2020-08-07', '2020-08-08', '2020-08-09',\n",
       "               '2020-08-10', '2020-08-11', '2020-08-12', '2020-08-13',\n",
       "               '2020-08-14', '2020-08-15', '2020-08-16', '2020-08-17',\n",
       "               '2020-08-18', '2020-08-19', '2020-08-20', '2020-08-21',\n",
       "               '2020-08-22', '2020-08-23', '2020-08-24', '2020-08-25',\n",
       "               '2020-08-26', '2020-08-27', '2020-08-28', '2020-08-29',\n",
       "               '2020-08-30', '2020-08-31', '2020-09-01', '2020-09-02',\n",
       "               '2020-09-03', '2020-09-04', '2020-09-05', '2020-09-06',\n",
       "               '2020-09-07', '2020-09-08', '2020-09-09', '2020-09-10',\n",
       "               '2020-09-11', '2020-09-12', '2020-09-13', '2020-09-14',\n",
       "               '2020-09-15', '2020-09-16', '2020-09-17', '2020-09-18',\n",
       "               '2020-09-19', '2020-09-20', '2020-09-21', '2020-09-22',\n",
       "               '2020-09-23', '2020-09-24', '2020-09-25', '2020-09-26',\n",
       "               '2020-09-27', '2020-09-28', '2020-09-29', '2020-09-30',\n",
       "               '2020-10-01', '2020-10-02', '2020-10-03', '2020-10-04',\n",
       "               '2020-10-05', '2020-10-06', '2020-10-07', '2020-10-08'],\n",
       "              dtype='datetime64[ns]', freq='D')"
      ]
     },
     "execution_count": 2,
     "metadata": {},
     "output_type": "execute_result"
    }
   ],
   "source": [
    "date_list_test = pd.date_range('2020-07-01', periods=100, freq='D')\n",
    "date_list"
   ]
  },
  {
   "cell_type": "markdown",
   "id": "8665a571",
   "metadata": {},
   "source": [
    "### 우리가 원하는 포맷으로 바꿔줌 \n",
    "\n",
    "### strftime() 함수"
   ]
  },
  {
   "cell_type": "code",
   "execution_count": 4,
   "id": "572c235b",
   "metadata": {
    "scrolled": true
   },
   "outputs": [
    {
     "name": "stdout",
     "output_type": "stream",
     "text": [
      "20200701\n",
      "20200702\n",
      "20200703\n",
      "20200704\n",
      "20200705\n",
      "20200706\n",
      "20200707\n",
      "20200708\n",
      "20200709\n",
      "20200710\n",
      "20200711\n",
      "20200712\n",
      "20200713\n",
      "20200714\n",
      "20200715\n",
      "20200716\n",
      "20200717\n",
      "20200718\n",
      "20200719\n",
      "20200720\n",
      "20200721\n",
      "20200722\n",
      "20200723\n",
      "20200724\n",
      "20200725\n",
      "20200726\n",
      "20200727\n",
      "20200728\n",
      "20200729\n",
      "20200730\n",
      "20200731\n",
      "20200801\n",
      "20200802\n",
      "20200803\n",
      "20200804\n",
      "20200805\n",
      "20200806\n",
      "20200807\n",
      "20200808\n",
      "20200809\n",
      "20200810\n",
      "20200811\n",
      "20200812\n",
      "20200813\n",
      "20200814\n",
      "20200815\n",
      "20200816\n",
      "20200817\n",
      "20200818\n",
      "20200819\n",
      "20200820\n",
      "20200821\n",
      "20200822\n",
      "20200823\n",
      "20200824\n",
      "20200825\n",
      "20200826\n",
      "20200827\n",
      "20200828\n",
      "20200829\n",
      "20200830\n",
      "20200831\n",
      "20200901\n",
      "20200902\n",
      "20200903\n",
      "20200904\n",
      "20200905\n",
      "20200906\n",
      "20200907\n",
      "20200908\n",
      "20200909\n",
      "20200910\n",
      "20200911\n",
      "20200912\n",
      "20200913\n",
      "20200914\n",
      "20200915\n",
      "20200916\n",
      "20200917\n",
      "20200918\n",
      "20200919\n",
      "20200920\n",
      "20200921\n",
      "20200922\n",
      "20200923\n",
      "20200924\n",
      "20200925\n",
      "20200926\n",
      "20200927\n",
      "20200928\n",
      "20200929\n",
      "20200930\n",
      "20201001\n",
      "20201002\n",
      "20201003\n",
      "20201004\n",
      "20201005\n",
      "20201006\n",
      "20201007\n",
      "20201008\n"
     ]
    }
   ],
   "source": [
    "for today in date_list_test:\n",
    "    print(today.strftime('%Y%m%d'))\n",
    "    \n",
    "# today = date_list[0]\n",
    "# print(today.strftime('%Y%m%d'))\n",
    "# print(today.strftime('%y%m%d'))\n",
    "# print(today.strftime('%Y-%m-%d'))"
   ]
  },
  {
   "cell_type": "code",
   "execution_count": 18,
   "id": "ef2a3804",
   "metadata": {},
   "outputs": [
    {
     "data": {
      "application/vnd.jupyter.widget-view+json": {
       "model_id": "44d21f6e903e4026ad98c3d9a117a870",
       "version_major": 2,
       "version_minor": 0
      },
      "text/plain": [
       "  0%|          | 0/2 [00:00<?, ?it/s]"
      ]
     },
     "metadata": {},
     "output_type": "display_data"
    },
    {
     "name": "stdout",
     "output_type": "stream",
     "text": [
      "['그린 북', '가버나움', '베일리 어게인', '원더', '포드 V 페라리']\n",
      "[9.59, 9.59, 9.53, 9.49, 9.49]\n",
      "[Timestamp('2020-07-01 00:00:00', freq='D'), Timestamp('2020-07-01 00:00:00', freq='D'), Timestamp('2020-07-01 00:00:00', freq='D'), Timestamp('2020-07-01 00:00:00', freq='D'), Timestamp('2020-07-01 00:00:00', freq='D'), Timestamp('2020-07-01 00:00:00', freq='D'), Timestamp('2020-07-01 00:00:00', freq='D'), Timestamp('2020-07-01 00:00:00', freq='D'), Timestamp('2020-07-01 00:00:00', freq='D'), Timestamp('2020-07-01 00:00:00', freq='D'), Timestamp('2020-07-01 00:00:00', freq='D'), Timestamp('2020-07-01 00:00:00', freq='D'), Timestamp('2020-07-01 00:00:00', freq='D'), Timestamp('2020-07-01 00:00:00', freq='D'), Timestamp('2020-07-01 00:00:00', freq='D'), Timestamp('2020-07-01 00:00:00', freq='D'), Timestamp('2020-07-01 00:00:00', freq='D'), Timestamp('2020-07-01 00:00:00', freq='D'), Timestamp('2020-07-01 00:00:00', freq='D'), Timestamp('2020-07-01 00:00:00', freq='D'), Timestamp('2020-07-01 00:00:00', freq='D'), Timestamp('2020-07-01 00:00:00', freq='D'), Timestamp('2020-07-01 00:00:00', freq='D'), Timestamp('2020-07-01 00:00:00', freq='D'), Timestamp('2020-07-01 00:00:00', freq='D'), Timestamp('2020-07-01 00:00:00', freq='D'), Timestamp('2020-07-01 00:00:00', freq='D'), Timestamp('2020-07-01 00:00:00', freq='D'), Timestamp('2020-07-01 00:00:00', freq='D'), Timestamp('2020-07-01 00:00:00', freq='D'), Timestamp('2020-07-01 00:00:00', freq='D'), Timestamp('2020-07-01 00:00:00', freq='D'), Timestamp('2020-07-01 00:00:00', freq='D'), Timestamp('2020-07-01 00:00:00', freq='D'), Timestamp('2020-07-01 00:00:00', freq='D'), Timestamp('2020-07-01 00:00:00', freq='D'), Timestamp('2020-07-01 00:00:00', freq='D'), Timestamp('2020-07-01 00:00:00', freq='D'), Timestamp('2020-07-01 00:00:00', freq='D'), Timestamp('2020-07-01 00:00:00', freq='D'), Timestamp('2020-07-01 00:00:00', freq='D'), Timestamp('2020-07-01 00:00:00', freq='D'), Timestamp('2020-07-01 00:00:00', freq='D'), Timestamp('2020-07-01 00:00:00', freq='D'), Timestamp('2020-07-01 00:00:00', freq='D'), Timestamp('2020-07-01 00:00:00', freq='D'), Timestamp('2020-07-01 00:00:00', freq='D'), Timestamp('2020-07-01 00:00:00', freq='D'), Timestamp('2020-07-01 00:00:00', freq='D'), Timestamp('2020-07-01 00:00:00', freq='D'), Timestamp('2020-07-02 00:00:00', freq='D'), Timestamp('2020-07-02 00:00:00', freq='D'), Timestamp('2020-07-02 00:00:00', freq='D'), Timestamp('2020-07-02 00:00:00', freq='D'), Timestamp('2020-07-02 00:00:00', freq='D'), Timestamp('2020-07-02 00:00:00', freq='D'), Timestamp('2020-07-02 00:00:00', freq='D'), Timestamp('2020-07-02 00:00:00', freq='D'), Timestamp('2020-07-02 00:00:00', freq='D'), Timestamp('2020-07-02 00:00:00', freq='D'), Timestamp('2020-07-02 00:00:00', freq='D'), Timestamp('2020-07-02 00:00:00', freq='D'), Timestamp('2020-07-02 00:00:00', freq='D'), Timestamp('2020-07-02 00:00:00', freq='D'), Timestamp('2020-07-02 00:00:00', freq='D'), Timestamp('2020-07-02 00:00:00', freq='D'), Timestamp('2020-07-02 00:00:00', freq='D'), Timestamp('2020-07-02 00:00:00', freq='D'), Timestamp('2020-07-02 00:00:00', freq='D'), Timestamp('2020-07-02 00:00:00', freq='D'), Timestamp('2020-07-02 00:00:00', freq='D'), Timestamp('2020-07-02 00:00:00', freq='D'), Timestamp('2020-07-02 00:00:00', freq='D'), Timestamp('2020-07-02 00:00:00', freq='D'), Timestamp('2020-07-02 00:00:00', freq='D'), Timestamp('2020-07-02 00:00:00', freq='D'), Timestamp('2020-07-02 00:00:00', freq='D'), Timestamp('2020-07-02 00:00:00', freq='D'), Timestamp('2020-07-02 00:00:00', freq='D'), Timestamp('2020-07-02 00:00:00', freq='D'), Timestamp('2020-07-02 00:00:00', freq='D'), Timestamp('2020-07-02 00:00:00', freq='D'), Timestamp('2020-07-02 00:00:00', freq='D'), Timestamp('2020-07-02 00:00:00', freq='D'), Timestamp('2020-07-02 00:00:00', freq='D'), Timestamp('2020-07-02 00:00:00', freq='D'), Timestamp('2020-07-02 00:00:00', freq='D'), Timestamp('2020-07-02 00:00:00', freq='D'), Timestamp('2020-07-02 00:00:00', freq='D'), Timestamp('2020-07-02 00:00:00', freq='D'), Timestamp('2020-07-02 00:00:00', freq='D'), Timestamp('2020-07-02 00:00:00', freq='D'), Timestamp('2020-07-02 00:00:00', freq='D'), Timestamp('2020-07-02 00:00:00', freq='D'), Timestamp('2020-07-02 00:00:00', freq='D'), Timestamp('2020-07-02 00:00:00', freq='D'), Timestamp('2020-07-02 00:00:00', freq='D'), Timestamp('2020-07-02 00:00:00', freq='D'), Timestamp('2020-07-02 00:00:00', freq='D'), Timestamp('2020-07-02 00:00:00', freq='D')]\n"
     ]
    }
   ],
   "source": [
    "date_list = pd.date_range('2020-07-01', periods=2, freq='D')\n",
    "\n",
    "movie_title = []\n",
    "movie_point = []\n",
    "movie_date = []\n",
    "\n",
    "\n",
    "for today in tqdm(date_list):\n",
    "    url = \"http://movie.naver.com/movie/sdb/rank/rmovie.nhn?sel=pnt&date=\" + (today.strftime('%Y%m%d'))\n",
    "    html = urlopen(url)\n",
    "    \n",
    "    soup = BeautifulSoup(html.read(), 'html.parser')\n",
    "    titles = soup.find_all('div', {'class':'tit5'})\n",
    "    points = soup.find_all('td', {'class':'point'})\n",
    "    \n",
    "    titles_text = [] #50\n",
    "    points_text = [] #50\n",
    "    date = [] #50\n",
    "    for t, p in zip(titles, points):\n",
    "        titles_text.append(t.text.strip(' \\n'))\n",
    "        points_text.append(float(p.text))\n",
    "        date.append(today)\n",
    "     \n",
    "    movie_title += titles_text\n",
    "    movie_point += points_text\n",
    "    movie_date += date\n",
    "\n",
    "print(movie_title[:5])\n",
    "print(movie_point[:5])\n",
    "print(movie_date)"
   ]
  },
  {
   "cell_type": "code",
   "execution_count": null,
   "id": "3fba2531",
   "metadata": {},
   "outputs": [],
   "source": []
  }
 ],
 "metadata": {
  "kernelspec": {
   "display_name": "Python 3 (ipykernel)",
   "language": "python",
   "name": "python3"
  },
  "language_info": {
   "codemirror_mode": {
    "name": "ipython",
    "version": 3
   },
   "file_extension": ".py",
   "mimetype": "text/x-python",
   "name": "python",
   "nbconvert_exporter": "python",
   "pygments_lexer": "ipython3",
   "version": "3.9.7"
  }
 },
 "nbformat": 4,
 "nbformat_minor": 5
}

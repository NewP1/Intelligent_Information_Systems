{
 "cells": [
  {
   "cell_type": "code",
   "execution_count": 1,
   "id": "3d77c57c",
   "metadata": {
    "scrolled": true
   },
   "outputs": [
    {
     "name": "stderr",
     "output_type": "stream",
     "text": [
      "C:\\Users\\jaehy\\AppData\\Local\\Temp/ipykernel_3660/1756175631.py:3: DeprecationWarning: executable_path has been deprecated, please pass in a Service object\n",
      "  driver = webdriver.Chrome(r\"C:\\Users\\jaehy\\Downloads\\driver\\chromedriver.exe\")\n"
     ]
    }
   ],
   "source": [
    "from selenium import webdriver\n",
    "\n",
    "driver = webdriver.Chrome(r\"C:\\Users\\jaehy\\Downloads\\driver\\chromedriver.exe\")"
   ]
  },
  {
   "cell_type": "code",
   "execution_count": 2,
   "id": "e625208f",
   "metadata": {},
   "outputs": [],
   "source": [
    "main_url = \"https://movie.daum.net/moviedb/grade?movieId=115112\"\n",
    "driver.get(main_url)"
   ]
  },
  {
   "cell_type": "markdown",
   "id": "d71b4ed3",
   "metadata": {},
   "source": [
    "# 1번 영화 리뷰 가져오기"
   ]
  },
  {
   "cell_type": "markdown",
   "id": "b2dcc90c",
   "metadata": {},
   "source": [
    "## 교수님께서 정해주신 최대 댓글 5000개 미만이기 때문에 전체 댓글을 끝까지 긁어올 수 있도록 더보기를 클릭하도록 했다. \n",
    "\n",
    "### 전체 평가 글 1254개"
   ]
  },
  {
   "cell_type": "code",
   "execution_count": 3,
   "id": "2b642909",
   "metadata": {},
   "outputs": [],
   "source": [
    "import time\n",
    "time.sleep(3)\n",
    "while True:\n",
    "    try:\n",
    "        more_xpath = '//*[@id=\"alex-area\"]/div/div/div/div[3]/div[1]/button'\n",
    "        driver.find_element('xpath', more_xpath).click()\n",
    "        time.sleep(3)\n",
    "    except:\n",
    "        break"
   ]
  },
  {
   "cell_type": "markdown",
   "id": "6e77a371",
   "metadata": {},
   "source": [
    "## BeautifulSoup 이용하여 위의 Selenium작업이 수행된 페이지를 받아서 원하는 부분을 크롤링"
   ]
  },
  {
   "cell_type": "code",
   "execution_count": 133,
   "id": "3a1fe386",
   "metadata": {},
   "outputs": [
    {
     "ename": "NoSuchWindowException",
     "evalue": "Message: no such window: target window already closed\nfrom unknown error: web view not found\n  (Session info: chrome=108.0.5359.99)\nStacktrace:\nBacktrace:\n\tOrdinal0 [0x008DACD3+2075859]\n\tOrdinal0 [0x0086EE61+1633889]\n\tOrdinal0 [0x0076B7BD+571325]\n\tOrdinal0 [0x00752E1A+470554]\n\tOrdinal0 [0x007BAA0B+895499]\n\tOrdinal0 [0x007CAC96+961686]\n\tOrdinal0 [0x007B7136+880950]\n\tOrdinal0 [0x0078FEFD+720637]\n\tOrdinal0 [0x00790F3F+724799]\n\tGetHandleVerifier [0x00B8EED2+2769538]\n\tGetHandleVerifier [0x00B80D95+2711877]\n\tGetHandleVerifier [0x0096A03A+521194]\n\tGetHandleVerifier [0x00968DA0+516432]\n\tOrdinal0 [0x0087682C+1665068]\n\tOrdinal0 [0x0087B128+1683752]\n\tOrdinal0 [0x0087B215+1683989]\n\tOrdinal0 [0x00886484+1729668]\n\tBaseThreadInitThunk [0x7653FEF9+25]\n\tRtlGetAppContainerNamedObjectPath [0x77197BBE+286]\n\tRtlGetAppContainerNamedObjectPath [0x77197B8E+238]\n",
     "output_type": "error",
     "traceback": [
      "\u001b[1;31m---------------------------------------------------------------------------\u001b[0m",
      "\u001b[1;31mNoSuchWindowException\u001b[0m                     Traceback (most recent call last)",
      "\u001b[1;32m~\\AppData\\Local\\Temp/ipykernel_3660/1578795116.py\u001b[0m in \u001b[0;36m<module>\u001b[1;34m\u001b[0m\n\u001b[0;32m      1\u001b[0m \u001b[1;32mfrom\u001b[0m \u001b[0mbs4\u001b[0m \u001b[1;32mimport\u001b[0m \u001b[0mBeautifulSoup\u001b[0m\u001b[1;33m\u001b[0m\u001b[1;33m\u001b[0m\u001b[0m\n\u001b[0;32m      2\u001b[0m \u001b[1;33m\u001b[0m\u001b[0m\n\u001b[1;32m----> 3\u001b[1;33m \u001b[0mhtml\u001b[0m \u001b[1;33m=\u001b[0m \u001b[0mdriver\u001b[0m\u001b[1;33m.\u001b[0m\u001b[0mpage_source\u001b[0m\u001b[1;33m\u001b[0m\u001b[1;33m\u001b[0m\u001b[0m\n\u001b[0m\u001b[0;32m      4\u001b[0m \u001b[0mcnt_neg\u001b[0m \u001b[1;33m=\u001b[0m \u001b[1;36m0\u001b[0m\u001b[1;33m\u001b[0m\u001b[1;33m\u001b[0m\u001b[0m\n\u001b[0;32m      5\u001b[0m \u001b[0mcnt_pos\u001b[0m \u001b[1;33m=\u001b[0m \u001b[1;36m0\u001b[0m\u001b[1;33m\u001b[0m\u001b[1;33m\u001b[0m\u001b[0m\n",
      "\u001b[1;32m~\\anaconda3\\lib\\site-packages\\selenium\\webdriver\\remote\\webdriver.py\u001b[0m in \u001b[0;36mpage_source\u001b[1;34m(self)\u001b[0m\n\u001b[0;32m    538\u001b[0m                 \u001b[0mdriver\u001b[0m\u001b[1;33m.\u001b[0m\u001b[0mpage_source\u001b[0m\u001b[1;33m\u001b[0m\u001b[1;33m\u001b[0m\u001b[0m\n\u001b[0;32m    539\u001b[0m         \"\"\"\n\u001b[1;32m--> 540\u001b[1;33m         \u001b[1;32mreturn\u001b[0m \u001b[0mself\u001b[0m\u001b[1;33m.\u001b[0m\u001b[0mexecute\u001b[0m\u001b[1;33m(\u001b[0m\u001b[0mCommand\u001b[0m\u001b[1;33m.\u001b[0m\u001b[0mGET_PAGE_SOURCE\u001b[0m\u001b[1;33m)\u001b[0m\u001b[1;33m[\u001b[0m\u001b[1;34m'value'\u001b[0m\u001b[1;33m]\u001b[0m\u001b[1;33m\u001b[0m\u001b[1;33m\u001b[0m\u001b[0m\n\u001b[0m\u001b[0;32m    541\u001b[0m \u001b[1;33m\u001b[0m\u001b[0m\n\u001b[0;32m    542\u001b[0m     \u001b[1;32mdef\u001b[0m \u001b[0mclose\u001b[0m\u001b[1;33m(\u001b[0m\u001b[0mself\u001b[0m\u001b[1;33m)\u001b[0m \u001b[1;33m->\u001b[0m \u001b[1;32mNone\u001b[0m\u001b[1;33m:\u001b[0m\u001b[1;33m\u001b[0m\u001b[1;33m\u001b[0m\u001b[0m\n",
      "\u001b[1;32m~\\anaconda3\\lib\\site-packages\\selenium\\webdriver\\remote\\webdriver.py\u001b[0m in \u001b[0;36mexecute\u001b[1;34m(self, driver_command, params)\u001b[0m\n\u001b[0;32m    427\u001b[0m         \u001b[0mresponse\u001b[0m \u001b[1;33m=\u001b[0m \u001b[0mself\u001b[0m\u001b[1;33m.\u001b[0m\u001b[0mcommand_executor\u001b[0m\u001b[1;33m.\u001b[0m\u001b[0mexecute\u001b[0m\u001b[1;33m(\u001b[0m\u001b[0mdriver_command\u001b[0m\u001b[1;33m,\u001b[0m \u001b[0mparams\u001b[0m\u001b[1;33m)\u001b[0m\u001b[1;33m\u001b[0m\u001b[1;33m\u001b[0m\u001b[0m\n\u001b[0;32m    428\u001b[0m         \u001b[1;32mif\u001b[0m \u001b[0mresponse\u001b[0m\u001b[1;33m:\u001b[0m\u001b[1;33m\u001b[0m\u001b[1;33m\u001b[0m\u001b[0m\n\u001b[1;32m--> 429\u001b[1;33m             \u001b[0mself\u001b[0m\u001b[1;33m.\u001b[0m\u001b[0merror_handler\u001b[0m\u001b[1;33m.\u001b[0m\u001b[0mcheck_response\u001b[0m\u001b[1;33m(\u001b[0m\u001b[0mresponse\u001b[0m\u001b[1;33m)\u001b[0m\u001b[1;33m\u001b[0m\u001b[1;33m\u001b[0m\u001b[0m\n\u001b[0m\u001b[0;32m    430\u001b[0m             response['value'] = self._unwrap_value(\n\u001b[0;32m    431\u001b[0m                 response.get('value', None))\n",
      "\u001b[1;32m~\\anaconda3\\lib\\site-packages\\selenium\\webdriver\\remote\\errorhandler.py\u001b[0m in \u001b[0;36mcheck_response\u001b[1;34m(self, response)\u001b[0m\n\u001b[0;32m    241\u001b[0m                 \u001b[0malert_text\u001b[0m \u001b[1;33m=\u001b[0m \u001b[0mvalue\u001b[0m\u001b[1;33m[\u001b[0m\u001b[1;34m'alert'\u001b[0m\u001b[1;33m]\u001b[0m\u001b[1;33m.\u001b[0m\u001b[0mget\u001b[0m\u001b[1;33m(\u001b[0m\u001b[1;34m'text'\u001b[0m\u001b[1;33m)\u001b[0m\u001b[1;33m\u001b[0m\u001b[1;33m\u001b[0m\u001b[0m\n\u001b[0;32m    242\u001b[0m             \u001b[1;32mraise\u001b[0m \u001b[0mexception_class\u001b[0m\u001b[1;33m(\u001b[0m\u001b[0mmessage\u001b[0m\u001b[1;33m,\u001b[0m \u001b[0mscreen\u001b[0m\u001b[1;33m,\u001b[0m \u001b[0mstacktrace\u001b[0m\u001b[1;33m,\u001b[0m \u001b[0malert_text\u001b[0m\u001b[1;33m)\u001b[0m  \u001b[1;31m# type: ignore[call-arg]  # mypy is not smart enough here\u001b[0m\u001b[1;33m\u001b[0m\u001b[1;33m\u001b[0m\u001b[0m\n\u001b[1;32m--> 243\u001b[1;33m         \u001b[1;32mraise\u001b[0m \u001b[0mexception_class\u001b[0m\u001b[1;33m(\u001b[0m\u001b[0mmessage\u001b[0m\u001b[1;33m,\u001b[0m \u001b[0mscreen\u001b[0m\u001b[1;33m,\u001b[0m \u001b[0mstacktrace\u001b[0m\u001b[1;33m)\u001b[0m\u001b[1;33m\u001b[0m\u001b[1;33m\u001b[0m\u001b[0m\n\u001b[0m",
      "\u001b[1;31mNoSuchWindowException\u001b[0m: Message: no such window: target window already closed\nfrom unknown error: web view not found\n  (Session info: chrome=108.0.5359.99)\nStacktrace:\nBacktrace:\n\tOrdinal0 [0x008DACD3+2075859]\n\tOrdinal0 [0x0086EE61+1633889]\n\tOrdinal0 [0x0076B7BD+571325]\n\tOrdinal0 [0x00752E1A+470554]\n\tOrdinal0 [0x007BAA0B+895499]\n\tOrdinal0 [0x007CAC96+961686]\n\tOrdinal0 [0x007B7136+880950]\n\tOrdinal0 [0x0078FEFD+720637]\n\tOrdinal0 [0x00790F3F+724799]\n\tGetHandleVerifier [0x00B8EED2+2769538]\n\tGetHandleVerifier [0x00B80D95+2711877]\n\tGetHandleVerifier [0x0096A03A+521194]\n\tGetHandleVerifier [0x00968DA0+516432]\n\tOrdinal0 [0x0087682C+1665068]\n\tOrdinal0 [0x0087B128+1683752]\n\tOrdinal0 [0x0087B215+1683989]\n\tOrdinal0 [0x00886484+1729668]\n\tBaseThreadInitThunk [0x7653FEF9+25]\n\tRtlGetAppContainerNamedObjectPath [0x77197BBE+286]\n\tRtlGetAppContainerNamedObjectPath [0x77197B8E+238]\n"
     ]
    }
   ],
   "source": [
    "from bs4 import BeautifulSoup\n",
    "\n",
    "html = driver.page_source\n",
    "cnt_neg = 0\n",
    "cnt_pos = 0\n",
    "\n",
    "soup = BeautifulSoup(html, 'html.parser')\n",
    "evaluations = soup.find_all('div', {'class':'cmt_info'})\n",
    "# print(evaluations)\n",
    "evaluation_lists = []\n",
    "for evaluation in evaluations:\n",
    "    if evaluation.find('p') is not None:\n",
    "        comment = evaluation.find('p').text.strip(' \\n')\n",
    "        point = int(evaluation.find('div').text.strip(' \\n'))\n",
    "        \n",
    "        if point == 10: label = 'pos'\n",
    "        elif point < 6: label = 'neg'\n",
    "        evaluation_lists.append((comment, label))"
   ]
  },
  {
   "cell_type": "code",
   "execution_count": 114,
   "id": "22582eeb",
   "metadata": {},
   "outputs": [],
   "source": [
    "# print(evaluation_lists)"
   ]
  },
  {
   "cell_type": "markdown",
   "id": "a0145636",
   "metadata": {},
   "source": [
    "평가와 평점을 크롤링 해오면서 평점이 __10점인 평은 긍정 리뷰__로, __6점 미만인 평은 부정 리뷰__로 바로 나눠서 evaluation_lists에 저장되도록 했다.\n",
    "\n",
    "확실한 긍정, 확실한 부정으로 나누기위해 위와 같은 기준으로 나눴다."
   ]
  },
  {
   "cell_type": "markdown",
   "id": "37fc467d",
   "metadata": {},
   "source": [
    "---"
   ]
  },
  {
   "cell_type": "code",
   "execution_count": 115,
   "id": "dde64874",
   "metadata": {},
   "outputs": [],
   "source": [
    "from wordcloud import WordCloud\n",
    "import matplotlib.pyplot as plt\n",
    "from collections import Counter\n",
    "from konlpy.tag import Okt\n",
    "okt = Okt()"
   ]
  },
  {
   "cell_type": "code",
   "execution_count": 116,
   "id": "91c7ddd8",
   "metadata": {},
   "outputs": [],
   "source": [
    "all_comment = []\n",
    "pos_comment = []\n",
    "neg_comment = []\n",
    "\n",
    "for comment in evaluation_lists:\n",
    "    all_comment.append(comment[0])\n",
    "    if comment[1] == 'pos':\n",
    "        pos_comment.append(comment[0])\n",
    "    else:\n",
    "        neg_comment.append(comment[0])\n",
    "        \n",
    "# print(all_comment[:5])"
   ]
  },
  {
   "cell_type": "code",
   "execution_count": 117,
   "id": "68c4993c",
   "metadata": {},
   "outputs": [
    {
     "data": {
      "text/plain": [
       "191"
      ]
     },
     "execution_count": 117,
     "metadata": {},
     "output_type": "execute_result"
    }
   ],
   "source": [
    "len(neg_comment)"
   ]
  },
  {
   "cell_type": "code",
   "execution_count": 118,
   "id": "b4ad862b",
   "metadata": {},
   "outputs": [
    {
     "data": {
      "text/plain": [
       "200"
      ]
     },
     "execution_count": 118,
     "metadata": {},
     "output_type": "execute_result"
    }
   ],
   "source": [
    "len(pos_comment)"
   ]
  },
  {
   "cell_type": "markdown",
   "id": "97c29739",
   "metadata": {},
   "source": [
    "---"
   ]
  },
  {
   "cell_type": "markdown",
   "id": "633dd19e",
   "metadata": {},
   "source": [
    "# 3번 나이브 베이즈"
   ]
  },
  {
   "cell_type": "markdown",
   "id": "f04faf73",
   "metadata": {},
   "source": [
    "### 1번에서 완성시킨 evaluation_lists를 가져와 학습시킨다."
   ]
  },
  {
   "cell_type": "code",
   "execution_count": 119,
   "id": "7d79f09a",
   "metadata": {},
   "outputs": [],
   "source": [
    "from nltk.tokenize import word_tokenize\n",
    "import nltk\n",
    "from collections import Counter\n",
    "from konlpy.tag import Okt\n",
    "okt = Okt()"
   ]
  },
  {
   "cell_type": "code",
   "execution_count": 134,
   "id": "b40aa8d5",
   "metadata": {},
   "outputs": [],
   "source": [
    "import math\n",
    "\n",
    "class MyNaiveBayesClassifier:\n",
    "    \n",
    "    def __init__(self, k = 0.5, use_morph=False):\n",
    "        self.k = k\n",
    "        self.word_probs = []\n",
    "        self.use_morph = use_morph\n",
    "        \n",
    "        if self.use_morph:\n",
    "            from konlpy.tag import Okt\n",
    "            self.okt = Okt()\n",
    "            \n",
    "    def load_data(self, eval_lists):\n",
    "        docs = []\n",
    "        labels = []\n",
    "        for line in eval_lists:\n",
    "            doc, label = line[0], line[1]\n",
    "            docs.append(doc)\n",
    "            labels.append(label)\n",
    "                \n",
    "        return docs[:], labels[:]\n",
    "    \n",
    "    def tokenize(self, sentence):\n",
    "        if self.use_morph:\n",
    "            pos_sent = []\n",
    "    \n",
    "            sent = okt.pos(sentence, norm=True, stem=True)\n",
    "\n",
    "            for tup in sent:\n",
    "                word, tag = tup[0], tup[1]\n",
    "                word_tag = word + '/' + tag\n",
    "                pos_sent.append(word_tag)\n",
    "            sentence = ' '.join(pos_sent)\n",
    "            \n",
    "        return sentence.split()\n",
    "    \n",
    "    def count_words(self, docs, labels):\n",
    "        \n",
    "        count_dict = dict()\n",
    "        for doc, label in zip(docs, labels):\n",
    "            for word in self.tokenize(doc):\n",
    "                if word not in count_dict:\n",
    "                    count_dict[word] = {'pos' : 0, 'neg' : 0}\n",
    "                count_dict[word][label] += 1\n",
    "        print('num of words...', len(count_dict))\n",
    "#         for key in count_dict.items():\n",
    "#             print(key)\n",
    "        return count_dict\n",
    "    \n",
    "    def word_prob(self, count_dict, pos_class_num, neg_class_num, k):\n",
    "        \n",
    "        word_prob_list = []\n",
    "        \n",
    "        for key in count_dict:\n",
    "            pos_word_num = count_dict[key]['pos']\n",
    "            neg_word_num = count_dict[key]['neg']\n",
    "            \n",
    "            pos_class_prob = (pos_word_num + k) / (pos_class_num + 2*k)\n",
    "            neg_class_prob = (neg_word_num + k) / (neg_class_num + 2*k)\n",
    "            \n",
    "            tup = (key, pos_class_prob, neg_class_prob)\n",
    "            word_prob_list.append(tup)\n",
    "#         print(word_prob_list)\n",
    "        return word_prob_list\n",
    "        \n",
    "    def class_prob(self, word_prob_list, test_sentence, use_unseen=False):\n",
    "        \n",
    "        # p(긍정|문장), p(부정|문장) 계산\n",
    "        \n",
    "        test_words = self.tokenize(test_sentence)\n",
    "        \n",
    "        sent_log_pos_class_prob, sent_log_neg_class_prob = 0.0, 0.0\n",
    "        \n",
    "        for word, word_pos_class_prob, word_neg_class_prob in word_prob_list:\n",
    "            if word in test_words:\n",
    "                sent_log_pos_class_prob = sent_log_pos_class_prob + math.log(word_pos_class_prob)\n",
    "                sent_log_neg_class_prob = sent_log_neg_class_prob + math.log(word_neg_class_prob)\n",
    "            else:\n",
    "                if use_unseen:\n",
    "                    sent_log_pos_class_prob = sent_log_pos_class_prob + math.log(1.0 - word_pos_class_prob)\n",
    "                    sent_log_neg_class_prob = sent_log_neg_class_prob + math.log(1.0 - word_neg_class_prob)\n",
    "        \n",
    "        sent_pos_class_prob = math.exp(sent_log_pos_class_prob)\n",
    "        sent_neg_class_prob = math.exp(sent_log_neg_class_prob)\n",
    "        \n",
    "        pos_class_prob = sent_pos_class_prob/(sent_pos_class_prob+sent_neg_class_prob)\n",
    "        neg_class_prob = sent_neg_class_prob/(sent_pos_class_prob+sent_neg_class_prob)\n",
    "        \n",
    "        return pos_class_prob, neg_class_prob\n",
    "    \n",
    "    def accuracy(self, test_file_path):\n",
    "        test_docs, test_labels = self.load_data(test_file_path)\n",
    "        count = 0\n",
    "        \n",
    "        for sentence, label in zip(test_docs, test_labels):\n",
    "            pos_class_prob, neg_class_prob = self.class_prob(self.word_probs, sentence, use_unseen=False)\n",
    "            \n",
    "            if label == 'pos':\n",
    "                if pos_class_prob > neg_class_prob: count += 1\n",
    "            elif label == 'neg':\n",
    "                if pos_class_prob < neg_class_prob: count += 1\n",
    "            \n",
    "        return count / len(test_docs)\n",
    "        \n",
    "    \n",
    "    def train(self, eval_lists):\n",
    "        \n",
    "        train_docs, train_labels = self.load_data(eval_lists)\n",
    "        \n",
    "        word_count_dict = self.count_words(train_docs, train_labels)\n",
    "        \n",
    "        pos_class_num = len([label for label in train_labels if label == 'pos'])\n",
    "        neg_class_num = len([label for label in train_labels if label == 'neg'])\n",
    "        \n",
    "        self.word_probs = self.word_prob(word_count_dict, pos_class_num, neg_class_num, self.k)\n",
    "        \n",
    "    def classify(self, doc, use_unseen=False):\n",
    "        \n",
    "        pos_class_prob, neg_class_prob = self.class_prob(self.word_probs, doc, use_unseen)\n",
    "        \n",
    "        if pos_class_prob > neg_class_prob:\n",
    "            print('pos', pos_class_prob)\n",
    "        else:\n",
    "            print('neg', neg_class_prob)"
   ]
  },
  {
   "cell_type": "code",
   "execution_count": 135,
   "id": "7dbdacdd",
   "metadata": {},
   "outputs": [],
   "source": [
    "classifier = MyNaiveBayesClassifier()\n",
    "# classifier.train(evaluation_lists)"
   ]
  },
  {
   "cell_type": "code",
   "execution_count": 136,
   "id": "4582a6fb",
   "metadata": {
    "scrolled": false
   },
   "outputs": [
    {
     "name": "stdout",
     "output_type": "stream",
     "text": [
      "neg 0.5\n"
     ]
    }
   ],
   "source": [
    "# test_sent = '억지스럽다'\n",
    "\n",
    "# if use_morph: test_sent = pos_tokenize(test_sent)\n",
    "# words = word_tokenize(test_sent)\n",
    "# print(words)\n",
    "# test_feature = {set_word: (set_word in words) for set_word in all_words}\n",
    "# # print(test_feature)\n",
    "\n",
    "classifier.classify('처음부터너무진부하고너무지루한편집', use_unseen=False)"
   ]
  },
  {
   "cell_type": "code",
   "execution_count": null,
   "id": "70d474b0",
   "metadata": {},
   "outputs": [],
   "source": []
  },
  {
   "cell_type": "code",
   "execution_count": null,
   "id": "6844802e",
   "metadata": {},
   "outputs": [],
   "source": []
  }
 ],
 "metadata": {
  "kernelspec": {
   "display_name": "Python 3 (ipykernel)",
   "language": "python",
   "name": "python3"
  },
  "language_info": {
   "codemirror_mode": {
    "name": "ipython",
    "version": 3
   },
   "file_extension": ".py",
   "mimetype": "text/x-python",
   "name": "python",
   "nbconvert_exporter": "python",
   "pygments_lexer": "ipython3",
   "version": "3.9.7"
  }
 },
 "nbformat": 4,
 "nbformat_minor": 5
}

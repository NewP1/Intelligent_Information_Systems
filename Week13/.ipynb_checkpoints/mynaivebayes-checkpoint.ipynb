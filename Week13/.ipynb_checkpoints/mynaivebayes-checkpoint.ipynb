{
 "cells": [
  {
   "cell_type": "code",
   "execution_count": 1,
   "id": "65e7ecfb",
   "metadata": {},
   "outputs": [],
   "source": [
    "import math\n",
    "\n",
    "class MyNaiveBayesClassifier:\n",
    "    \n",
    "    def __init__(self, k = 0.5, use_morph=False):\n",
    "        self.k = k\n",
    "        self.word_probs = []\n",
    "        self.use_morph = use_morph\n",
    "        \n",
    "        if self.use_morph:\n",
    "            from konlpy.tag import Okt\n",
    "            self.okt = Okt()\n",
    "            \n",
    "    def load_data(self, file_path):\n",
    "        docs = []\n",
    "        labels = []\n",
    "        count = 0\n",
    "        with open(file_path,'r', encoding='utf-8') as f:\n",
    "            for line in f.readlines():\n",
    "                if count == 500: break\n",
    "                line = line.strip()\n",
    "                id, doc, label = line.split('\\t')\n",
    "                docs.append(doc)\n",
    "                if label == '1' : label = 'pos'\n",
    "                elif label == '0': label = 'neg'\n",
    "                labels.append(label)\n",
    "                count += 1\n",
    "                \n",
    "        return docs[1:], labels[1:]\n",
    "    \n",
    "    def tokenize(self, sentence):\n",
    "        if self.use_morph:\n",
    "            pos_sent = []\n",
    "    \n",
    "            sent = okt.pos(sentence, norm=True, stem=True)\n",
    "\n",
    "            for tup in sent:\n",
    "                word, tag = tup[0], tup[1]\n",
    "                word_tag = word + '/' + tag\n",
    "                pos_sent.append(word_tag)\n",
    "            sentence = ' '.join(pos_sent)\n",
    "            \n",
    "        return sentence.split()\n",
    "    \n",
    "    def count_words(self, docs, labels):\n",
    "        \n",
    "        count_dict = dict()\n",
    "        for doc, label in zip(docs, labels):\n",
    "            for word in self.tokenize(doc):\n",
    "                if word not in count_dict:\n",
    "                    count_dict[word] = {'pos' : 0, 'neg' : 0}\n",
    "                count_dict[word][label] += 1\n",
    "        print('num of words...', len(count_dict))\n",
    "        return count_dict\n",
    "    \n",
    "    def word_prob(self, count_dict, pos_class_num, neg_class_num, k):\n",
    "        \n",
    "        word_prob_list = []\n",
    "        \n",
    "        for key in count_dict:\n",
    "            pos_word_num = count_dict[key]['pos']\n",
    "            neg_word_num = count_dict[key]['neg']\n",
    "            \n",
    "            pos_class_prob = (pos_word_num + k) / (pos_class_num + 2*k)\n",
    "            neg_class_prob = (neg_word_num + k) / (neg_class_num + 2*k)\n",
    "            \n",
    "            tup = (key, pos_class_prob, neg_class_prob)\n",
    "            word_prob_list.append(tup)\n",
    "            \n",
    "        return word_prob_list\n",
    "        \n",
    "    def class_prob(self, word_prob_list, test_sentence, use_unseen=False):\n",
    "        \n",
    "        test_words = self.tokenize(test_sentence)\n",
    "        \n",
    "        sent_log_pos_class_prob, sent_log_neg_class_prob = 0.0, 0.0\n",
    "        \n",
    "        for word, word_pos_class_prob, word_neg_class_prob in word_prob_list:\n",
    "            if word in test_words:\n",
    "                sent_log_pos_class_prob = sent_log_pos_class_prob + math.log(word_pos_class_prob)\n",
    "                sent_log_neg_class_prob = sent_log_neg_class_prob + math.log(word_neg_class_prob)\n",
    "            else:\n",
    "                if use_unseen:\n",
    "                    sent_log_pos_class_prob = sent_log_pos_class_prob + math.log(1.0 - word_pos_class_prob)\n",
    "                    sent_log_neg_class_prob = sent_log_neg_class_prob + math.log(1.0 - word_neg_class_prob)\n",
    "        \n",
    "        sent_pos_class_prob = math.exp(sent_log_pos_class_prob)\n",
    "        sent_neg_class_prob = math.exp(sent_log_neg_class_prob)\n",
    "        \n",
    "        pos_class_prob = sent_pos_class_prob/(sent_pos_class_prob+sent_neg_class_prob)\n",
    "        neg_class_prob = sent_neg_class_prob/(sent_pos_class_prob+sent_neg_class_prob)\n",
    "        \n",
    "        return pos_class_prob, neg_class_prob\n",
    "        \n",
    "    \n",
    "    def train(self, train_file_path):\n",
    "        \n",
    "        train_docs, train_labels = self.load_data(train_file_path)\n",
    "        \n",
    "        word_count_dict = self.count_words(train_docs, train_labels)\n",
    "        \n",
    "        pos_class_num = len([label for label in train_labels if label == 'pos'])\n",
    "        neg_class_num = len([label for label in train_labels if label == 'neg'])\n",
    "        \n",
    "        self.word_probs = self.word_prob(word_count_dict, pos_class_num, neg_class_num, self.k)\n",
    "        \n",
    "    def classify(self, doc, use_unseen=False):\n",
    "        \n",
    "        pos_class_prob, neg_class_prob = self.class_prob(self.word_probs, doc, use_unseen)\n",
    "        \n",
    "        if pos_class_prob > neg_class_prob:\n",
    "            print('pos', pos_class_prob)\n",
    "        else:\n",
    "            print('neg', neg_class_prob)"
   ]
  },
  {
   "cell_type": "code",
   "execution_count": 2,
   "id": "8a8d81fa",
   "metadata": {},
   "outputs": [
    {
     "name": "stdout",
     "output_type": "stream",
     "text": [
      "num of words... 3055\n"
     ]
    }
   ],
   "source": [
    "classifier = MyNaiveBayesClassifier()\n",
    "classifier.train('ratings_train.txt')"
   ]
  },
  {
   "cell_type": "code",
   "execution_count": 3,
   "id": "26a6285c",
   "metadata": {},
   "outputs": [
    {
     "name": "stdout",
     "output_type": "stream",
     "text": [
      "pos 0.9392181142000583\n"
     ]
    }
   ],
   "source": [
    "classifier.classify('꼭 보시길 최고의 영화', use_unseen=False)"
   ]
  },
  {
   "cell_type": "code",
   "execution_count": 11,
   "id": "57c4825e",
   "metadata": {},
   "outputs": [
    {
     "name": "stdout",
     "output_type": "stream",
     "text": [
      "pos 0.9290554296429239\n"
     ]
    }
   ],
   "source": [
    "classifier.classify('인생 영화입니다', use_unseen=False)"
   ]
  },
  {
   "cell_type": "code",
   "execution_count": 13,
   "id": "fa230ac3",
   "metadata": {},
   "outputs": [
    {
     "name": "stdout",
     "output_type": "stream",
     "text": [
      "neg 0.6562452919895833\n"
     ]
    }
   ],
   "source": [
    "classifier.classify('보다가 중간에 나왔습니다.', use_unseen=False)                                        "
   ]
  },
  {
   "cell_type": "code",
   "execution_count": 10,
   "id": "aa3f2855",
   "metadata": {},
   "outputs": [
    {
     "name": "stdout",
     "output_type": "stream",
     "text": [
      "pos 0.9705386585557745\n",
      "pos 0.8506813724201091\n",
      "pos 0.5135404361197469\n"
     ]
    }
   ],
   "source": [
    "use_unseen = True\n",
    "classifier.classify('꼭 보시길 최고의 영화', use_unseen)\n",
    "classifier.classify('인생 영화입니다', use_unseen)\n",
    "classifier.classify('보다가 중간에 나왔습니다', use_unseen)                                        "
   ]
  },
  {
   "cell_type": "markdown",
   "id": "719f5ee1",
   "metadata": {},
   "source": [
    "과연 내 프로젝트에도 적용하면 보다 정확한결과가 나올까"
   ]
  }
 ],
 "metadata": {
  "kernelspec": {
   "display_name": "Python 3 (ipykernel)",
   "language": "python",
   "name": "python3"
  },
  "language_info": {
   "codemirror_mode": {
    "name": "ipython",
    "version": 3
   },
   "file_extension": ".py",
   "mimetype": "text/x-python",
   "name": "python",
   "nbconvert_exporter": "python",
   "pygments_lexer": "ipython3",
   "version": "3.9.7"
  }
 },
 "nbformat": 4,
 "nbformat_minor": 5
}

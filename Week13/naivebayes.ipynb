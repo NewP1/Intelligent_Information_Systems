{
 "cells": [
  {
   "cell_type": "code",
   "execution_count": 2,
   "id": "7409d960",
   "metadata": {},
   "outputs": [],
   "source": [
    "from nltk.tokenize import word_tokenize\n",
    "import nltk\n"
   ]
  },
  {
   "cell_type": "code",
   "execution_count": 3,
   "id": "ff273146",
   "metadata": {},
   "outputs": [],
   "source": [
    "from konlpy.tag import Okt\n",
    "okt = Okt()"
   ]
  },
  {
   "cell_type": "code",
   "execution_count": 4,
   "id": "140b2eb1",
   "metadata": {},
   "outputs": [],
   "source": [
    "def pos_tokenize(raw_sent):\n",
    "    pos_sent = []\n",
    "    \n",
    "    sent = okt.pos(raw_sent, norm=True, stem=True)\n",
    "    \n",
    "    for tup in sent:\n",
    "        word, tag = tup[0], tup[1]\n",
    "        word_tag = word + '/' + tag\n",
    "        pos_sent.append(word_tag)\n",
    "    return ' '.join(pos_sent)"
   ]
  },
  {
   "cell_type": "code",
   "execution_count": 5,
   "id": "ec930db2",
   "metadata": {},
   "outputs": [],
   "source": [
    "def load_data(file_path):\n",
    "    train = []\n",
    "    count = 0\n",
    "    \n",
    "    with open(file_path,'r', encoding='utf-8') as f:\n",
    "        for line in f.readlines():\n",
    "            line = line.strip()\n",
    "            id, doc, label = line.split('\\t')\n",
    "            if label == '1' : label = 'pos'\n",
    "            elif label == '0': label = 'neg'\n",
    "            train.append((doc, label))\n",
    "            count += 1\n",
    "    return train"
   ]
  },
  {
   "cell_type": "code",
   "execution_count": 6,
   "id": "e86f83fb",
   "metadata": {},
   "outputs": [
    {
     "name": "stdout",
     "output_type": "stream",
     "text": [
      "[('document', 'label'), ('아 더빙.. 진짜 짜증나네요 목소리', 'neg'), ('흠...포스터보고 초딩영화줄....오버연기조차 가볍지 않구나', 'pos'), ('너무재밓었다그래서보는것을추천한다', 'neg'), ('교도소 이야기구먼 ..솔직히 재미는 없다..평점 조정', 'neg')]\n"
     ]
    }
   ],
   "source": [
    "train = load_data('ratings_train.txt')\n",
    "print(train[:5])"
   ]
  },
  {
   "cell_type": "code",
   "execution_count": 7,
   "id": "8da6cc1b",
   "metadata": {},
   "outputs": [
    {
     "name": "stdout",
     "output_type": "stream",
     "text": [
      "[('아 더빙.. 진짜 짜증나네요 목소리', 'neg'), ('흠...포스터보고 초딩영화줄....오버연기조차 가볍지 않구나', 'pos'), ('너무재밓었다그래서보는것을추천한다', 'neg'), ('교도소 이야기구먼 ..솔직히 재미는 없다..평점 조정', 'neg'), ('사이몬페그의 익살스런 연기가 돋보였던 영화!스파이더맨에서 늙어보이기만 했던 커스틴 던스트가 너무나도 이뻐보였다', 'pos')]\n"
     ]
    }
   ],
   "source": [
    "train = train[1:10]\n",
    "print(train[:5])"
   ]
  },
  {
   "cell_type": "code",
   "execution_count": 8,
   "id": "8a07b9f6",
   "metadata": {},
   "outputs": [
    {
     "data": {
      "text/plain": [
       "('ratings_train.txt', <http.client.HTTPMessage at 0x15211c06ac0>)"
      ]
     },
     "execution_count": 8,
     "metadata": {},
     "output_type": "execute_result"
    }
   ],
   "source": [
    "import urllib.request\n",
    "\n",
    "urllib.request.urlretrieve(\"https://github.com/e9t/nsmc/blob/master/ratings_train.txt\",\n",
    "                  filename=\"ratings_train.txt\")\n"
   ]
  },
  {
   "cell_type": "code",
   "execution_count": 9,
   "id": "f1f9d945",
   "metadata": {},
   "outputs": [
    {
     "data": {
      "text/plain": [
       "{'!',\n",
       " '..',\n",
       " '...',\n",
       " '....',\n",
       " './Punctuation',\n",
       " '/Punctuation',\n",
       " '1/Number',\n",
       " '3/Number',\n",
       " '8/Number',\n",
       " 'ㅋㅋㅋ/KoreanParticle',\n",
       " '가/Josa',\n",
       " '가볍다/Adjective',\n",
       " '가족/Noun',\n",
       " '감금/Noun',\n",
       " '걸음/Noun',\n",
       " '교도소/Noun',\n",
       " '구먼/Noun',\n",
       " '그/Determiner',\n",
       " '그것/Noun',\n",
       " '기/Modifier',\n",
       " '긴장감/Noun',\n",
       " '길용우/Noun',\n",
       " '나오다/Verb',\n",
       " '납치/Noun',\n",
       " '낫다/Verb',\n",
       " '너/Modifier',\n",
       " '너무나도/Adverb',\n",
       " '네/Noun',\n",
       " '년/Noun',\n",
       " '는/Josa',\n",
       " '늙다/Verb',\n",
       " '다/Adverb',\n",
       " '다그/Noun',\n",
       " '더빙/Noun',\n",
       " '던스트/Noun',\n",
       " '도/Josa',\n",
       " '돋보이다/Verb',\n",
       " '드라마/Noun',\n",
       " '떼다/Verb',\n",
       " '래서/Noun',\n",
       " '로/Josa',\n",
       " '마/Noun',\n",
       " '막/Noun',\n",
       " '만/Josa',\n",
       " '몇/Modifier',\n",
       " '몇/Noun',\n",
       " '모/Modifier',\n",
       " '목소리/Noun',\n",
       " '몬페/Noun',\n",
       " '못/VerbPrefix',\n",
       " '무재/Noun',\n",
       " '밓었/Noun',\n",
       " '반개/Noun',\n",
       " '반복/Noun',\n",
       " '발/Noun',\n",
       " '별/Modifier',\n",
       " '별/Noun',\n",
       " '보고/Noun',\n",
       " '보다/Verb',\n",
       " '보단/Josa',\n",
       " '보이다/Verb',\n",
       " '부터/Josa',\n",
       " '사람/Noun',\n",
       " '사이/Modifier',\n",
       " '살다/Verb',\n",
       " '살리다/Verb',\n",
       " '생인/Noun',\n",
       " '생활/Noun',\n",
       " '세/Noun',\n",
       " '솔직하다/Adjective',\n",
       " '스파이더맨/Noun',\n",
       " '아/Exclamation',\n",
       " '아깝다/Adjective',\n",
       " '안되다/Adjective',\n",
       " '않다/Verb',\n",
       " '액션/Noun',\n",
       " '없다/Adjective',\n",
       " '에서/Josa',\n",
       " '연/Modifier',\n",
       " '연기/Noun',\n",
       " '엿/Modifier',\n",
       " '영화/Noun',\n",
       " '오버/Noun',\n",
       " '욕/Noun',\n",
       " '움/Noun',\n",
       " '원작/Noun',\n",
       " '을/Josa',\n",
       " '의/Josa',\n",
       " '의/Noun',\n",
       " '이/Determiner',\n",
       " '이/Josa',\n",
       " '이쁘다/Adjective',\n",
       " '이야기/Noun',\n",
       " '이응경/Noun',\n",
       " '익살스럽다/Adjective',\n",
       " '인지/Josa',\n",
       " '있다/Adjective',\n",
       " '재미/Noun',\n",
       " '정말/Noun',\n",
       " '제대로/Noun',\n",
       " '조정/Noun',\n",
       " '조차/Josa',\n",
       " '줄/Noun',\n",
       " '진짜/Noun',\n",
       " '짜증나다/Adjective',\n",
       " '초등학교/Noun',\n",
       " '초딩/Noun',\n",
       " '추천/Noun',\n",
       " '커스틴/Noun',\n",
       " '평점/Noun',\n",
       " '포스터/Noun',\n",
       " '하다/Verb',\n",
       " '학년/Noun',\n",
       " '한/Josa',\n",
       " '해도/Noun',\n",
       " '흠/Noun'}"
      ]
     },
     "execution_count": 9,
     "metadata": {},
     "output_type": "execute_result"
    }
   ],
   "source": [
    "all_words = set()\n",
    "\n",
    "for tup in train:\n",
    "    sent, label = tup[0], tup[1]\n",
    "    sent = pos_tokenize(sent)\n",
    "    words = word_tokenize(sent)\n",
    "    for word in words:\n",
    "        all_words.add(word)\n",
    "all_words"
   ]
  },
  {
   "cell_type": "code",
   "execution_count": 10,
   "id": "8a1c54f9",
   "metadata": {},
   "outputs": [
    {
     "name": "stdout",
     "output_type": "stream",
     "text": [
      "({'밓었/Noun': False, '제대로/Noun': False, '목소리/Noun': True, '낫다/Verb': False, '...': False, '몇/Modifier': False, '모/Modifier': False, '원작/Noun': False, '사람/Noun': False, '액션/Noun': False, '다그/Noun': False, './Punctuation': False, '무재/Noun': False, '더빙/Noun': True, '을/Josa': False, '걸음/Noun': False, '막/Noun': False, '..': True, '부터/Josa': False, '가볍다/Adjective': False, '가/Josa': False, '안되다/Adjective': False, '못/VerbPrefix': False, '조정/Noun': False, '네/Noun': False, '발/Noun': False, '떼다/Verb': False, '학년/Noun': False, '긴장감/Noun': False, '사이/Modifier': False, '!': False, '오버/Noun': False, '8/Number': False, '보다/Verb': False, '몬페/Noun': False, '돋보이다/Verb': False, '재미/Noun': False, '몇/Noun': False, '감금/Noun': False, '짜증나다/Adjective': True, '이/Josa': False, '욕/Noun': False, '초딩/Noun': False, '교도소/Noun': False, '초등학교/Noun': False, '아깝다/Adjective': False, '....': False, '없다/Adjective': False, '가족/Noun': False, '는/Josa': False, '마/Noun': False, '만/Josa': False, '의/Josa': False, '줄/Noun': False, '이/Determiner': False, '엿/Modifier': False, '있다/Adjective': False, '추천/Noun': False, '연/Modifier': False, '세/Noun': False, '움/Noun': False, '너/Modifier': False, '드라마/Noun': False, '이쁘다/Adjective': False, '나오다/Verb': False, '인지/Josa': False, '보단/Josa': False, '의/Noun': False, '살리다/Verb': False, '너무나도/Adverb': False, '년/Noun': False, '스파이더맨/Noun': False, '연기/Noun': False, '생활/Noun': False, '별/Modifier': False, '살다/Verb': False, '래서/Noun': False, '커스틴/Noun': False, '익살스럽다/Adjective': False, '이응경/Noun': False, '아/Exclamation': True, '영화/Noun': False, '보이다/Verb': False, '않다/Verb': False, '조차/Josa': False, '반복/Noun': False, '늙다/Verb': False, '기/Modifier': False, '납치/Noun': False, '다/Adverb': False, '길용우/Noun': False, '해도/Noun': False, '3/Number': False, '한/Josa': False, '에서/Josa': False, '생인/Noun': False, '던스트/Noun': False, '흠/Noun': False, '진짜/Noun': True, '솔직하다/Adjective': False, '/Punctuation': True, '도/Josa': False, '별/Noun': False, '평점/Noun': False, '1/Number': False, '구먼/Noun': False, '그/Determiner': False, '이야기/Noun': False, '하다/Verb': False, '그것/Noun': False, '로/Josa': False, '보고/Noun': False, '정말/Noun': False, 'ㅋㅋㅋ/KoreanParticle': False, '포스터/Noun': False, '반개/Noun': False}, 'neg')\n",
      "({'밓었/Noun': False, '제대로/Noun': False, '목소리/Noun': False, '낫다/Verb': False, '...': True, '몇/Modifier': False, '모/Modifier': False, '원작/Noun': False, '사람/Noun': False, '액션/Noun': False, '다그/Noun': False, './Punctuation': False, '무재/Noun': False, '더빙/Noun': False, '을/Josa': False, '걸음/Noun': False, '막/Noun': False, '..': False, '부터/Josa': False, '가볍다/Adjective': True, '가/Josa': False, '안되다/Adjective': False, '못/VerbPrefix': False, '조정/Noun': False, '네/Noun': False, '발/Noun': False, '떼다/Verb': False, '학년/Noun': False, '긴장감/Noun': False, '사이/Modifier': False, '!': False, '오버/Noun': True, '8/Number': False, '보다/Verb': False, '몬페/Noun': False, '돋보이다/Verb': False, '재미/Noun': False, '몇/Noun': False, '감금/Noun': False, '짜증나다/Adjective': False, '이/Josa': False, '욕/Noun': False, '초딩/Noun': True, '교도소/Noun': False, '초등학교/Noun': False, '아깝다/Adjective': False, '....': True, '없다/Adjective': False, '가족/Noun': False, '는/Josa': False, '마/Noun': False, '만/Josa': False, '의/Josa': False, '줄/Noun': True, '이/Determiner': False, '엿/Modifier': False, '있다/Adjective': False, '추천/Noun': False, '연/Modifier': False, '세/Noun': False, '움/Noun': False, '너/Modifier': False, '드라마/Noun': False, '이쁘다/Adjective': False, '나오다/Verb': False, '인지/Josa': False, '보단/Josa': False, '의/Noun': False, '살리다/Verb': False, '너무나도/Adverb': False, '년/Noun': False, '스파이더맨/Noun': False, '연기/Noun': True, '생활/Noun': False, '별/Modifier': False, '살다/Verb': False, '래서/Noun': False, '커스틴/Noun': False, '익살스럽다/Adjective': False, '이응경/Noun': False, '아/Exclamation': False, '영화/Noun': True, '보이다/Verb': False, '않다/Verb': True, '조차/Josa': True, '반복/Noun': False, '늙다/Verb': False, '기/Modifier': False, '납치/Noun': False, '다/Adverb': False, '길용우/Noun': False, '해도/Noun': False, '3/Number': False, '한/Josa': False, '에서/Josa': False, '생인/Noun': False, '던스트/Noun': False, '흠/Noun': True, '진짜/Noun': False, '솔직하다/Adjective': False, '/Punctuation': True, '도/Josa': False, '별/Noun': False, '평점/Noun': False, '1/Number': False, '구먼/Noun': False, '그/Determiner': False, '이야기/Noun': False, '하다/Verb': False, '그것/Noun': False, '로/Josa': False, '보고/Noun': True, '정말/Noun': False, 'ㅋㅋㅋ/KoreanParticle': False, '포스터/Noun': True, '반개/Noun': False}, 'pos')\n",
      "({'밓었/Noun': True, '제대로/Noun': False, '목소리/Noun': False, '낫다/Verb': False, '...': False, '몇/Modifier': False, '모/Modifier': False, '원작/Noun': False, '사람/Noun': False, '액션/Noun': False, '다그/Noun': True, './Punctuation': False, '무재/Noun': True, '더빙/Noun': False, '을/Josa': False, '걸음/Noun': False, '막/Noun': False, '..': False, '부터/Josa': False, '가볍다/Adjective': False, '가/Josa': False, '안되다/Adjective': False, '못/VerbPrefix': False, '조정/Noun': False, '네/Noun': False, '발/Noun': False, '떼다/Verb': False, '학년/Noun': False, '긴장감/Noun': False, '사이/Modifier': False, '!': False, '오버/Noun': False, '8/Number': False, '보다/Verb': True, '몬페/Noun': False, '돋보이다/Verb': False, '재미/Noun': False, '몇/Noun': False, '감금/Noun': False, '짜증나다/Adjective': False, '이/Josa': False, '욕/Noun': False, '초딩/Noun': False, '교도소/Noun': False, '초등학교/Noun': False, '아깝다/Adjective': False, '....': False, '없다/Adjective': False, '가족/Noun': False, '는/Josa': False, '마/Noun': False, '만/Josa': False, '의/Josa': False, '줄/Noun': False, '이/Determiner': False, '엿/Modifier': False, '있다/Adjective': False, '추천/Noun': True, '연/Modifier': False, '세/Noun': False, '움/Noun': False, '너/Modifier': True, '드라마/Noun': False, '이쁘다/Adjective': False, '나오다/Verb': False, '인지/Josa': False, '보단/Josa': False, '의/Noun': False, '살리다/Verb': False, '너무나도/Adverb': False, '년/Noun': False, '스파이더맨/Noun': False, '연기/Noun': False, '생활/Noun': False, '별/Modifier': False, '살다/Verb': False, '래서/Noun': True, '커스틴/Noun': False, '익살스럽다/Adjective': False, '이응경/Noun': False, '아/Exclamation': False, '영화/Noun': False, '보이다/Verb': False, '않다/Verb': False, '조차/Josa': False, '반복/Noun': False, '늙다/Verb': False, '기/Modifier': False, '납치/Noun': False, '다/Adverb': True, '길용우/Noun': False, '해도/Noun': False, '3/Number': False, '한/Josa': True, '에서/Josa': False, '생인/Noun': False, '던스트/Noun': False, '흠/Noun': False, '진짜/Noun': False, '솔직하다/Adjective': False, '/Punctuation': False, '도/Josa': False, '별/Noun': False, '평점/Noun': False, '1/Number': False, '구먼/Noun': False, '그/Determiner': False, '이야기/Noun': False, '하다/Verb': False, '그것/Noun': False, '로/Josa': False, '보고/Noun': False, '정말/Noun': False, 'ㅋㅋㅋ/KoreanParticle': False, '포스터/Noun': False, '반개/Noun': False}, 'neg')\n",
      "({'밓었/Noun': False, '제대로/Noun': False, '목소리/Noun': False, '낫다/Verb': False, '...': False, '몇/Modifier': False, '모/Modifier': False, '원작/Noun': False, '사람/Noun': False, '액션/Noun': False, '다그/Noun': False, './Punctuation': False, '무재/Noun': False, '더빙/Noun': False, '을/Josa': False, '걸음/Noun': False, '막/Noun': False, '..': True, '부터/Josa': False, '가볍다/Adjective': False, '가/Josa': False, '안되다/Adjective': False, '못/VerbPrefix': False, '조정/Noun': True, '네/Noun': False, '발/Noun': False, '떼다/Verb': False, '학년/Noun': False, '긴장감/Noun': False, '사이/Modifier': False, '!': False, '오버/Noun': False, '8/Number': False, '보다/Verb': False, '몬페/Noun': False, '돋보이다/Verb': False, '재미/Noun': True, '몇/Noun': False, '감금/Noun': False, '짜증나다/Adjective': False, '이/Josa': False, '욕/Noun': False, '초딩/Noun': False, '교도소/Noun': True, '초등학교/Noun': False, '아깝다/Adjective': False, '....': False, '없다/Adjective': True, '가족/Noun': False, '는/Josa': True, '마/Noun': False, '만/Josa': False, '의/Josa': False, '줄/Noun': False, '이/Determiner': False, '엿/Modifier': False, '있다/Adjective': False, '추천/Noun': False, '연/Modifier': False, '세/Noun': False, '움/Noun': False, '너/Modifier': False, '드라마/Noun': False, '이쁘다/Adjective': False, '나오다/Verb': False, '인지/Josa': False, '보단/Josa': False, '의/Noun': False, '살리다/Verb': False, '너무나도/Adverb': False, '년/Noun': False, '스파이더맨/Noun': False, '연기/Noun': False, '생활/Noun': False, '별/Modifier': False, '살다/Verb': False, '래서/Noun': False, '커스틴/Noun': False, '익살스럽다/Adjective': False, '이응경/Noun': False, '아/Exclamation': False, '영화/Noun': False, '보이다/Verb': False, '않다/Verb': False, '조차/Josa': False, '반복/Noun': False, '늙다/Verb': False, '기/Modifier': False, '납치/Noun': False, '다/Adverb': False, '길용우/Noun': False, '해도/Noun': False, '3/Number': False, '한/Josa': False, '에서/Josa': False, '생인/Noun': False, '던스트/Noun': False, '흠/Noun': False, '진짜/Noun': False, '솔직하다/Adjective': True, '/Punctuation': True, '도/Josa': False, '별/Noun': False, '평점/Noun': True, '1/Number': False, '구먼/Noun': True, '그/Determiner': False, '이야기/Noun': True, '하다/Verb': False, '그것/Noun': False, '로/Josa': False, '보고/Noun': False, '정말/Noun': False, 'ㅋㅋㅋ/KoreanParticle': False, '포스터/Noun': False, '반개/Noun': False}, 'neg')\n",
      "({'밓었/Noun': False, '제대로/Noun': False, '목소리/Noun': False, '낫다/Verb': False, '...': False, '몇/Modifier': False, '모/Modifier': False, '원작/Noun': False, '사람/Noun': False, '액션/Noun': False, '다그/Noun': False, './Punctuation': False, '무재/Noun': False, '더빙/Noun': False, '을/Josa': False, '걸음/Noun': False, '막/Noun': False, '..': False, '부터/Josa': False, '가볍다/Adjective': False, '가/Josa': True, '안되다/Adjective': False, '못/VerbPrefix': False, '조정/Noun': False, '네/Noun': False, '발/Noun': False, '떼다/Verb': False, '학년/Noun': False, '긴장감/Noun': False, '사이/Modifier': True, '!': True, '오버/Noun': False, '8/Number': False, '보다/Verb': False, '몬페/Noun': True, '돋보이다/Verb': True, '재미/Noun': False, '몇/Noun': False, '감금/Noun': False, '짜증나다/Adjective': False, '이/Josa': False, '욕/Noun': False, '초딩/Noun': False, '교도소/Noun': False, '초등학교/Noun': False, '아깝다/Adjective': False, '....': False, '없다/Adjective': False, '가족/Noun': False, '는/Josa': False, '마/Noun': False, '만/Josa': False, '의/Josa': False, '줄/Noun': False, '이/Determiner': False, '엿/Modifier': False, '있다/Adjective': False, '추천/Noun': False, '연/Modifier': False, '세/Noun': False, '움/Noun': False, '너/Modifier': False, '드라마/Noun': False, '이쁘다/Adjective': True, '나오다/Verb': False, '인지/Josa': False, '보단/Josa': False, '의/Noun': True, '살리다/Verb': False, '너무나도/Adverb': True, '년/Noun': False, '스파이더맨/Noun': True, '연기/Noun': True, '생활/Noun': False, '별/Modifier': False, '살다/Verb': False, '래서/Noun': False, '커스틴/Noun': True, '익살스럽다/Adjective': True, '이응경/Noun': False, '아/Exclamation': False, '영화/Noun': True, '보이다/Verb': True, '않다/Verb': False, '조차/Josa': False, '반복/Noun': False, '늙다/Verb': True, '기/Modifier': False, '납치/Noun': False, '다/Adverb': False, '길용우/Noun': False, '해도/Noun': False, '3/Number': False, '한/Josa': False, '에서/Josa': True, '생인/Noun': False, '던스트/Noun': True, '흠/Noun': False, '진짜/Noun': False, '솔직하다/Adjective': False, '/Punctuation': True, '도/Josa': False, '별/Noun': False, '평점/Noun': False, '1/Number': False, '구먼/Noun': False, '그/Determiner': True, '이야기/Noun': False, '하다/Verb': True, '그것/Noun': False, '로/Josa': False, '보고/Noun': False, '정말/Noun': False, 'ㅋㅋㅋ/KoreanParticle': False, '포스터/Noun': False, '반개/Noun': False}, 'pos')\n",
      "({'밓었/Noun': False, '제대로/Noun': False, '목소리/Noun': False, '낫다/Verb': False, '...': True, '몇/Modifier': False, '모/Modifier': False, '원작/Noun': False, '사람/Noun': False, '액션/Noun': False, '다그/Noun': False, './Punctuation': True, '무재/Noun': False, '더빙/Noun': False, '을/Josa': False, '걸음/Noun': True, '막/Noun': True, '..': False, '부터/Josa': True, '가볍다/Adjective': False, '가/Josa': False, '안되다/Adjective': False, '못/VerbPrefix': False, '조정/Noun': False, '네/Noun': False, '발/Noun': False, '떼다/Verb': True, '학년/Noun': True, '긴장감/Noun': False, '사이/Modifier': False, '!': False, '오버/Noun': False, '8/Number': True, '보다/Verb': False, '몬페/Noun': False, '돋보이다/Verb': False, '재미/Noun': False, '몇/Noun': False, '감금/Noun': False, '짜증나다/Adjective': False, '이/Josa': False, '욕/Noun': False, '초딩/Noun': False, '교도소/Noun': False, '초등학교/Noun': True, '아깝다/Adjective': True, '....': False, '없다/Adjective': False, '가족/Noun': False, '는/Josa': False, '마/Noun': True, '만/Josa': False, '의/Josa': False, '줄/Noun': False, '이/Determiner': False, '엿/Modifier': False, '있다/Adjective': False, '추천/Noun': False, '연/Modifier': False, '세/Noun': True, '움/Noun': True, '너/Modifier': False, '드라마/Noun': False, '이쁘다/Adjective': False, '나오다/Verb': False, '인지/Josa': False, '보단/Josa': False, '의/Noun': False, '살리다/Verb': False, '너무나도/Adverb': False, '년/Noun': False, '스파이더맨/Noun': False, '연기/Noun': False, '생활/Noun': False, '별/Modifier': True, '살다/Verb': True, '래서/Noun': False, '커스틴/Noun': False, '익살스럽다/Adjective': False, '이응경/Noun': False, '아/Exclamation': False, '영화/Noun': True, '보이다/Verb': False, '않다/Verb': False, '조차/Josa': False, '반복/Noun': False, '늙다/Verb': False, '기/Modifier': False, '납치/Noun': False, '다/Adverb': False, '길용우/Noun': False, '해도/Noun': False, '3/Number': True, '한/Josa': False, '에서/Josa': False, '생인/Noun': True, '던스트/Noun': False, '흠/Noun': False, '진짜/Noun': False, '솔직하다/Adjective': False, '/Punctuation': True, '도/Josa': True, '별/Noun': False, '평점/Noun': False, '1/Number': True, '구먼/Noun': False, '그/Determiner': False, '이야기/Noun': False, '하다/Verb': False, '그것/Noun': False, '로/Josa': False, '보고/Noun': False, '정말/Noun': False, 'ㅋㅋㅋ/KoreanParticle': True, '포스터/Noun': False, '반개/Noun': True}, 'neg')\n",
      "({'밓었/Noun': False, '제대로/Noun': True, '목소리/Noun': False, '낫다/Verb': False, '...': False, '몇/Modifier': False, '모/Modifier': False, '원작/Noun': True, '사람/Noun': False, '액션/Noun': False, '다그/Noun': False, './Punctuation': True, '무재/Noun': False, '더빙/Noun': False, '을/Josa': True, '걸음/Noun': False, '막/Noun': False, '..': False, '부터/Josa': False, '가볍다/Adjective': False, '가/Josa': False, '안되다/Adjective': False, '못/VerbPrefix': False, '조정/Noun': False, '네/Noun': False, '발/Noun': False, '떼다/Verb': False, '학년/Noun': False, '긴장감/Noun': True, '사이/Modifier': False, '!': False, '오버/Noun': False, '8/Number': False, '보다/Verb': False, '몬페/Noun': False, '돋보이다/Verb': False, '재미/Noun': False, '몇/Noun': False, '감금/Noun': False, '짜증나다/Adjective': False, '이/Josa': False, '욕/Noun': False, '초딩/Noun': False, '교도소/Noun': False, '초등학교/Noun': False, '아깝다/Adjective': False, '....': False, '없다/Adjective': False, '가족/Noun': False, '는/Josa': False, '마/Noun': False, '만/Josa': False, '의/Josa': True, '줄/Noun': False, '이/Determiner': False, '엿/Modifier': False, '있다/Adjective': False, '추천/Noun': False, '연/Modifier': False, '세/Noun': False, '움/Noun': False, '너/Modifier': False, '드라마/Noun': False, '이쁘다/Adjective': False, '나오다/Verb': False, '인지/Josa': False, '보단/Josa': False, '의/Noun': False, '살리다/Verb': True, '너무나도/Adverb': False, '년/Noun': False, '스파이더맨/Noun': False, '연기/Noun': False, '생활/Noun': False, '별/Modifier': False, '살다/Verb': False, '래서/Noun': False, '커스틴/Noun': False, '익살스럽다/Adjective': False, '이응경/Noun': False, '아/Exclamation': False, '영화/Noun': False, '보이다/Verb': False, '않다/Verb': False, '조차/Josa': False, '반복/Noun': False, '늙다/Verb': False, '기/Modifier': False, '납치/Noun': False, '다/Adverb': False, '길용우/Noun': False, '해도/Noun': False, '3/Number': False, '한/Josa': False, '에서/Josa': False, '생인/Noun': False, '던스트/Noun': False, '흠/Noun': False, '진짜/Noun': False, '솔직하다/Adjective': False, '/Punctuation': False, '도/Josa': False, '별/Noun': False, '평점/Noun': False, '1/Number': False, '구먼/Noun': False, '그/Determiner': False, '이야기/Noun': False, '하다/Verb': True, '그것/Noun': False, '로/Josa': False, '보고/Noun': False, '정말/Noun': False, 'ㅋㅋㅋ/KoreanParticle': False, '포스터/Noun': False, '반개/Noun': False}, 'neg')\n",
      "({'밓었/Noun': False, '제대로/Noun': False, '목소리/Noun': False, '낫다/Verb': True, '...': False, '몇/Modifier': True, '모/Modifier': True, '원작/Noun': False, '사람/Noun': True, '액션/Noun': False, '다그/Noun': False, './Punctuation': True, '무재/Noun': False, '더빙/Noun': False, '을/Josa': False, '걸음/Noun': False, '막/Noun': False, '..': True, '부터/Josa': False, '가볍다/Adjective': False, '가/Josa': False, '안되다/Adjective': False, '못/VerbPrefix': True, '조정/Noun': False, '네/Noun': True, '발/Noun': True, '떼다/Verb': False, '학년/Noun': False, '긴장감/Noun': False, '사이/Modifier': False, '!': False, '오버/Noun': False, '8/Number': False, '보다/Verb': False, '몬페/Noun': False, '돋보이다/Verb': False, '재미/Noun': False, '몇/Noun': False, '감금/Noun': True, '짜증나다/Adjective': False, '이/Josa': True, '욕/Noun': True, '초딩/Noun': False, '교도소/Noun': False, '초등학교/Noun': False, '아깝다/Adjective': True, '....': False, '없다/Adjective': True, '가족/Noun': True, '는/Josa': True, '마/Noun': False, '만/Josa': True, '의/Josa': False, '줄/Noun': False, '이/Determiner': True, '엿/Modifier': True, '있다/Adjective': False, '추천/Noun': False, '연/Modifier': True, '세/Noun': False, '움/Noun': False, '너/Modifier': False, '드라마/Noun': True, '이쁘다/Adjective': False, '나오다/Verb': True, '인지/Josa': True, '보단/Josa': True, '의/Noun': False, '살리다/Verb': False, '너무나도/Adverb': False, '년/Noun': True, '스파이더맨/Noun': False, '연기/Noun': True, '생활/Noun': True, '별/Modifier': False, '살다/Verb': False, '래서/Noun': False, '커스틴/Noun': False, '익살스럽다/Adjective': False, '이응경/Noun': True, '아/Exclamation': False, '영화/Noun': False, '보이다/Verb': False, '않다/Verb': False, '조차/Josa': False, '반복/Noun': True, '늙다/Verb': False, '기/Modifier': True, '납치/Noun': True, '다/Adverb': False, '길용우/Noun': True, '해도/Noun': True, '3/Number': False, '한/Josa': False, '에서/Josa': False, '생인/Noun': False, '던스트/Noun': False, '흠/Noun': False, '진짜/Noun': False, '솔직하다/Adjective': False, '/Punctuation': True, '도/Josa': True, '별/Noun': True, '평점/Noun': False, '1/Number': False, '구먼/Noun': False, '그/Determiner': False, '이야기/Noun': False, '하다/Verb': True, '그것/Noun': True, '로/Josa': True, '보고/Noun': False, '정말/Noun': True, 'ㅋㅋㅋ/KoreanParticle': False, '포스터/Noun': False, '반개/Noun': True}, 'neg')\n",
      "({'밓었/Noun': False, '제대로/Noun': False, '목소리/Noun': False, '낫다/Verb': False, '...': False, '몇/Modifier': False, '모/Modifier': False, '원작/Noun': False, '사람/Noun': False, '액션/Noun': True, '다그/Noun': False, './Punctuation': False, '무재/Noun': False, '더빙/Noun': False, '을/Josa': False, '걸음/Noun': False, '막/Noun': False, '..': False, '부터/Josa': False, '가볍다/Adjective': False, '가/Josa': False, '안되다/Adjective': True, '못/VerbPrefix': False, '조정/Noun': False, '네/Noun': False, '발/Noun': False, '떼다/Verb': False, '학년/Noun': False, '긴장감/Noun': False, '사이/Modifier': False, '!': False, '오버/Noun': False, '8/Number': False, '보다/Verb': False, '몬페/Noun': False, '돋보이다/Verb': False, '재미/Noun': True, '몇/Noun': True, '감금/Noun': False, '짜증나다/Adjective': False, '이/Josa': True, '욕/Noun': False, '초딩/Noun': False, '교도소/Noun': False, '초등학교/Noun': False, '아깝다/Adjective': False, '....': False, '없다/Adjective': True, '가족/Noun': False, '는/Josa': False, '마/Noun': False, '만/Josa': False, '의/Josa': False, '줄/Noun': False, '이/Determiner': False, '엿/Modifier': False, '있다/Adjective': True, '추천/Noun': False, '연/Modifier': False, '세/Noun': False, '움/Noun': False, '너/Modifier': False, '드라마/Noun': False, '이쁘다/Adjective': False, '나오다/Verb': False, '인지/Josa': False, '보단/Josa': False, '의/Noun': False, '살리다/Verb': False, '너무나도/Adverb': False, '년/Noun': False, '스파이더맨/Noun': False, '연기/Noun': False, '생활/Noun': False, '별/Modifier': False, '살다/Verb': False, '래서/Noun': False, '커스틴/Noun': False, '익살스럽다/Adjective': False, '이응경/Noun': False, '아/Exclamation': False, '영화/Noun': True, '보이다/Verb': False, '않다/Verb': False, '조차/Josa': False, '반복/Noun': False, '늙다/Verb': False, '기/Modifier': False, '납치/Noun': False, '다/Adverb': False, '길용우/Noun': False, '해도/Noun': False, '3/Number': False, '한/Josa': False, '에서/Josa': False, '생인/Noun': False, '던스트/Noun': False, '흠/Noun': False, '진짜/Noun': False, '솔직하다/Adjective': False, '/Punctuation': False, '도/Josa': False, '별/Noun': False, '평점/Noun': False, '1/Number': False, '구먼/Noun': False, '그/Determiner': False, '이야기/Noun': False, '하다/Verb': False, '그것/Noun': False, '로/Josa': False, '보고/Noun': False, '정말/Noun': False, 'ㅋㅋㅋ/KoreanParticle': False, '포스터/Noun': False, '반개/Noun': False}, 'pos')\n"
     ]
    }
   ],
   "source": [
    "# 위에꺼 간략하게 작성하기\n",
    "\n",
    "train_features = []\n",
    "\n",
    "for tup in train:\n",
    "    sent, label = tup[0], tup[1]\n",
    "    sent = pos_tokenize(sent)\n",
    "    words = word_tokenize(sent)\n",
    "\n",
    "    tmp = {set_word: (set_word in words) for set_word in all_words}\n",
    "    sent_tup = (tmp, label)\n",
    "    train_features.append(sent_tup)\n",
    "    \n",
    "for i in range(len(train_features)):\n",
    "               print(train_features[i])"
   ]
  },
  {
   "cell_type": "code",
   "execution_count": 11,
   "id": "7ba467cb",
   "metadata": {},
   "outputs": [
    {
     "name": "stdout",
     "output_type": "stream",
     "text": [
      "Most Informative Features\n",
      "                 영화/Noun = True              pos : neg    =      4.1 : 1.0\n",
      "                 연기/Noun = True              pos : neg    =      2.9 : 1.0\n",
      "                 연기/Noun = False             neg : pos    =      2.1 : 1.0\n",
      "                      .. = False             pos : neg    =      1.8 : 1.0\n",
      "                     ... = True              pos : neg    =      1.8 : 1.0\n",
      "           ./Punctuation = False             pos : neg    =      1.8 : 1.0\n",
      "                  이/Josa = True              pos : neg    =      1.8 : 1.0\n",
      "                 재미/Noun = True              pos : neg    =      1.8 : 1.0\n",
      "                       ! = False             neg : pos    =      1.5 : 1.0\n",
      "                    .... = False             neg : pos    =      1.5 : 1.0\n",
      "                  가/Josa = False             neg : pos    =      1.5 : 1.0\n",
      "           가볍다/Adjective = False             neg : pos    =      1.5 : 1.0\n",
      "            그/Determiner = False             neg : pos    =      1.5 : 1.0\n",
      "             너무나도/Adverb = False             neg : pos    =      1.5 : 1.0\n",
      "                 늙다/Verb = False             neg : pos    =      1.5 : 1.0\n",
      "                던스트/Noun = False             neg : pos    =      1.5 : 1.0\n",
      "               돋보이다/Verb = False             neg : pos    =      1.5 : 1.0\n",
      "                  몇/Noun = False             neg : pos    =      1.5 : 1.0\n",
      "                 몬페/Noun = False             neg : pos    =      1.5 : 1.0\n",
      "                 보고/Noun = False             neg : pos    =      1.5 : 1.0\n",
      "                보이다/Verb = False             neg : pos    =      1.5 : 1.0\n",
      "             사이/Modifier = False             neg : pos    =      1.5 : 1.0\n",
      "              스파이더맨/Noun = False             neg : pos    =      1.5 : 1.0\n",
      "           안되다/Adjective = False             neg : pos    =      1.5 : 1.0\n",
      "                 않다/Verb = False             neg : pos    =      1.5 : 1.0\n",
      "                 액션/Noun = False             neg : pos    =      1.5 : 1.0\n",
      "                 에서/Josa = False             neg : pos    =      1.5 : 1.0\n",
      "                 오버/Noun = False             neg : pos    =      1.5 : 1.0\n",
      "                  의/Noun = False             neg : pos    =      1.5 : 1.0\n",
      "           이쁘다/Adjective = False             neg : pos    =      1.5 : 1.0\n",
      "         익살스럽다/Adjective = False             neg : pos    =      1.5 : 1.0\n",
      "            있다/Adjective = False             neg : pos    =      1.5 : 1.0\n",
      "                 조차/Josa = False             neg : pos    =      1.5 : 1.0\n",
      "                  줄/Noun = False             neg : pos    =      1.5 : 1.0\n",
      "                 초딩/Noun = False             neg : pos    =      1.5 : 1.0\n",
      "                커스틴/Noun = False             neg : pos    =      1.5 : 1.0\n",
      "                포스터/Noun = False             neg : pos    =      1.5 : 1.0\n",
      "                  흠/Noun = False             neg : pos    =      1.5 : 1.0\n",
      "                  는/Josa = False             pos : neg    =      1.4 : 1.0\n",
      "                  도/Josa = False             pos : neg    =      1.4 : 1.0\n",
      "                 반개/Noun = False             pos : neg    =      1.4 : 1.0\n",
      "           아깝다/Adjective = False             pos : neg    =      1.4 : 1.0\n",
      "                     ... = False             neg : pos    =      1.3 : 1.0\n",
      "                  이/Josa = False             neg : pos    =      1.3 : 1.0\n",
      "                 재미/Noun = False             neg : pos    =      1.3 : 1.0\n",
      "                1/Number = False             pos : neg    =      1.1 : 1.0\n",
      "                3/Number = False             pos : neg    =      1.1 : 1.0\n",
      "                8/Number = False             pos : neg    =      1.1 : 1.0\n",
      "      ㅋㅋㅋ/KoreanParticle = False             pos : neg    =      1.1 : 1.0\n",
      "                 가족/Noun = False             pos : neg    =      1.1 : 1.0\n",
      "                 감금/Noun = False             pos : neg    =      1.1 : 1.0\n",
      "                 걸음/Noun = False             pos : neg    =      1.1 : 1.0\n",
      "                교도소/Noun = False             pos : neg    =      1.1 : 1.0\n",
      "                 구먼/Noun = False             pos : neg    =      1.1 : 1.0\n",
      "                 그것/Noun = False             pos : neg    =      1.1 : 1.0\n",
      "              기/Modifier = False             pos : neg    =      1.1 : 1.0\n",
      "                긴장감/Noun = False             pos : neg    =      1.1 : 1.0\n",
      "                길용우/Noun = False             pos : neg    =      1.1 : 1.0\n",
      "                나오다/Verb = False             pos : neg    =      1.1 : 1.0\n",
      "                 납치/Noun = False             pos : neg    =      1.1 : 1.0\n",
      "                 낫다/Verb = False             pos : neg    =      1.1 : 1.0\n",
      "              너/Modifier = False             pos : neg    =      1.1 : 1.0\n",
      "                  네/Noun = False             pos : neg    =      1.1 : 1.0\n",
      "                  년/Noun = False             pos : neg    =      1.1 : 1.0\n",
      "                다/Adverb = False             pos : neg    =      1.1 : 1.0\n",
      "                 다그/Noun = False             pos : neg    =      1.1 : 1.0\n",
      "                 더빙/Noun = False             pos : neg    =      1.1 : 1.0\n",
      "                드라마/Noun = False             pos : neg    =      1.1 : 1.0\n",
      "                 떼다/Verb = False             pos : neg    =      1.1 : 1.0\n",
      "                 래서/Noun = False             pos : neg    =      1.1 : 1.0\n",
      "                  로/Josa = False             pos : neg    =      1.1 : 1.0\n",
      "                  마/Noun = False             pos : neg    =      1.1 : 1.0\n",
      "                  막/Noun = False             pos : neg    =      1.1 : 1.0\n",
      "                  만/Josa = False             pos : neg    =      1.1 : 1.0\n",
      "              몇/Modifier = False             pos : neg    =      1.1 : 1.0\n",
      "              모/Modifier = False             pos : neg    =      1.1 : 1.0\n",
      "                목소리/Noun = False             pos : neg    =      1.1 : 1.0\n",
      "            못/VerbPrefix = False             pos : neg    =      1.1 : 1.0\n",
      "                 무재/Noun = False             pos : neg    =      1.1 : 1.0\n",
      "                 밓었/Noun = False             pos : neg    =      1.1 : 1.0\n",
      "                 반복/Noun = False             pos : neg    =      1.1 : 1.0\n",
      "                  발/Noun = False             pos : neg    =      1.1 : 1.0\n",
      "              별/Modifier = False             pos : neg    =      1.1 : 1.0\n",
      "                  별/Noun = False             pos : neg    =      1.1 : 1.0\n",
      "                 보다/Verb = False             pos : neg    =      1.1 : 1.0\n",
      "                 보단/Josa = False             pos : neg    =      1.1 : 1.0\n",
      "                 부터/Josa = False             pos : neg    =      1.1 : 1.0\n",
      "                 사람/Noun = False             pos : neg    =      1.1 : 1.0\n",
      "                 살다/Verb = False             pos : neg    =      1.1 : 1.0\n",
      "                살리다/Verb = False             pos : neg    =      1.1 : 1.0\n",
      "                 생인/Noun = False             pos : neg    =      1.1 : 1.0\n",
      "                 생활/Noun = False             pos : neg    =      1.1 : 1.0\n",
      "                  세/Noun = False             pos : neg    =      1.1 : 1.0\n",
      "          솔직하다/Adjective = False             pos : neg    =      1.1 : 1.0\n",
      "           아/Exclamation = False             pos : neg    =      1.1 : 1.0\n",
      "              연/Modifier = False             pos : neg    =      1.1 : 1.0\n",
      "              엿/Modifier = False             pos : neg    =      1.1 : 1.0\n",
      "                  욕/Noun = False             pos : neg    =      1.1 : 1.0\n",
      "                  움/Noun = False             pos : neg    =      1.1 : 1.0\n",
      "                 원작/Noun = False             pos : neg    =      1.1 : 1.0\n",
      "                  을/Josa = False             pos : neg    =      1.1 : 1.0\n",
      "                  의/Josa = False             pos : neg    =      1.1 : 1.0\n",
      "            이/Determiner = False             pos : neg    =      1.1 : 1.0\n",
      "                이야기/Noun = False             pos : neg    =      1.1 : 1.0\n",
      "                이응경/Noun = False             pos : neg    =      1.1 : 1.0\n",
      "                 인지/Josa = False             pos : neg    =      1.1 : 1.0\n",
      "                 정말/Noun = False             pos : neg    =      1.1 : 1.0\n",
      "                제대로/Noun = False             pos : neg    =      1.1 : 1.0\n",
      "                 조정/Noun = False             pos : neg    =      1.1 : 1.0\n",
      "                 진짜/Noun = False             pos : neg    =      1.1 : 1.0\n",
      "          짜증나다/Adjective = False             pos : neg    =      1.1 : 1.0\n",
      "               초등학교/Noun = False             pos : neg    =      1.1 : 1.0\n",
      "                 추천/Noun = False             pos : neg    =      1.1 : 1.0\n",
      "                 평점/Noun = False             pos : neg    =      1.1 : 1.0\n",
      "                 학년/Noun = False             pos : neg    =      1.1 : 1.0\n",
      "                  한/Josa = False             pos : neg    =      1.1 : 1.0\n",
      "                 해도/Noun = False             pos : neg    =      1.1 : 1.0\n",
      "            /Punctuation = False             pos : neg    =      1.1 : 1.0\n",
      "            없다/Adjective = True              pos : neg    =      1.1 : 1.0\n",
      "                 하다/Verb = True              pos : neg    =      1.1 : 1.0\n",
      "            /Punctuation = True              neg : pos    =      1.0 : 1.0\n",
      "            없다/Adjective = False             neg : pos    =      1.0 : 1.0\n",
      "                 하다/Verb = False             neg : pos    =      1.0 : 1.0\n"
     ]
    }
   ],
   "source": [
    "classifier = nltk.NaiveBayesClassifier.train(train_features)\n",
    "classifier.show_most_informative_features(2000)"
   ]
  },
  {
   "cell_type": "code",
   "execution_count": 12,
   "id": "406ec961",
   "metadata": {},
   "outputs": [],
   "source": [
    "test_sent = load_data('ratings_test.txt')"
   ]
  },
  {
   "cell_type": "code",
   "execution_count": 13,
   "id": "cdc797e6",
   "metadata": {},
   "outputs": [],
   "source": [
    "# test_sent[1][0]"
   ]
  },
  {
   "cell_type": "code",
   "execution_count": 14,
   "id": "1b027a11",
   "metadata": {},
   "outputs": [],
   "source": [
    "test_sent = '재밌다'\n",
    "test_sent = pos_tokenize(test_sent)\n",
    "test_words = word_tokenize(test_sent)\n",
    "\n"
   ]
  },
  {
   "cell_type": "code",
   "execution_count": 15,
   "id": "cf75d59c",
   "metadata": {},
   "outputs": [
    {
     "name": "stdout",
     "output_type": "stream",
     "text": [
      "{'밓었/Noun': False, '제대로/Noun': False, '목소리/Noun': False, '낫다/Verb': False, '...': False, '몇/Modifier': False, '모/Modifier': False, '원작/Noun': False, '사람/Noun': False, '액션/Noun': False, '다그/Noun': False, './Punctuation': False, '무재/Noun': False, '더빙/Noun': False, '을/Josa': False, '걸음/Noun': False, '막/Noun': False, '..': False, '부터/Josa': False, '가볍다/Adjective': False, '가/Josa': False, '안되다/Adjective': False, '못/VerbPrefix': False, '조정/Noun': False, '네/Noun': False, '발/Noun': False, '떼다/Verb': False, '학년/Noun': False, '긴장감/Noun': False, '사이/Modifier': False, '!': False, '오버/Noun': False, '8/Number': False, '보다/Verb': False, '몬페/Noun': False, '돋보이다/Verb': False, '재미/Noun': False, '몇/Noun': False, '감금/Noun': False, '짜증나다/Adjective': False, '이/Josa': False, '욕/Noun': False, '초딩/Noun': False, '교도소/Noun': False, '초등학교/Noun': False, '아깝다/Adjective': False, '....': False, '없다/Adjective': False, '가족/Noun': False, '는/Josa': False, '마/Noun': False, '만/Josa': False, '의/Josa': False, '줄/Noun': False, '이/Determiner': False, '엿/Modifier': False, '있다/Adjective': False, '추천/Noun': False, '연/Modifier': False, '세/Noun': False, '움/Noun': False, '너/Modifier': False, '드라마/Noun': False, '이쁘다/Adjective': False, '나오다/Verb': False, '인지/Josa': False, '보단/Josa': False, '의/Noun': False, '살리다/Verb': False, '너무나도/Adverb': False, '년/Noun': False, '스파이더맨/Noun': False, '연기/Noun': False, '생활/Noun': False, '별/Modifier': False, '살다/Verb': False, '래서/Noun': False, '커스틴/Noun': False, '익살스럽다/Adjective': False, '이응경/Noun': False, '아/Exclamation': False, '영화/Noun': False, '보이다/Verb': False, '않다/Verb': False, '조차/Josa': False, '반복/Noun': False, '늙다/Verb': False, '기/Modifier': False, '납치/Noun': False, '다/Adverb': False, '길용우/Noun': False, '해도/Noun': False, '3/Number': False, '한/Josa': False, '에서/Josa': False, '생인/Noun': False, '던스트/Noun': False, '흠/Noun': False, '진짜/Noun': False, '솔직하다/Adjective': False, '/Punctuation': False, '도/Josa': False, '별/Noun': False, '평점/Noun': False, '1/Number': False, '구먼/Noun': False, '그/Determiner': False, '이야기/Noun': False, '하다/Verb': False, '그것/Noun': False, '로/Josa': False, '보고/Noun': False, '정말/Noun': False, 'ㅋㅋㅋ/KoreanParticle': False, '포스터/Noun': False, '반개/Noun': False}\n"
     ]
    }
   ],
   "source": [
    "test_sent = pos_tokenize(test_sent)\n",
    "words = word_tokenize(test_sent)\n",
    "test_feature = {set_word: (set_word in words) for set_word in all_words}\n",
    "\n",
    "print(test_feature)"
   ]
  },
  {
   "cell_type": "code",
   "execution_count": 16,
   "id": "807fdb5d",
   "metadata": {},
   "outputs": [
    {
     "data": {
      "text/plain": [
       "'neg'"
      ]
     },
     "execution_count": 16,
     "metadata": {},
     "output_type": "execute_result"
    }
   ],
   "source": [
    "classifier.classify(test_feature)"
   ]
  },
  {
   "cell_type": "code",
   "execution_count": null,
   "id": "44d46d7d",
   "metadata": {},
   "outputs": [],
   "source": []
  }
 ],
 "metadata": {
  "kernelspec": {
   "display_name": "Python 3 (ipykernel)",
   "language": "python",
   "name": "python3"
  },
  "language_info": {
   "codemirror_mode": {
    "name": "ipython",
    "version": 3
   },
   "file_extension": ".py",
   "mimetype": "text/x-python",
   "name": "python",
   "nbconvert_exporter": "python",
   "pygments_lexer": "ipython3",
   "version": "3.9.7"
  }
 },
 "nbformat": 4,
 "nbformat_minor": 5
}

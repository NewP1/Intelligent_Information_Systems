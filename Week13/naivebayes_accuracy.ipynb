{
 "cells": [
  {
   "cell_type": "code",
   "execution_count": 1,
   "id": "709ceea4",
   "metadata": {
    "scrolled": true
   },
   "outputs": [
    {
     "data": {
      "text/plain": [
       "('ratings_test.txt', <http.client.HTTPMessage at 0x1fb4b0c4c40>)"
      ]
     },
     "execution_count": 1,
     "metadata": {},
     "output_type": "execute_result"
    }
   ],
   "source": [
    "import urllib.request\n",
    "\n",
    "urllib.request.urlretrieve(\"https://raw.githubusercontent.com/e9t/nsmc/master/ratings_train.txt\", filename=\"ratings_train.txt\")\n",
    "urllib.request.urlretrieve(\"https://raw.githubusercontent.com/e9t/nsmc/master/ratings_test.txt\", filename=\"ratings_test.txt\")"
   ]
  },
  {
   "cell_type": "code",
   "execution_count": 30,
   "id": "3c9d808d",
   "metadata": {},
   "outputs": [],
   "source": [
    "from nltk.tokenize import word_tokenize\n",
    "import nltk\n"
   ]
  },
  {
   "cell_type": "code",
   "execution_count": 31,
   "id": "e4de243f",
   "metadata": {},
   "outputs": [],
   "source": [
    "from konlpy.tag import Okt\n",
    "okt = Okt()"
   ]
  },
  {
   "cell_type": "code",
   "execution_count": 32,
   "id": "7602b8bb",
   "metadata": {},
   "outputs": [],
   "source": [
    "def pos_tokenize(raw_sent):\n",
    "    pos_sent = []\n",
    "    \n",
    "    sent = okt.pos(raw_sent, norm=True, stem=True)\n",
    "    \n",
    "    for tup in sent:\n",
    "        word, tag = tup[0], tup[1]\n",
    "        word_tag = word + '/' + tag\n",
    "        pos_sent.append(word_tag)\n",
    "    return ' '.join(pos_sent)"
   ]
  },
  {
   "cell_type": "code",
   "execution_count": 33,
   "id": "10066989",
   "metadata": {},
   "outputs": [],
   "source": [
    "def make_word_dict(train, use_morph=False):\n",
    "    all_words = set()\n",
    "    \n",
    "    for tup in train:\n",
    "        sent, label = tup[0], tup[1]\n",
    "        if use_morph: sent = pos_tokenize(sent)\n",
    "        words = word_tokenize(sent)\n",
    "        for word in words:\n",
    "            all_words.add(word)\n",
    "            \n",
    "    return all_words"
   ]
  },
  {
   "cell_type": "code",
   "execution_count": 34,
   "id": "dad1e369",
   "metadata": {},
   "outputs": [],
   "source": [
    "def make_train_feats(train, all_words, use_morph=False):\n",
    "    train_features = []\n",
    "    \n",
    "    for tup in train:\n",
    "        sent, label = tup[0], tup[1]\n",
    "        if use_morph: sent = pos_tokenize(sent)\n",
    "        words = word_tokenize(sent)\n",
    "        tmp = {set_word: (set_word in words) for set_word in all_words}\n",
    "        sent_tup = (tmp, label)\n",
    "        train_features.append(sent_tup)\n",
    "        \n",
    "    return train_features"
   ]
  },
  {
   "cell_type": "code",
   "execution_count": 41,
   "id": "278865df",
   "metadata": {},
   "outputs": [],
   "source": [
    "def load_data(file_path):\n",
    "    train = []\n",
    "    count = 0\n",
    "    cnt_pos = 0\n",
    "    cnt_neg = 0\n",
    "    \n",
    "    with open(file_path,'r', encoding='utf-8') as f:\n",
    "        for line in f.readlines():\n",
    "            if count == 1000: break\n",
    "            line = line.strip()\n",
    "            id, doc, label = line.split('\\t')\n",
    "            if label == '1' : \n",
    "                label = 'pos'\n",
    "                cnt_pos += 1\n",
    "            elif label == '0':\n",
    "                label = 'neg'\n",
    "                cnt_neg += 1\n",
    "            train.append((doc, label))\n",
    "            count += 1\n",
    "        print(cnt_pos)\n",
    "        print(cnt_neg)\n",
    "    return train"
   ]
  },
  {
   "cell_type": "code",
   "execution_count": 42,
   "id": "a288a4b5",
   "metadata": {},
   "outputs": [
    {
     "name": "stdout",
     "output_type": "stream",
     "text": [
      "491\n",
      "508\n",
      "[('document', 'label'), ('아 더빙.. 진짜 짜증나네요 목소리', 'neg'), ('흠...포스터보고 초딩영화줄....오버연기조차 가볍지 않구나', 'pos'), ('너무재밓었다그래서보는것을추천한다', 'neg'), ('교도소 이야기구먼 ..솔직히 재미는 없다..평점 조정', 'neg')]\n"
     ]
    },
    {
     "data": {
      "text/plain": [
       "1000"
      ]
     },
     "execution_count": 42,
     "metadata": {},
     "output_type": "execute_result"
    }
   ],
   "source": [
    "train = load_data('ratings_train.txt')\n",
    "print(train[:5])\n",
    "len(train)"
   ]
  },
  {
   "cell_type": "code",
   "execution_count": 9,
   "id": "528b7ce8",
   "metadata": {},
   "outputs": [],
   "source": [
    "all_words = make_word_dict(train, use_morph=True)"
   ]
  },
  {
   "cell_type": "code",
   "execution_count": 10,
   "id": "028bece0",
   "metadata": {},
   "outputs": [],
   "source": [
    "train_features = make_train_feats(train, all_words, use_morph=True)"
   ]
  },
  {
   "cell_type": "code",
   "execution_count": 11,
   "id": "79881ff2",
   "metadata": {},
   "outputs": [],
   "source": [
    "classifier = nltk.NaiveBayesClassifier.train(train_features)"
   ]
  },
  {
   "cell_type": "markdown",
   "id": "610c3919",
   "metadata": {},
   "source": [
    "----------------------"
   ]
  },
  {
   "cell_type": "markdown",
   "id": "3b69c2b3",
   "metadata": {},
   "source": [
    "# count == 500"
   ]
  },
  {
   "cell_type": "code",
   "execution_count": 12,
   "id": "daf72a20",
   "metadata": {},
   "outputs": [],
   "source": [
    "test = load_data('ratings_test.txt')"
   ]
  },
  {
   "cell_type": "code",
   "execution_count": 13,
   "id": "685df6ae",
   "metadata": {},
   "outputs": [],
   "source": [
    "test_features = make_train_feats(test, all_words, use_morph=True)"
   ]
  },
  {
   "cell_type": "code",
   "execution_count": 14,
   "id": "156134b1",
   "metadata": {},
   "outputs": [],
   "source": [
    "test_result = nltk.classify.accuracy(classifier,test_features)"
   ]
  },
  {
   "cell_type": "code",
   "execution_count": 15,
   "id": "364a86dc",
   "metadata": {},
   "outputs": [
    {
     "data": {
      "text/plain": [
       "0.774"
      ]
     },
     "execution_count": 15,
     "metadata": {},
     "output_type": "execute_result"
    }
   ],
   "source": [
    "test_result"
   ]
  },
  {
   "cell_type": "markdown",
   "id": "b4e086c6",
   "metadata": {},
   "source": [
    "---\n",
    "# count == 1000"
   ]
  },
  {
   "cell_type": "code",
   "execution_count": 16,
   "id": "d4faa6f0",
   "metadata": {},
   "outputs": [],
   "source": [
    "test = load_data('ratings_test.txt')"
   ]
  },
  {
   "cell_type": "code",
   "execution_count": 17,
   "id": "3de727cb",
   "metadata": {},
   "outputs": [],
   "source": [
    "test_features = make_train_feats(test, all_words, use_morph=True)"
   ]
  },
  {
   "cell_type": "code",
   "execution_count": 18,
   "id": "99cd5634",
   "metadata": {},
   "outputs": [
    {
     "data": {
      "text/plain": [
       "0.774"
      ]
     },
     "execution_count": 18,
     "metadata": {},
     "output_type": "execute_result"
    }
   ],
   "source": [
    "test_result = nltk.classify.accuracy(classifier,test_features)\n",
    "test_result"
   ]
  },
  {
   "cell_type": "markdown",
   "id": "b7e0b1f0",
   "metadata": {},
   "source": [
    "아무래도 수집하는 데이터가 적으면 전체적인 부분에서 정확도가 떨어질 수 밖에 없다.\n",
    "개수를 500으로 제한뒀을 때 보다 개수를 1000개로 제한뒀을 때 데이터의 개수가 많아져 1000일 때가 500일 때보다 정확도가 높은 것을 볼 수 있다.\n",
    "\n",
    "데이터가 많아지면 많아질수록 정확도가 증가한다. \n"
   ]
  }
 ],
 "metadata": {
  "kernelspec": {
   "display_name": "Python 3 (ipykernel)",
   "language": "python",
   "name": "python3"
  },
  "language_info": {
   "codemirror_mode": {
    "name": "ipython",
    "version": 3
   },
   "file_extension": ".py",
   "mimetype": "text/x-python",
   "name": "python",
   "nbconvert_exporter": "python",
   "pygments_lexer": "ipython3",
   "version": "3.9.7"
  }
 },
 "nbformat": 4,
 "nbformat_minor": 5
}

{
 "cells": [
  {
   "cell_type": "code",
   "execution_count": 2,
   "id": "fd9294d6",
   "metadata": {},
   "outputs": [],
   "source": [
    "from nltk.tokenize import word_tokenize\n",
    "import nltk\n"
   ]
  },
  {
   "cell_type": "code",
   "execution_count": 3,
   "id": "c2a5bebd",
   "metadata": {},
   "outputs": [
    {
     "name": "stderr",
     "output_type": "stream",
     "text": [
      "[nltk_data] Downloading package punkt to\n",
      "[nltk_data]     C:\\Users\\jaehy\\AppData\\Roaming\\nltk_data...\n",
      "[nltk_data]   Package punkt is already up-to-date!\n"
     ]
    },
    {
     "data": {
      "text/plain": [
       "True"
      ]
     },
     "execution_count": 3,
     "metadata": {},
     "output_type": "execute_result"
    }
   ],
   "source": [
    "nltk.download('punkt')"
   ]
  },
  {
   "cell_type": "code",
   "execution_count": 4,
   "id": "3193a751",
   "metadata": {},
   "outputs": [],
   "source": [
    "from konlpy.tag import Okt\n",
    "okt = Okt()"
   ]
  },
  {
   "cell_type": "code",
   "execution_count": 5,
   "id": "4d82bb78",
   "metadata": {},
   "outputs": [],
   "source": [
    "def pos_tokenize(raw_sent):\n",
    "    pos_sent = []\n",
    "    \n",
    "    sent = okt.pos(raw_sent, norm=True, stem=True)\n",
    "    \n",
    "    for tup in sent:\n",
    "        word, tag = tup[0], tup[1]\n",
    "        word_tag = word + '/' + tag\n",
    "        pos_sent.append(word_tag)\n",
    "    return ' '.join(pos_sent)"
   ]
  },
  {
   "cell_type": "code",
   "execution_count": 8,
   "id": "01330d05",
   "metadata": {},
   "outputs": [
    {
     "name": "stdout",
     "output_type": "stream",
     "text": [
      "(<http.client.HTTPMessage object at 0x00000209C8A2C400>,)\n"
     ]
    }
   ],
   "source": [
    "from urllib.request import urlretrieve\n",
    "\n",
    "train = urlretrieve(\"https://github.com/e9t/nsmc/blob/master/ratings_train.txt\",\n",
    "                  \"ratings_train.txt\")\n",
    "\n",
    "print(train[1:5])"
   ]
  },
  {
   "cell_type": "code",
   "execution_count": 7,
   "id": "1e08aea8",
   "metadata": {},
   "outputs": [
    {
     "ename": "AttributeError",
     "evalue": "'int' object has no attribute 'lower'",
     "output_type": "error",
     "traceback": [
      "\u001b[1;31m---------------------------------------------------------------------------\u001b[0m",
      "\u001b[1;31mAttributeError\u001b[0m                            Traceback (most recent call last)",
      "\u001b[1;32m~\\AppData\\Local\\Temp/ipykernel_7528/193024949.py\u001b[0m in \u001b[0;36m<module>\u001b[1;34m\u001b[0m\n\u001b[0;32m      2\u001b[0m \u001b[1;33m\u001b[0m\u001b[0m\n\u001b[0;32m      3\u001b[0m \u001b[1;32mfor\u001b[0m \u001b[0mtup\u001b[0m \u001b[1;32min\u001b[0m \u001b[0mtrain\u001b[0m\u001b[1;33m:\u001b[0m\u001b[1;33m\u001b[0m\u001b[1;33m\u001b[0m\u001b[0m\n\u001b[1;32m----> 4\u001b[1;33m     \u001b[0msent\u001b[0m\u001b[1;33m,\u001b[0m \u001b[0mlabel\u001b[0m \u001b[1;33m=\u001b[0m \u001b[0mtup\u001b[0m\u001b[1;33m[\u001b[0m\u001b[1;36m0\u001b[0m\u001b[1;33m]\u001b[0m\u001b[1;33m,\u001b[0m \u001b[0mtup\u001b[0m\u001b[1;33m[\u001b[0m\u001b[1;36m1\u001b[0m\u001b[1;33m]\u001b[0m\u001b[1;33m\u001b[0m\u001b[1;33m\u001b[0m\u001b[0m\n\u001b[0m\u001b[0;32m      5\u001b[0m     \u001b[0msent\u001b[0m \u001b[1;33m=\u001b[0m \u001b[0mpos_tokenize\u001b[0m\u001b[1;33m(\u001b[0m\u001b[0msent\u001b[0m\u001b[1;33m)\u001b[0m\u001b[1;33m\u001b[0m\u001b[1;33m\u001b[0m\u001b[0m\n\u001b[0;32m      6\u001b[0m     \u001b[0mwords\u001b[0m \u001b[1;33m=\u001b[0m \u001b[0mword_tokenize\u001b[0m\u001b[1;33m(\u001b[0m\u001b[0msent\u001b[0m\u001b[1;33m)\u001b[0m\u001b[1;33m\u001b[0m\u001b[1;33m\u001b[0m\u001b[0m\n",
      "\u001b[1;32m~\\anaconda3\\lib\\email\\message.py\u001b[0m in \u001b[0;36m__getitem__\u001b[1;34m(self, name)\u001b[0m\n\u001b[0;32m    389\u001b[0m         \u001b[0mthe\u001b[0m \u001b[0mvalues\u001b[0m \u001b[0mmatching\u001b[0m \u001b[0ma\u001b[0m \u001b[0mheader\u001b[0m \u001b[0mfield\u001b[0m \u001b[0mname\u001b[0m\u001b[1;33m.\u001b[0m\u001b[1;33m\u001b[0m\u001b[1;33m\u001b[0m\u001b[0m\n\u001b[0;32m    390\u001b[0m         \"\"\"\n\u001b[1;32m--> 391\u001b[1;33m         \u001b[1;32mreturn\u001b[0m \u001b[0mself\u001b[0m\u001b[1;33m.\u001b[0m\u001b[0mget\u001b[0m\u001b[1;33m(\u001b[0m\u001b[0mname\u001b[0m\u001b[1;33m)\u001b[0m\u001b[1;33m\u001b[0m\u001b[1;33m\u001b[0m\u001b[0m\n\u001b[0m\u001b[0;32m    392\u001b[0m \u001b[1;33m\u001b[0m\u001b[0m\n\u001b[0;32m    393\u001b[0m     \u001b[1;32mdef\u001b[0m \u001b[0m__setitem__\u001b[0m\u001b[1;33m(\u001b[0m\u001b[0mself\u001b[0m\u001b[1;33m,\u001b[0m \u001b[0mname\u001b[0m\u001b[1;33m,\u001b[0m \u001b[0mval\u001b[0m\u001b[1;33m)\u001b[0m\u001b[1;33m:\u001b[0m\u001b[1;33m\u001b[0m\u001b[1;33m\u001b[0m\u001b[0m\n",
      "\u001b[1;32m~\\anaconda3\\lib\\email\\message.py\u001b[0m in \u001b[0;36mget\u001b[1;34m(self, name, failobj)\u001b[0m\n\u001b[0;32m    466\u001b[0m         \u001b[1;32mis\u001b[0m \u001b[0mmissing\u001b[0m\u001b[1;33m.\u001b[0m\u001b[1;33m\u001b[0m\u001b[1;33m\u001b[0m\u001b[0m\n\u001b[0;32m    467\u001b[0m         \"\"\"\n\u001b[1;32m--> 468\u001b[1;33m         \u001b[0mname\u001b[0m \u001b[1;33m=\u001b[0m \u001b[0mname\u001b[0m\u001b[1;33m.\u001b[0m\u001b[0mlower\u001b[0m\u001b[1;33m(\u001b[0m\u001b[1;33m)\u001b[0m\u001b[1;33m\u001b[0m\u001b[1;33m\u001b[0m\u001b[0m\n\u001b[0m\u001b[0;32m    469\u001b[0m         \u001b[1;32mfor\u001b[0m \u001b[0mk\u001b[0m\u001b[1;33m,\u001b[0m \u001b[0mv\u001b[0m \u001b[1;32min\u001b[0m \u001b[0mself\u001b[0m\u001b[1;33m.\u001b[0m\u001b[0m_headers\u001b[0m\u001b[1;33m:\u001b[0m\u001b[1;33m\u001b[0m\u001b[1;33m\u001b[0m\u001b[0m\n\u001b[0;32m    470\u001b[0m             \u001b[1;32mif\u001b[0m \u001b[0mk\u001b[0m\u001b[1;33m.\u001b[0m\u001b[0mlower\u001b[0m\u001b[1;33m(\u001b[0m\u001b[1;33m)\u001b[0m \u001b[1;33m==\u001b[0m \u001b[0mname\u001b[0m\u001b[1;33m:\u001b[0m\u001b[1;33m\u001b[0m\u001b[1;33m\u001b[0m\u001b[0m\n",
      "\u001b[1;31mAttributeError\u001b[0m: 'int' object has no attribute 'lower'"
     ]
    }
   ],
   "source": [
    "all_words = set()\n",
    "\n",
    "for tup in train:\n",
    "    sent, label = tup[0], tup[1]\n",
    "    sent = pos_tokenize(sent)\n",
    "    words = word_tokenize(sent)\n",
    "    for word in words:\n",
    "        all_words.add(word)\n",
    "all_words"
   ]
  },
  {
   "cell_type": "code",
   "execution_count": 5,
   "id": "9056c41b",
   "metadata": {},
   "outputs": [],
   "source": [
    "# train_features = []\n",
    "\n",
    "# for tup in train:\n",
    "#     sent, label = tup[0], tup[1]\n",
    "#     words = word_tokenize(sent)\n",
    "#     tmp = dict()\n",
    "#     for set_word in all_words:\n",
    "#         if set_word in words:\n",
    "#             tmp[set_word] = True\n",
    "#         else:\n",
    "#             tmp[set_word] = False\n",
    "#     sent_tup = (tmp, label)\n",
    "#     train_features.append(sent_tup)\n",
    "    \n",
    "# print(train_features[0])\n",
    "# print(train_features[1])\n",
    "# print(train_features[2])\n",
    "# print(train_features[3])"
   ]
  },
  {
   "cell_type": "code",
   "execution_count": 18,
   "id": "00cc6e7c",
   "metadata": {},
   "outputs": [
    {
     "name": "stdout",
     "output_type": "stream",
     "text": [
      "({'익다/Verb': False, '가/Josa': True, '는/Josa': False, '좋다/Adjective': True, '에/Josa': False, '비추다/Verb': False, '맛있다/Adjective': False, '먹다/Verb': False, '밤/Noun': False, '사과/Noun': True, '자다/Verb': False}, 'pos')\n",
      "({'익다/Verb': False, '가/Josa': False, '는/Josa': True, '좋다/Adjective': False, '에/Josa': True, '비추다/Verb': True, '맛있다/Adjective': False, '먹다/Verb': True, '밤/Noun': True, '사과/Noun': True, '자다/Verb': False}, 'neg')\n",
      "({'익다/Verb': True, '가/Josa': True, '는/Josa': False, '좋다/Adjective': False, '에/Josa': False, '비추다/Verb': False, '맛있다/Adjective': True, '먹다/Verb': False, '밤/Noun': False, '사과/Noun': True, '자다/Verb': True}, 'pos')\n"
     ]
    }
   ],
   "source": [
    "# 위에꺼 간략하게 작성하기\n",
    "\n",
    "train_features = []\n",
    "\n",
    "for tup in train:\n",
    "    sent, label = tup[0], tup[1]\n",
    "    sent = pos_tokenize(sent)\n",
    "    words = word_tokenize(sent)\n",
    "\n",
    "    tmp = {set_word: (set_word in words) for set_word in all_words}\n",
    "    sent_tup = (tmp, label)\n",
    "    train_features.append(sent_tup)\n",
    "    \n",
    "for i in range(len(train_features)):\n",
    "               print(train_features[i])"
   ]
  },
  {
   "cell_type": "code",
   "execution_count": 19,
   "id": "26e23b33",
   "metadata": {},
   "outputs": [
    {
     "name": "stdout",
     "output_type": "stream",
     "text": [
      "Most Informative Features\n",
      "           맛있다/Adjective = False             neg : pos    =      1.5 : 1.0\n",
      "                 익다/Verb = False             neg : pos    =      1.5 : 1.0\n",
      "                 자다/Verb = False             neg : pos    =      1.5 : 1.0\n",
      "            좋다/Adjective = False             neg : pos    =      1.5 : 1.0\n"
     ]
    }
   ],
   "source": [
    "classifier = nltk.NaiveBayesClassifier.train(train_features)\n",
    "classifier.show_most_informative_features()"
   ]
  },
  {
   "cell_type": "code",
   "execution_count": 1,
   "id": "3bac620c",
   "metadata": {},
   "outputs": [
    {
     "ename": "SyntaxError",
     "evalue": "invalid syntax (Temp/ipykernel_7528/1271373633.py, line 1)",
     "output_type": "error",
     "traceback": [
      "\u001b[1;36m  File \u001b[1;32m\"C:\\Users\\jaehy\\AppData\\Local\\Temp/ipykernel_7528/1271373633.py\"\u001b[1;36m, line \u001b[1;32m1\u001b[0m\n\u001b[1;33m    test_sent =\u001b[0m\n\u001b[1;37m                ^\u001b[0m\n\u001b[1;31mSyntaxError\u001b[0m\u001b[1;31m:\u001b[0m invalid syntax\n"
     ]
    }
   ],
   "source": [
    "test_sent = \n",
    "\n",
    "if use_morph : test_sent = pos_tokenize(test_sent)\n",
    "words = word_tokenize(test_sent)\n",
    "test_feature = {set_word: (set_word in words) for set_word in all_words}\n",
    "\n",
    "print(test_feature)"
   ]
  },
  {
   "cell_type": "code",
   "execution_count": null,
   "id": "3b0703d8",
   "metadata": {},
   "outputs": [],
   "source": [
    "classfier.classify(test_feature)"
   ]
  }
 ],
 "metadata": {
  "kernelspec": {
   "display_name": "Python 3 (ipykernel)",
   "language": "python",
   "name": "python3"
  },
  "language_info": {
   "codemirror_mode": {
    "name": "ipython",
    "version": 3
   },
   "file_extension": ".py",
   "mimetype": "text/x-python",
   "name": "python",
   "nbconvert_exporter": "python",
   "pygments_lexer": "ipython3",
   "version": "3.9.7"
  }
 },
 "nbformat": 4,
 "nbformat_minor": 5
}

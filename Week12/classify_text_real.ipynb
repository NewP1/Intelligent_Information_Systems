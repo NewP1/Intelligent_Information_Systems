{
 "cells": [
  {
   "cell_type": "code",
   "execution_count": 1,
   "id": "fd9294d6",
   "metadata": {},
   "outputs": [],
   "source": [
    "from nltk.tokenize import word_tokenize\n",
    "import nltk"
   ]
  },
  {
   "cell_type": "code",
   "execution_count": 2,
   "id": "c2a5bebd",
   "metadata": {},
   "outputs": [
    {
     "name": "stderr",
     "output_type": "stream",
     "text": [
      "[nltk_data] Downloading package punkt to\n",
      "[nltk_data]     C:\\Users\\jaehy\\AppData\\Roaming\\nltk_data...\n",
      "[nltk_data]   Package punkt is already up-to-date!\n"
     ]
    },
    {
     "data": {
      "text/plain": [
       "True"
      ]
     },
     "execution_count": 2,
     "metadata": {},
     "output_type": "execute_result"
    }
   ],
   "source": [
    "nltk.download('punkt')"
   ]
  },
  {
   "cell_type": "code",
   "execution_count": 3,
   "id": "b22cc2ce",
   "metadata": {},
   "outputs": [
    {
     "data": {
      "text/plain": [
       "[('I like you', 'pos'),\n",
       " ('I hate you', 'neg'),\n",
       " ('I enjoyed it', 'pos'),\n",
       " ('I hate it', 'neg')]"
      ]
     },
     "execution_count": 3,
     "metadata": {},
     "output_type": "execute_result"
    }
   ],
   "source": [
    "train = [('I like you', 'pos'), ('I hate you', 'neg'), \n",
    "            ('I enjoyed it', 'pos'), ('I hate it','neg')]\n",
    "train"
   ]
  },
  {
   "cell_type": "code",
   "execution_count": 4,
   "id": "1e08aea8",
   "metadata": {},
   "outputs": [
    {
     "data": {
      "text/plain": [
       "{'I', 'enjoyed', 'hate', 'it', 'like', 'you'}"
      ]
     },
     "execution_count": 4,
     "metadata": {},
     "output_type": "execute_result"
    }
   ],
   "source": [
    "all_words = set()\n",
    "\n",
    "for tup in train:\n",
    "    sent, label = tup[0], tup[1]\n",
    "    words = word_tokenize(sent)\n",
    "    for word in words:\n",
    "        all_words.add(word)\n",
    "all_words"
   ]
  },
  {
   "cell_type": "code",
   "execution_count": 9,
   "id": "00cc6e7c",
   "metadata": {},
   "outputs": [
    {
     "name": "stdout",
     "output_type": "stream",
     "text": [
      "({'it': False, 'you': True, 'hate': False, 'I': True, 'like': True, 'enjoyed': False}, 'pos')\n",
      "({'it': False, 'you': True, 'hate': True, 'I': True, 'like': False, 'enjoyed': False}, 'neg')\n",
      "({'it': True, 'you': False, 'hate': False, 'I': True, 'like': False, 'enjoyed': True}, 'pos')\n",
      "({'it': True, 'you': False, 'hate': True, 'I': True, 'like': False, 'enjoyed': False}, 'neg')\n"
     ]
    },
    {
     "ename": "IndexError",
     "evalue": "list index out of range",
     "output_type": "error",
     "traceback": [
      "\u001b[1;31m---------------------------------------------------------------------------\u001b[0m",
      "\u001b[1;31mIndexError\u001b[0m                                Traceback (most recent call last)",
      "\u001b[1;32m~\\AppData\\Local\\Temp/ipykernel_3100/2815263968.py\u001b[0m in \u001b[0;36m<module>\u001b[1;34m\u001b[0m\n\u001b[0;32m     14\u001b[0m \u001b[0mprint\u001b[0m\u001b[1;33m(\u001b[0m\u001b[0mtrain_features\u001b[0m\u001b[1;33m[\u001b[0m\u001b[1;36m2\u001b[0m\u001b[1;33m]\u001b[0m\u001b[1;33m)\u001b[0m\u001b[1;33m\u001b[0m\u001b[1;33m\u001b[0m\u001b[0m\n\u001b[0;32m     15\u001b[0m \u001b[0mprint\u001b[0m\u001b[1;33m(\u001b[0m\u001b[0mtrain_features\u001b[0m\u001b[1;33m[\u001b[0m\u001b[1;36m3\u001b[0m\u001b[1;33m]\u001b[0m\u001b[1;33m)\u001b[0m\u001b[1;33m\u001b[0m\u001b[1;33m\u001b[0m\u001b[0m\n\u001b[1;32m---> 16\u001b[1;33m \u001b[0mprint\u001b[0m\u001b[1;33m(\u001b[0m\u001b[0mtrain_features\u001b[0m\u001b[1;33m[\u001b[0m\u001b[1;36m4\u001b[0m\u001b[1;33m]\u001b[0m\u001b[1;33m)\u001b[0m\u001b[1;33m\u001b[0m\u001b[1;33m\u001b[0m\u001b[0m\n\u001b[0m",
      "\u001b[1;31mIndexError\u001b[0m: list index out of range"
     ]
    }
   ],
   "source": [
    "# 위에꺼 간략하게 작성하기\n",
    "\n",
    "train_features = []\n",
    "\n",
    "for tup in train:\n",
    "    sent, label = tup[0], tup[1]\n",
    "    words = word_tokenize(sent)\n",
    "    tmp = {set_word: (set_word in words) for set_word in all_words}\n",
    "    sent_tup = (tmp, label)\n",
    "    train_features.append(sent_tup)\n",
    "    \n",
    "print(train_features[0])\n",
    "print(train_features[1])\n",
    "print(train_features[2])\n",
    "print(train_features[3])"
   ]
  },
  {
   "cell_type": "code",
   "execution_count": 10,
   "id": "26e23b33",
   "metadata": {},
   "outputs": [
    {
     "name": "stdout",
     "output_type": "stream",
     "text": [
      "Most Informative Features\n",
      "                 enjoyed = False             neg : pos    =      1.7 : 1.0\n",
      "                    like = False             neg : pos    =      1.7 : 1.0\n",
      "                       I = True              neg : pos    =      1.0 : 1.0\n",
      "                      it = False             neg : pos    =      1.0 : 1.0\n",
      "                      it = True              neg : pos    =      1.0 : 1.0\n",
      "                     you = False             neg : pos    =      1.0 : 1.0\n"
     ]
    }
   ],
   "source": [
    "classifier = nltk.NaiveBayesClassifier.train(train_features)\n",
    "classifier.show_most_informative_features(10)"
   ]
  },
  {
   "cell_type": "code",
   "execution_count": 27,
   "id": "db07fbce",
   "metadata": {},
   "outputs": [
    {
     "name": "stdout",
     "output_type": "stream",
     "text": [
      "{'it': False, 'you': False, 'hate': False, 'I': False, 'like': True, 'enjoyed': False}\n"
     ]
    }
   ],
   "source": [
    "test_sent = 'like'\n",
    "\n",
    "words = word_tokenize(test_sent)\n",
    "test_feature = {set_word:(set_word in words) for set_word in all_words}\n",
    "\n",
    "print(test_feature)"
   ]
  },
  {
   "cell_type": "code",
   "execution_count": 28,
   "id": "a9e68448",
   "metadata": {},
   "outputs": [
    {
     "data": {
      "text/plain": [
       "'pos'"
      ]
     },
     "execution_count": 28,
     "metadata": {},
     "output_type": "execute_result"
    }
   ],
   "source": [
    "classifier.classify(test_feature)"
   ]
  },
  {
   "cell_type": "code",
   "execution_count": null,
   "id": "e1562d9b",
   "metadata": {},
   "outputs": [],
   "source": []
  }
 ],
 "metadata": {
  "kernelspec": {
   "display_name": "Python 3 (ipykernel)",
   "language": "python",
   "name": "python3"
  },
  "language_info": {
   "codemirror_mode": {
    "name": "ipython",
    "version": 3
   },
   "file_extension": ".py",
   "mimetype": "text/x-python",
   "name": "python",
   "nbconvert_exporter": "python",
   "pygments_lexer": "ipython3",
   "version": "3.9.7"
  }
 },
 "nbformat": 4,
 "nbformat_minor": 5
}

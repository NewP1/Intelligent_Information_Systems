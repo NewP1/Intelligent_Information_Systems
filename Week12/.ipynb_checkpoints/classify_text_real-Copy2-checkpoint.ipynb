{
 "cells": [
  {
   "cell_type": "code",
   "execution_count": 1,
   "id": "fd9294d6",
   "metadata": {},
   "outputs": [],
   "source": [
    "from nltk.tokenize import word_tokenize\n",
    "import nltk\n"
   ]
  },
  {
   "cell_type": "code",
   "execution_count": 2,
   "id": "c2a5bebd",
   "metadata": {},
   "outputs": [
    {
     "name": "stderr",
     "output_type": "stream",
     "text": [
      "[nltk_data] Downloading package punkt to\n",
      "[nltk_data]     C:\\Users\\jaehy\\AppData\\Roaming\\nltk_data...\n",
      "[nltk_data]   Package punkt is already up-to-date!\n"
     ]
    },
    {
     "data": {
      "text/plain": [
       "True"
      ]
     },
     "execution_count": 2,
     "metadata": {},
     "output_type": "execute_result"
    }
   ],
   "source": [
    "nltk.download('punkt')"
   ]
  },
  {
   "cell_type": "code",
   "execution_count": 11,
   "id": "3193a751",
   "metadata": {},
   "outputs": [],
   "source": [
    "from konlpy.tag import Okt\n",
    "okt = Okt()"
   ]
  },
  {
   "cell_type": "code",
   "execution_count": 16,
   "id": "4d82bb78",
   "metadata": {},
   "outputs": [],
   "source": [
    "def pos_tokenize(raw_sent):\n",
    "    pos_sent = []\n",
    "    \n",
    "    sent = okt.pos(raw_sent, norm=True, stem=True)\n",
    "    \n",
    "    for tup in sent:\n",
    "        word, tag = tup[0], tup[1]\n",
    "        word_tag = word + '/' + tag\n",
    "        pos_sent.append(word_tag)\n",
    "    return ' '.join(pos_sent)"
   ]
  },
  {
   "cell_type": "code",
   "execution_count": 3,
   "id": "b22cc2ce",
   "metadata": {},
   "outputs": [
    {
     "data": {
      "text/plain": [
       "[('사과가 좋아', 'pos'), ('밤에 먹는 사과는 비추야', 'neg'), ('사과가 잘 익었어 맛있겠다', 'pos')]"
      ]
     },
     "execution_count": 3,
     "metadata": {},
     "output_type": "execute_result"
    }
   ],
   "source": [
    "train = [('사과가 좋아', 'pos'), ('밤에 먹는 사과는 비추야', 'neg'), \n",
    "            ('사과가 잘 익었어 맛있겠다', 'pos')]\n",
    "train"
   ]
  },
  {
   "cell_type": "code",
   "execution_count": 17,
   "id": "1e08aea8",
   "metadata": {},
   "outputs": [
    {
     "data": {
      "text/plain": [
       "{'가/Josa',\n",
       " '는/Josa',\n",
       " '맛있다/Adjective',\n",
       " '먹다/Verb',\n",
       " '밤/Noun',\n",
       " '비추다/Verb',\n",
       " '사과/Noun',\n",
       " '에/Josa',\n",
       " '익다/Verb',\n",
       " '자다/Verb',\n",
       " '좋다/Adjective'}"
      ]
     },
     "execution_count": 17,
     "metadata": {},
     "output_type": "execute_result"
    }
   ],
   "source": [
    "all_words = set()\n",
    "\n",
    "for tup in train:\n",
    "    sent, label = tup[0], tup[1]\n",
    "    sent = pos_tokenize(sent)\n",
    "    words = word_tokenize(sent)\n",
    "    for word in words:\n",
    "        all_words.add(word)\n",
    "all_words"
   ]
  },
  {
   "cell_type": "code",
   "execution_count": 5,
   "id": "9056c41b",
   "metadata": {},
   "outputs": [],
   "source": [
    "# train_features = []\n",
    "\n",
    "# for tup in train:\n",
    "#     sent, label = tup[0], tup[1]\n",
    "#     words = word_tokenize(sent)\n",
    "#     tmp = dict()\n",
    "#     for set_word in all_words:\n",
    "#         if set_word in words:\n",
    "#             tmp[set_word] = True\n",
    "#         else:\n",
    "#             tmp[set_word] = False\n",
    "#     sent_tup = (tmp, label)\n",
    "#     train_features.append(sent_tup)\n",
    "    \n",
    "# print(train_features[0])\n",
    "# print(train_features[1])\n",
    "# print(train_features[2])\n",
    "# print(train_features[3])"
   ]
  },
  {
   "cell_type": "code",
   "execution_count": 18,
   "id": "00cc6e7c",
   "metadata": {},
   "outputs": [
    {
     "name": "stdout",
     "output_type": "stream",
     "text": [
      "({'익다/Verb': False, '가/Josa': True, '는/Josa': False, '좋다/Adjective': True, '에/Josa': False, '비추다/Verb': False, '맛있다/Adjective': False, '먹다/Verb': False, '밤/Noun': False, '사과/Noun': True, '자다/Verb': False}, 'pos')\n",
      "({'익다/Verb': False, '가/Josa': False, '는/Josa': True, '좋다/Adjective': False, '에/Josa': True, '비추다/Verb': True, '맛있다/Adjective': False, '먹다/Verb': True, '밤/Noun': True, '사과/Noun': True, '자다/Verb': False}, 'neg')\n",
      "({'익다/Verb': True, '가/Josa': True, '는/Josa': False, '좋다/Adjective': False, '에/Josa': False, '비추다/Verb': False, '맛있다/Adjective': True, '먹다/Verb': False, '밤/Noun': False, '사과/Noun': True, '자다/Verb': True}, 'pos')\n"
     ]
    }
   ],
   "source": [
    "# 위에꺼 간략하게 작성하기\n",
    "\n",
    "train_features = []\n",
    "\n",
    "for tup in train:\n",
    "    sent, label = tup[0], tup[1]\n",
    "    sent = pos_tokenize(sent)\n",
    "    words = word_tokenize(sent)\n",
    "\n",
    "    tmp = {set_word: (set_word in words) for set_word in all_words}\n",
    "    sent_tup = (tmp, label)\n",
    "    train_features.append(sent_tup)\n",
    "    \n",
    "for i in range(len(train_features)):\n",
    "               print(train_features[i])"
   ]
  },
  {
   "cell_type": "code",
   "execution_count": 19,
   "id": "26e23b33",
   "metadata": {},
   "outputs": [
    {
     "name": "stdout",
     "output_type": "stream",
     "text": [
      "Most Informative Features\n",
      "           맛있다/Adjective = False             neg : pos    =      1.5 : 1.0\n",
      "                 익다/Verb = False             neg : pos    =      1.5 : 1.0\n",
      "                 자다/Verb = False             neg : pos    =      1.5 : 1.0\n",
      "            좋다/Adjective = False             neg : pos    =      1.5 : 1.0\n"
     ]
    }
   ],
   "source": [
    "classifier = nltk.NaiveBayesClassifier.train(train_features)\n",
    "classifier.show_most_informative_features()"
   ]
  },
  {
   "cell_type": "code",
   "execution_count": 20,
   "id": "db07fbce",
   "metadata": {},
   "outputs": [
    {
     "name": "stdout",
     "output_type": "stream",
     "text": [
      "{'익다/Verb': False, '가/Josa': False, '는/Josa': False, '좋다/Adjective': False, '에/Josa': False, '비추다/Verb': False, '맛있다/Adjective': False, '먹다/Verb': False, '밤/Noun': False, '사과/Noun': False, '자다/Verb': False}\n"
     ]
    }
   ],
   "source": [
    "test_sent = '사과는 맛있어'\n",
    "\n",
    "words = word_tokenize(test_sent)\n",
    "test_feature = {set_word:(set_word in words) for set_word in all_words}\n",
    "\n",
    "print(test_feature)"
   ]
  },
  {
   "cell_type": "code",
   "execution_count": 21,
   "id": "a9e68448",
   "metadata": {},
   "outputs": [
    {
     "data": {
      "text/plain": [
       "'pos'"
      ]
     },
     "execution_count": 21,
     "metadata": {},
     "output_type": "execute_result"
    }
   ],
   "source": [
    "classifier.classify(test_feature)"
   ]
  },
  {
   "cell_type": "code",
   "execution_count": 23,
   "id": "e1562d9b",
   "metadata": {},
   "outputs": [],
   "source": [
    "from urllib.request import urlretrieve\n",
    "\n",
    "fiel = urlretrieve(\"\")"
   ]
  },
  {
   "cell_type": "code",
   "execution_count": null,
   "id": "3bac620c",
   "metadata": {},
   "outputs": [],
   "source": [
    "test_sent = \n",
    "\n",
    "if use_morph : test_sent = pos_tokenize(test_sent)\n",
    "words = word_tokenize(test_sent)\n",
    "test_feature = {set_word: (set_word in words) for set_word in all_words}"
   ]
  }
 ],
 "metadata": {
  "kernelspec": {
   "display_name": "Python 3 (ipykernel)",
   "language": "python",
   "name": "python3"
  },
  "language_info": {
   "codemirror_mode": {
    "name": "ipython",
    "version": 3
   },
   "file_extension": ".py",
   "mimetype": "text/x-python",
   "name": "python",
   "nbconvert_exporter": "python",
   "pygments_lexer": "ipython3",
   "version": "3.9.7"
  }
 },
 "nbformat": 4,
 "nbformat_minor": 5
}

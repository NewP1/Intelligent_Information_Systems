{
 "cells": [
  {
   "cell_type": "code",
   "execution_count": 1,
   "id": "d6fc3e39",
   "metadata": {},
   "outputs": [
    {
     "name": "stderr",
     "output_type": "stream",
     "text": [
      "C:\\Users\\jaehy\\AppData\\Local\\Temp/ipykernel_9472/3518395019.py:7: DeprecationWarning: executable_path has been deprecated, please pass in a Service object\n",
      "  driver = webdriver.Chrome(r\"C:\\Users\\jaehy\\Downloads\\driver\\chromedriver.exe\", options=opts)\n"
     ]
    }
   ],
   "source": [
    "from selenium import webdriver\n",
    "\n",
    "opts = webdriver.ChromeOptions()\n",
    "opts.add_experimental_option('prefs',{\n",
    "    'download.default_directory': r'C:\\Users\\jaehy\\Exercises\\Week10'\n",
    "})\n",
    "driver = webdriver.Chrome(r\"C:\\Users\\jaehy\\Downloads\\driver\\chromedriver.exe\", options=opts)"
   ]
  },
  {
   "cell_type": "code",
   "execution_count": 2,
   "id": "019bf704",
   "metadata": {},
   "outputs": [
    {
     "data": {
      "text/plain": [
       "'C:\\\\Users\\\\jaehy\\\\Exercises\\\\Week10'"
      ]
     },
     "execution_count": 2,
     "metadata": {},
     "output_type": "execute_result"
    }
   ],
   "source": [
    "pwd"
   ]
  },
  {
   "cell_type": "code",
   "execution_count": 3,
   "id": "f528dbc8",
   "metadata": {},
   "outputs": [],
   "source": [
    "main_url = \"https://www.opinet.co.kr/user/main/mainView.do\"\n",
    "driver.get(main_url)\n",
    "url = \"https://www.opinet.co.kr/searRgSelect.do\"\n",
    "driver.get(url)"
   ]
  },
  {
   "cell_type": "code",
   "execution_count": 4,
   "id": "70639043",
   "metadata": {},
   "outputs": [],
   "source": [
    "city_xpath = '//*[@id=\"SIDO_NM0\"]'\n",
    "driver.find_element('xpath', city_xpath).send_keys('인천')"
   ]
  },
  {
   "cell_type": "code",
   "execution_count": 5,
   "id": "67eead59",
   "metadata": {},
   "outputs": [],
   "source": [
    "gu_xpath = '//*[@id=\"SIGUNGU_NM0\"]'\n",
    "driver.find_element('xpath', gu_xpath).send_keys('연수구')"
   ]
  },
  {
   "cell_type": "code",
   "execution_count": 6,
   "id": "ee001759",
   "metadata": {},
   "outputs": [],
   "source": [
    "search_button = '//*[@id=\"searRgSelect\"]'\n",
    "driver.find_element('xpath', search_button).click()"
   ]
  },
  {
   "cell_type": "code",
   "execution_count": 7,
   "id": "a11c9d6f",
   "metadata": {},
   "outputs": [],
   "source": [
    "save_excel_button = '//*[@id=\"glopopd_excel\"]'\n",
    "driver.find_element('xpath', save_excel_button).click()"
   ]
  },
  {
   "cell_type": "code",
   "execution_count": 8,
   "id": "1a5854c7",
   "metadata": {},
   "outputs": [],
   "source": [
    "driver.close()"
   ]
  },
  {
   "cell_type": "code",
   "execution_count": null,
   "id": "2c25bf73",
   "metadata": {},
   "outputs": [],
   "source": []
  }
 ],
 "metadata": {
  "kernelspec": {
   "display_name": "Python 3 (ipykernel)",
   "language": "python",
   "name": "python3"
  },
  "language_info": {
   "codemirror_mode": {
    "name": "ipython",
    "version": 3
   },
   "file_extension": ".py",
   "mimetype": "text/x-python",
   "name": "python",
   "nbconvert_exporter": "python",
   "pygments_lexer": "ipython3",
   "version": "3.9.7"
  }
 },
 "nbformat": 4,
 "nbformat_minor": 5
}

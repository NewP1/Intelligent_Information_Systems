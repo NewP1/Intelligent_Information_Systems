{
 "cells": [
  {
   "cell_type": "code",
   "execution_count": 9,
   "id": "e4914aea",
   "metadata": {},
   "outputs": [],
   "source": [
    "from selenium import webdriver"
   ]
  },
  {
   "cell_type": "code",
   "execution_count": 2,
   "id": "78061e73",
   "metadata": {},
   "outputs": [
    {
     "name": "stderr",
     "output_type": "stream",
     "text": [
      "C:\\Users\\jaehy\\AppData\\Local\\Temp/ipykernel_8012/2728849773.py:1: DeprecationWarning: executable_path has been deprecated, please pass in a Service object\n",
      "  driver = webdriver.Chrome(r\"C:\\Users\\jaehy\\Downloads\\driver\\chromedriver.exe\")\n"
     ]
    }
   ],
   "source": [
    "driver = webdriver.Chrome(r\"C:\\Users\\jaehy\\Downloads\\driver\\chromedriver.exe\")"
   ]
  },
  {
   "cell_type": "code",
   "execution_count": 4,
   "id": "fa627cb6",
   "metadata": {},
   "outputs": [],
   "source": [
    "driver.get(\"https://nid.naver.com\")"
   ]
  },
  {
   "cell_type": "code",
   "execution_count": 11,
   "id": "462035a8",
   "metadata": {},
   "outputs": [],
   "source": [
    "login_id = driver.find_element('id','id')\n",
    "login_id.clear()\n",
    "login_id.send_keys('naver_id')"
   ]
  },
  {
   "cell_type": "code",
   "execution_count": 12,
   "id": "f67e6075",
   "metadata": {},
   "outputs": [],
   "source": [
    "login_pw = driver.find_element('id', 'pw')\n",
    "login_pw.clear()\n",
    "login_pw.send_keys('password1111')"
   ]
  },
  {
   "cell_type": "code",
   "execution_count": 14,
   "id": "8edd2c6e",
   "metadata": {},
   "outputs": [],
   "source": [
    "login_button = '//*[@id=\"log.login\"]'\n",
    "driver.find_element('xpath',login_button).click()"
   ]
  },
  {
   "cell_type": "code",
   "execution_count": null,
   "id": "8fa862c8",
   "metadata": {},
   "outputs": [],
   "source": [
    "driver.close()"
   ]
  }
 ],
 "metadata": {
  "kernelspec": {
   "display_name": "Python 3 (ipykernel)",
   "language": "python",
   "name": "python3"
  },
  "language_info": {
   "codemirror_mode": {
    "name": "ipython",
    "version": 3
   },
   "file_extension": ".py",
   "mimetype": "text/x-python",
   "name": "python",
   "nbconvert_exporter": "python",
   "pygments_lexer": "ipython3",
   "version": "3.9.7"
  }
 },
 "nbformat": 4,
 "nbformat_minor": 5
}

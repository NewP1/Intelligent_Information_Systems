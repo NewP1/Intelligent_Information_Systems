{
 "cells": [
  {
   "cell_type": "code",
   "execution_count": 1,
   "id": "cc1d648c",
   "metadata": {},
   "outputs": [
    {
     "name": "stderr",
     "output_type": "stream",
     "text": [
      "C:\\Users\\jaehy\\AppData\\Local\\Temp/ipykernel_7292/3518395019.py:7: DeprecationWarning: executable_path has been deprecated, please pass in a Service object\n",
      "  driver = webdriver.Chrome(r\"C:\\Users\\jaehy\\Downloads\\driver\\chromedriver.exe\", options=opts)\n"
     ]
    }
   ],
   "source": [
    "from selenium import webdriver\n",
    "\n",
    "opts = webdriver.ChromeOptions()\n",
    "opts.add_experimental_option('prefs',{\n",
    "    'download.default_directory': r'C:\\Users\\jaehy\\Exercises\\Week10'\n",
    "})\n",
    "driver = webdriver.Chrome(r\"C:\\Users\\jaehy\\Downloads\\driver\\chromedriver.exe\", options=opts)"
   ]
  },
  {
   "cell_type": "code",
   "execution_count": 2,
   "id": "1b040b67",
   "metadata": {},
   "outputs": [],
   "source": [
    "main_url = \"https://www.opinet.co.kr/user/main/mainView.do\"\n",
    "driver.get(main_url)\n",
    "url = \"https://www.opinet.co.kr/searRgSelect.do\"\n",
    "driver.get(url)"
   ]
  },
  {
   "cell_type": "code",
   "execution_count": 3,
   "id": "dd6baf9a",
   "metadata": {},
   "outputs": [],
   "source": [
    "city_xpath = '//*[@id=\"SIDO_NM0\"]'\n",
    "driver.find_element('xpath', city_xpath).send_keys('인천')"
   ]
  },
  {
   "cell_type": "code",
   "execution_count": 10,
   "id": "2755a514",
   "metadata": {},
   "outputs": [
    {
     "name": "stdout",
     "output_type": "stream",
     "text": [
      "['강화군', '계양구', '남동구', '동구', '미추홀구', '부평구', '서구', '연수구', '옹진군', '중구']\n"
     ]
    }
   ],
   "source": [
    "gu_xpath = '//*[@id=\"SIGUNGU_NM0\"]'\n",
    "gu_list_raw = driver.find_element('xpath', gu_xpath)\n",
    "gu_list = gu_list_raw.find_elements('tag name', 'option')\n",
    "gu_names = []\n",
    "for i in range(len(gu_list)):\n",
    "        gu_names.append(gu_list[i].text)\n",
    "gu_names = gu_names[1:]\n",
    "print(gu_names)"
   ]
  },
  {
   "cell_type": "code",
   "execution_count": 12,
   "id": "bb5f9ce9",
   "metadata": {},
   "outputs": [
    {
     "data": {
      "application/vnd.jupyter.widget-view+json": {
       "model_id": "374e95da33794631abd377a67c8bc398",
       "version_major": 2,
       "version_minor": 0
      },
      "text/plain": [
       "  0%|          | 0/10 [00:00<?, ?it/s]"
      ]
     },
     "metadata": {},
     "output_type": "display_data"
    },
    {
     "name": "stdout",
     "output_type": "stream",
     "text": [
      "강화군\n",
      "계양구\n",
      "남동구\n",
      "동구\n",
      "미추홀구\n",
      "부평구\n",
      "서구\n",
      "연수구\n",
      "옹진군\n",
      "중구\n"
     ]
    }
   ],
   "source": [
    "import time\n",
    "from tqdm.notebook import tqdm\n",
    "\n",
    "for i in tqdm(range(len(gu_names))):\n",
    "    print(gu_names[i])\n",
    "    \n",
    "    gu_xpath = '//*[@id=\"SIGUNGU_NM0\"]'\n",
    "    driver.find_element('xpath', gu_xpath).send_keys(gu_names[i])\n",
    "    \n",
    "    time.sleep(3)\n",
    "    \n",
    "    search_button = '//*[@id=\"searRgSelect\"]'\n",
    "    driver.find_element('xpath', search_button).click()\n",
    "    \n",
    "    time.sleep(3)\n",
    "    \n",
    "    save_excel_button = '//*[@id=\"glopopd_excel\"]'\n",
    "    driver.find_element('xpath', save_excel_button).click()\n",
    "    \n",
    "    time.sleep(3)"
   ]
  },
  {
   "cell_type": "code",
   "execution_count": 13,
   "id": "ccb60457",
   "metadata": {},
   "outputs": [],
   "source": [
    "driver.close()"
   ]
  },
  {
   "cell_type": "code",
   "execution_count": null,
   "id": "c38c40a3",
   "metadata": {},
   "outputs": [],
   "source": []
  }
 ],
 "metadata": {
  "kernelspec": {
   "display_name": "Python 3 (ipykernel)",
   "language": "python",
   "name": "python3"
  },
  "language_info": {
   "codemirror_mode": {
    "name": "ipython",
    "version": 3
   },
   "file_extension": ".py",
   "mimetype": "text/x-python",
   "name": "python",
   "nbconvert_exporter": "python",
   "pygments_lexer": "ipython3",
   "version": "3.9.7"
  }
 },
 "nbformat": 4,
 "nbformat_minor": 5
}

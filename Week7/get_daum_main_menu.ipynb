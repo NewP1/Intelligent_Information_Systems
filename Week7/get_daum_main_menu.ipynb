{
 "cells": [
  {
   "cell_type": "markdown",
   "id": "7dde836f",
   "metadata": {},
   "source": [
    "# 네이버에서 뉴스 뭐시기 가져오기"
   ]
  },
  {
   "cell_type": "code",
   "execution_count": 5,
   "id": "770219ab",
   "metadata": {},
   "outputs": [
    {
     "name": "stdout",
     "output_type": "stream",
     "text": [
      "SBS\n",
      "마이데일리\n",
      "미디어오늘\n",
      "일간스포츠\n",
      "뉴데일리\n",
      "스포츠서울\n",
      "뉴시스\n",
      "한겨레\n",
      "오마이뉴스\n",
      "OSEN\n",
      "문화일보\n",
      "MBN\n",
      "파이낸셜뉴스\n",
      "국민일보\n",
      "디지털타임스\n",
      "경인일보\n",
      "인천일보\n",
      "중부일보\n",
      "이코노타임즈\n",
      "한국금융신문\n",
      "TV조선\n",
      "헬스조선\n",
      "뉴스앤조이\n",
      "머니에스\n"
     ]
    }
   ],
   "source": [
    "from bs4 import BeautifulSoup\n",
    "# import bs4.BeautifulSoup as bs -> bs.BeautifulSoup(d,d)\n",
    "\n",
    "from urllib.request import urlopen\n",
    "\n",
    "url = \"https://www.naver.com\"\n",
    "html = urlopen(url)\n",
    "\n",
    "soup = BeautifulSoup(html.read(), \"html.parser\")\n",
    "\n",
    "news_stand = soup.find_all('div', {'class': 'thumb_box _NM_NEWSSTAND_THUMB _NM_NEWSSTAND_THUMB_press_valid'})\n",
    "for news in news_stand:\n",
    "    print(news.find('img')['alt'])"
   ]
  }
 ],
 "metadata": {
  "kernelspec": {
   "display_name": "Python 3 (ipykernel)",
   "language": "python",
   "name": "python3"
  },
  "language_info": {
   "codemirror_mode": {
    "name": "ipython",
    "version": 3
   },
   "file_extension": ".py",
   "mimetype": "text/x-python",
   "name": "python",
   "nbconvert_exporter": "python",
   "pygments_lexer": "ipython3",
   "version": "3.9.7"
  }
 },
 "nbformat": 4,
 "nbformat_minor": 5
}

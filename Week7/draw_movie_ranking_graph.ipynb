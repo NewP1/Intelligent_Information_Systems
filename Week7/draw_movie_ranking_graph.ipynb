{
 "cells": [
  {
   "cell_type": "markdown",
   "id": "de06fe56",
   "metadata": {},
   "source": [
    "# 크롤링 데이터 그래프 그리기"
   ]
  },
  {
   "cell_type": "code",
   "execution_count": null,
   "id": "5e3a7e4e",
   "metadata": {},
   "outputs": [],
   "source": [
    "\n",
    "\n",
    "url = \"https://movie.naver.com/movie/sdb/rank/rmovie.naver?sel=pnt&date=20221018\""
   ]
  }
 ],
 "metadata": {
  "kernelspec": {
   "display_name": "Python 3 (ipykernel)",
   "language": "python",
   "name": "python3"
  },
  "language_info": {
   "codemirror_mode": {
    "name": "ipython",
    "version": 3
   },
   "file_extension": ".py",
   "mimetype": "text/x-python",
   "name": "python",
   "nbconvert_exporter": "python",
   "pygments_lexer": "ipython3",
   "version": "3.9.7"
  }
 },
 "nbformat": 4,
 "nbformat_minor": 5
}

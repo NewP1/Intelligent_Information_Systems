{
 "cells": [
  {
   "cell_type": "code",
   "execution_count": 5,
   "id": "71c2d2f3",
   "metadata": {},
   "outputs": [
    {
     "name": "stdout",
     "output_type": "stream",
     "text": [
      "{\"info\":{\"size\":{\"width\":700,\"height\":394},\"faceCount\":1},\"faces\":[{\"celebrity\":{\"value\":\"박보검\",\"confidence\":1.0}}]}\n"
     ]
    }
   ],
   "source": [
    "import os\n",
    "import sys\n",
    "import requests\n",
    "client_id = \"jIDeot6SQWktUor8gfbW\"\n",
    "client_secret = \"KcDf8cSRfo\"\n",
    "# url = \"https://openapi.naver.com/v1/vision/face\" // 얼굴감지\n",
    "url = \"https://openapi.naver.com/v1/vision/celebrity\" \n",
    "files = {'image': open('my_photo.jpg', 'rb')}\n",
    "headers = {'X-Naver-Client-Id': client_id, 'X-Naver-Client-Secret': client_secret }\n",
    "response = requests.post(url,  files=files, headers=headers)\n",
    "rescode = response.status_code\n",
    "if(rescode==200):\n",
    "    print (response.text)\n",
    "else:\n",
    "    print(\"Error Code:\" + rescode)"
   ]
  },
  {
   "cell_type": "code",
   "execution_count": null,
   "id": "80ba7f43",
   "metadata": {},
   "outputs": [],
   "source": []
  },
  {
   "cell_type": "code",
   "execution_count": 26,
   "id": "1c289790",
   "metadata": {},
   "outputs": [
    {
     "name": "stdout",
     "output_type": "stream",
     "text": [
      "{'lastBuildDate': 'Mon, 05 Dec 2022 11:25:12 +0900', 'total': 408472, 'start': 1, 'display': 10, 'items': [{'title': '회식 하기 좋은 <b>송도</b>신도시<b>맛집</b>', 'link': 'https://blog.naver.com/smartk0304/222944600187', 'description': '저희는 <b>송도</b>신도시<b>맛집</b>이라고 알려진 녹우돈을 회식장소로 미리 예약하고 갔기 때문에 웨이팅하지않고 들어갔습니다. 그렇게 도착해서 자리를 안내받고 자리에 착석과 동시에 주문을 했는데요! 메뉴 판을... ', 'bloggername': '☆스마트한 직거래방구하기☆멋집/맛집/집이야기^^☆', 'bloggerlink': 'blog.naver.com/smartk0304', 'postdate': '20221203'}, {'title': '<b>송도 맛집</b> 추천 푸짐한 송도 한정식 밥상편지', 'link': 'https://blog.naver.com/joojoo5623/222901759267', 'description': '제이유입니다 :) 오늘 소개해 드릴 <b>송도 맛집</b> 밥상편지는 송도 한정식을 맛볼 수 있는 곳이에요. 이전에 한번 다녀온 적이 있는데 맛있게 먹었던 기억이 있어 부모님 두 분을 모시고 다녀왔어요 밥상편지 주소... ', 'bloggername': '바삭바삭한 일상그리기❣', 'bloggerlink': 'blog.naver.com/joojoo5623', 'postdate': '20221017'}, {'title': '부산 <b>송도 맛집</b> 사천해물탕 또 생각나', 'link': 'https://blog.naver.com/onoff83/222921656498', 'description': '살아있는 해산물에 진한 국물 맛이 일품이었던 부산 <b>송도 맛집</b> 후기를 남겨 봅니다. 제가 지금까지 먹어 본 해물탕 중에서는 손가락 안에 드는 곳이기도 합니다. 방문한 곳은 사천해물탕이라는 곳으로 송도... ', 'bloggername': '애리조나 히트', 'bloggerlink': 'blog.naver.com/onoff83', 'postdate': '20221106'}, {'title': '[인천 구<b>송도 맛집</b>] 맛있고 신선한 낙지볶음을 먹을 수 있는... ', 'link': 'https://blog.naver.com/kt27ks35wh/222940393510', 'description': '유명 <b>맛집</b>이라면서 나오는 것임 남편, 아빠말은 넘기고 어딘지도 모르는 사이트 링크는 믿어버리기 ㅋㅋㅋ 그래서 가기로 했습니다. 그곳은 구<b>송도</b>에 있는 정윤기 황칠낙지라는 곳이예요 우선 가게 이름이... ', 'bloggername': '내 맛 취향을 존중해주세요.', 'bloggerlink': 'blog.naver.com/kt27ks35wh', 'postdate': '20221205'}, {'title': '부산 <b>송도 맛집</b> 푸짐해!', 'link': 'https://blog.naver.com/mahaha0303/222943576071', 'description': '부산 <b>송도 맛집</b>을 다녀왔어요. 20년 전통으로 변함없는 맛인 해물탕의 진가를 제대로 느끼고와 소개해보려고 해요. 우리가 다녀온 사천해물탕은 부산송도해수욕장에서 차로 1분안에 도착할 만큼 가까웠어요.... ', 'bloggername': '고테네 사진관', 'bloggerlink': 'blog.naver.com/mahaha0303', 'postdate': '20221202'}, {'title': '<b>송도</b> 수제버거 <b>맛집</b> 오지버거 <b>송도</b>점 존맛탱', 'link': 'https://blog.naver.com/insunoo/222940469611', 'description': '<b>송도 맛집</b> 송도 햄버거 맛집 송도 수제버거 맛집 찾으시는 분들께 분위기도 좋고 깨끗하고 쾌적한데 가격대비 맛이 상당했던 오지버거 완전 추천하고 싶다! 다음에 또가야지!', 'bloggername': '턱미녀의 컬러풀 Green Days', 'bloggerlink': 'blog.naver.com/insunoo', 'postdate': '20221128'}, {'title': '<b>송도맛집</b> 송도술집 마케집 송도점 술안주로 자연산 막회 최고', 'link': 'https://blog.naver.com/nayhs/222926469612', 'description': '마케집 송도점 인천 연수구 하모니로 158 송도타임스페이스 D동 121-122호 T.0507-1343-6412 &lt;영업시간&gt; 매일 15:00-새벽 2:00 L.O. 새벽 1:00 타임스페이스 무료주차 #송도술집 #<b>송도맛집</b> #마케집', 'bloggername': 'maybe_biasa', 'bloggerlink': 'blog.naver.com/nayhs', 'postdate': '20221112'}, {'title': '[<b>송도맛집</b>]“하얀등대이모야” 장어구이 푸짐한 노상포차', 'link': 'https://blog.naver.com/sugyoung125/222942570010', 'description': '안녕하세요, 갱쁘입니다 <b>송도</b>-자갈치 사이에 위치한 ‘장어구이<b>맛집</b>’ 입니다 남부민방파제 앞에 위치한 포차같은가게 #<b>송도</b>장어구이 #남부민동장어구이 장어구이가 튼실하니 넘 맛있었어요 양념에... ', 'bloggername': '갱이델리', 'bloggerlink': 'blog.naver.com/sugyoung125', 'postdate': '20221130'}, {'title': '<b>송도</b> 파스타 <b>맛집</b> 연말 모임에는 어글리스토브 <b>송도</b>오네스타점', 'link': 'https://blog.naver.com/udongdd/222931074710', 'description': '갖고 싶다면 어글리스토브 송도오네스타점을 추천한다. #송도레스토랑 #송도파스타맛집 #송도스테이크맛집 #송도파스타 #송도모임 #송도단체 #송도가족모임 #송도소개팅 #송도가족식사 #송도데이트 #<b>송도맛집</b>', 'bloggername': '우동동의 BLOG.COM', 'bloggerlink': 'blog.naver.com/udongdd', 'postdate': '20221117'}, {'title': '<b>송도 맛집</b> 고급진데 착한 가격! 한남동자리 리뷰', 'link': 'https://blog.naver.com/suuming_/222937912184', 'description': '최근에 <b>송도 맛집</b>으로 떠오르고 있다는 &quot;한남동자리&quot; 다녀왔습니다! 한남동에서 엄청 유명한 중식당인데 송도점이 오픈한 이후 송도에서도 아주 인기 좋다고 하더라구요. 한남동자리 송도점 주소 : 인천... ', 'bloggername': '먹고 놀고', 'bloggerlink': 'blog.naver.com/suuming_', 'postdate': '20221125'}]}\n"
     ]
    }
   ],
   "source": [
    "# 네이버 검색 API 예제 - 블로그 검색\n",
    "import json\n",
    "import os\n",
    "import sys\n",
    "import urllib.request\n",
    "client_id = \"jIDeot6SQWktUor8gfbW\"\n",
    "client_secret = \"d946HNsqcy\"\n",
    "encText = urllib.parse.quote(\"송도 맛집\")\n",
    "url = \"https://openapi.naver.com/v1/search/blog?query=\" + encText + \"&display=10&start=1&sort=sim\" # JSON 결과\n",
    "# url = \"https://openapi.naver.com/v1/search/blog.xml?query=\" + encText # XML 결과\n",
    "request = urllib.request.Request(url)\n",
    "request.add_header(\"X-Naver-Client-Id\",client_id)\n",
    "request.add_header(\"X-Naver-Client-Secret\",client_secret)\n",
    "response = urllib.request.urlopen(request)\n",
    "rescode = response.getcode()\n",
    "if(rescode==200):\n",
    "    response_body = response.read()\n",
    "    result = json.loads(response_body.decode('utf-8'))\n",
    "    print(result)\n",
    "    #print(response_body.decode('utf-8'))\n",
    "else:\n",
    "    print(\"Error Code:\" + rescode)"
   ]
  },
  {
   "cell_type": "code",
   "execution_count": 27,
   "id": "53eb80ef",
   "metadata": {},
   "outputs": [
    {
     "data": {
      "text/plain": [
       "{'title': '회식 하기 좋은 <b>송도</b>신도시<b>맛집</b>',\n",
       " 'link': 'https://blog.naver.com/smartk0304/222944600187',\n",
       " 'description': '저희는 <b>송도</b>신도시<b>맛집</b>이라고 알려진 녹우돈을 회식장소로 미리 예약하고 갔기 때문에 웨이팅하지않고 들어갔습니다. 그렇게 도착해서 자리를 안내받고 자리에 착석과 동시에 주문을 했는데요! 메뉴 판을... ',\n",
       " 'bloggername': '☆스마트한 직거래방구하기☆멋집/맛집/집이야기^^☆',\n",
       " 'bloggerlink': 'blog.naver.com/smartk0304',\n",
       " 'postdate': '20221203'}"
      ]
     },
     "execution_count": 27,
     "metadata": {},
     "output_type": "execute_result"
    }
   ],
   "source": [
    "result['items'][0]"
   ]
  },
  {
   "cell_type": "code",
   "execution_count": 28,
   "id": "6aba6281",
   "metadata": {},
   "outputs": [
    {
     "data": {
      "text/plain": [
       "'회식 하기 좋은 <b>송도</b>신도시<b>맛집</b>'"
      ]
     },
     "execution_count": 28,
     "metadata": {},
     "output_type": "execute_result"
    }
   ],
   "source": [
    "result['items'][0]['title']"
   ]
  },
  {
   "cell_type": "code",
   "execution_count": 30,
   "id": "05e25e16",
   "metadata": {},
   "outputs": [],
   "source": [
    "item_list = result['items']\n",
    "title_list, link_list, date_list = [], [], []\n",
    "\n",
    "for i in range(len(item_list)):\n",
    "    title = item_list[i]['title']\n",
    "    link = item_list[i]['link']\n",
    "    postdate = item_list[i]['postdate']\n",
    "    \n",
    "    title_list.append(title)\n",
    "    link_list.append(link)\n",
    "    date_list.append(postdate)\n",
    "\n",
    "    "
   ]
  },
  {
   "cell_type": "code",
   "execution_count": 31,
   "id": "2d0263ad",
   "metadata": {},
   "outputs": [
    {
     "data": {
      "text/html": [
       "<div>\n",
       "<style scoped>\n",
       "    .dataframe tbody tr th:only-of-type {\n",
       "        vertical-align: middle;\n",
       "    }\n",
       "\n",
       "    .dataframe tbody tr th {\n",
       "        vertical-align: top;\n",
       "    }\n",
       "\n",
       "    .dataframe thead th {\n",
       "        text-align: right;\n",
       "    }\n",
       "</style>\n",
       "<table border=\"1\" class=\"dataframe\">\n",
       "  <thead>\n",
       "    <tr style=\"text-align: right;\">\n",
       "      <th></th>\n",
       "      <th>제목</th>\n",
       "      <th>링크</th>\n",
       "      <th>날짜</th>\n",
       "    </tr>\n",
       "  </thead>\n",
       "  <tbody>\n",
       "    <tr>\n",
       "      <th>0</th>\n",
       "      <td>회식 하기 좋은 &lt;b&gt;송도&lt;/b&gt;신도시&lt;b&gt;맛집&lt;/b&gt;</td>\n",
       "      <td>https://blog.naver.com/smartk0304/222944600187</td>\n",
       "      <td>20221203</td>\n",
       "    </tr>\n",
       "    <tr>\n",
       "      <th>1</th>\n",
       "      <td>&lt;b&gt;송도 맛집&lt;/b&gt; 추천 푸짐한 송도 한정식 밥상편지</td>\n",
       "      <td>https://blog.naver.com/joojoo5623/222901759267</td>\n",
       "      <td>20221017</td>\n",
       "    </tr>\n",
       "    <tr>\n",
       "      <th>2</th>\n",
       "      <td>부산 &lt;b&gt;송도 맛집&lt;/b&gt; 사천해물탕 또 생각나</td>\n",
       "      <td>https://blog.naver.com/onoff83/222921656498</td>\n",
       "      <td>20221106</td>\n",
       "    </tr>\n",
       "    <tr>\n",
       "      <th>3</th>\n",
       "      <td>[인천 구&lt;b&gt;송도 맛집&lt;/b&gt;] 맛있고 신선한 낙지볶음을 먹을 수 있는...</td>\n",
       "      <td>https://blog.naver.com/kt27ks35wh/222940393510</td>\n",
       "      <td>20221205</td>\n",
       "    </tr>\n",
       "    <tr>\n",
       "      <th>4</th>\n",
       "      <td>부산 &lt;b&gt;송도 맛집&lt;/b&gt; 푸짐해!</td>\n",
       "      <td>https://blog.naver.com/mahaha0303/222943576071</td>\n",
       "      <td>20221202</td>\n",
       "    </tr>\n",
       "  </tbody>\n",
       "</table>\n",
       "</div>"
      ],
      "text/plain": [
       "                                             제목  \\\n",
       "0                회식 하기 좋은 <b>송도</b>신도시<b>맛집</b>   \n",
       "1               <b>송도 맛집</b> 추천 푸짐한 송도 한정식 밥상편지   \n",
       "2                   부산 <b>송도 맛집</b> 사천해물탕 또 생각나   \n",
       "3  [인천 구<b>송도 맛집</b>] 맛있고 신선한 낙지볶음을 먹을 수 있는...    \n",
       "4                          부산 <b>송도 맛집</b> 푸짐해!   \n",
       "\n",
       "                                               링크        날짜  \n",
       "0  https://blog.naver.com/smartk0304/222944600187  20221203  \n",
       "1  https://blog.naver.com/joojoo5623/222901759267  20221017  \n",
       "2     https://blog.naver.com/onoff83/222921656498  20221106  \n",
       "3  https://blog.naver.com/kt27ks35wh/222940393510  20221205  \n",
       "4  https://blog.naver.com/mahaha0303/222943576071  20221202  "
      ]
     },
     "execution_count": 31,
     "metadata": {},
     "output_type": "execute_result"
    }
   ],
   "source": [
    "import pandas as pd\n",
    "\n",
    "item_result = pd.DataFrame({'제목' : title_list, '링크' : link_list, '날짜' : date_list})\n",
    "item_result.head()"
   ]
  },
  {
   "cell_type": "code",
   "execution_count": 32,
   "id": "5024e9ad",
   "metadata": {},
   "outputs": [],
   "source": [
    "writer = pd.ExcelWriter(\"search_result.xlsx\")\n",
    "item_result.to_excel(writer)\n",
    "writer.save()"
   ]
  },
  {
   "cell_type": "code",
   "execution_count": null,
   "id": "7c389cf6",
   "metadata": {},
   "outputs": [],
   "source": []
  }
 ],
 "metadata": {
  "kernelspec": {
   "display_name": "Python 3 (ipykernel)",
   "language": "python",
   "name": "python3"
  },
  "language_info": {
   "codemirror_mode": {
    "name": "ipython",
    "version": 3
   },
   "file_extension": ".py",
   "mimetype": "text/x-python",
   "name": "python",
   "nbconvert_exporter": "python",
   "pygments_lexer": "ipython3",
   "version": "3.9.7"
  }
 },
 "nbformat": 4,
 "nbformat_minor": 5
}

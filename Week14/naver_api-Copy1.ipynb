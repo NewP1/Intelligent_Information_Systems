{
 "cells": [
  {
   "cell_type": "code",
   "execution_count": 1,
   "id": "1c289790",
   "metadata": {},
   "outputs": [
    {
     "name": "stdout",
     "output_type": "stream",
     "text": [
      "{'lastBuildDate': 'Mon, 05 Dec 2022 11:31:53 +0900', 'total': 3, 'start': 1, 'display': 3, 'items': [{'title': '<b>지금 만나러 갑니다</b>', 'link': 'https://movie.naver.com/movie/bi/mi/basic.nhn?code=168298', 'image': 'https://ssl.pstatic.net/imgmovie/mdi/mit110/1682/168298_P26_135156.jpg', 'subtitle': 'Be With You', 'pubDate': '2017', 'director': '이장훈|', 'actor': '소지섭|손예진|', 'userRating': '8.75'}, {'title': '<b>지금 만나러 갑니다</b> - TV 시리즈', 'link': 'https://movie.naver.com/movie/bi/mi/basic.nhn?code=47590', 'image': '', 'subtitle': 'いま、?いにゆきます', 'pubDate': '2005', 'director': '히라노 슌이치|야마무로 다이스케|오오카 스스무|', 'actor': '미무라|나리미야 히로키|', 'userRating': '8.75'}, {'title': '<b>지금</b>, <b>만나러</b> <b>갑니다</b>', 'link': 'https://movie.naver.com/movie/bi/mi/basic.nhn?code=39636', 'image': 'https://ssl.pstatic.net/imgmovie/mdi/mit110/0396/39636_P23_170832.jpg', 'subtitle': 'Be With You', 'pubDate': '2004', 'director': '도이 노부히로|', 'actor': '다케우치 유코|나카무라 시도|다케이 아카시|', 'userRating': '9.35'}]}\n"
     ]
    }
   ],
   "source": [
    "# 네이버 검색 API 예제 - 블로그 검색\n",
    "import json\n",
    "import os\n",
    "import sys\n",
    "import urllib.request\n",
    "client_id = \"jIDeot6SQWktUor8gfbW\"\n",
    "client_secret = \"d946HNsqcy\"\n",
    "encText = urllib.parse.quote(\"지금 만나러 갑니다\")\n",
    "url = \"https://openapi.naver.com/v1/search/movie?query=\" + encText + \"&display=10&start=1&sort=sim\" # JSON 결과\n",
    "# url = \"https://openapi.naver.com/v1/search/blog.xml?query=\" + encText # XML 결과\n",
    "request = urllib.request.Request(url)\n",
    "request.add_header(\"X-Naver-Client-Id\",client_id)\n",
    "request.add_header(\"X-Naver-Client-Secret\",client_secret)\n",
    "response = urllib.request.urlopen(request)\n",
    "rescode = response.getcode()\n",
    "if(rescode==200):\n",
    "    response_body = response.read()\n",
    "    result = json.loads(response_body.decode('utf-8'))\n",
    "    print(result)\n",
    "    #print(response_body.decode('utf-8'))\n",
    "else:\n",
    "    print(\"Error Code:\" + rescode)"
   ]
  },
  {
   "cell_type": "code",
   "execution_count": 2,
   "id": "53eb80ef",
   "metadata": {},
   "outputs": [
    {
     "data": {
      "text/plain": [
       "{'title': '<b>지금 만나러 갑니다</b>',\n",
       " 'link': 'https://movie.naver.com/movie/bi/mi/basic.nhn?code=168298',\n",
       " 'image': 'https://ssl.pstatic.net/imgmovie/mdi/mit110/1682/168298_P26_135156.jpg',\n",
       " 'subtitle': 'Be With You',\n",
       " 'pubDate': '2017',\n",
       " 'director': '이장훈|',\n",
       " 'actor': '소지섭|손예진|',\n",
       " 'userRating': '8.75'}"
      ]
     },
     "execution_count": 2,
     "metadata": {},
     "output_type": "execute_result"
    }
   ],
   "source": [
    "result['items'][0]"
   ]
  },
  {
   "cell_type": "code",
   "execution_count": 4,
   "id": "6aba6281",
   "metadata": {},
   "outputs": [
    {
     "data": {
      "text/plain": [
       "'<b>지금 만나러 갑니다</b>'"
      ]
     },
     "execution_count": 4,
     "metadata": {},
     "output_type": "execute_result"
    }
   ],
   "source": [
    "result['items'][0]['title']"
   ]
  },
  {
   "cell_type": "code",
   "execution_count": 5,
   "id": "05e25e16",
   "metadata": {},
   "outputs": [],
   "source": [
    "item_list = result['items']\n",
    "title_list, link_list, date_list = [], [], []\n",
    "rate_list = []\n",
    "\n",
    "for i in range(len(item_list)):\n",
    "    title = item_list[i]['title']\n",
    "    link = item_list[i]['link']\n",
    "    postdate = item_list[i]['pubDate']\n",
    "    userRating = item_list[i]['userRating']\n",
    "    \n",
    "    \n",
    "    title_list.append(title)\n",
    "    link_list.append(link)\n",
    "    date_list.append(postdate)\n",
    "    rate_list.append(userRating)\n",
    "\n",
    "    "
   ]
  },
  {
   "cell_type": "code",
   "execution_count": 6,
   "id": "2d0263ad",
   "metadata": {},
   "outputs": [
    {
     "data": {
      "text/html": [
       "<div>\n",
       "<style scoped>\n",
       "    .dataframe tbody tr th:only-of-type {\n",
       "        vertical-align: middle;\n",
       "    }\n",
       "\n",
       "    .dataframe tbody tr th {\n",
       "        vertical-align: top;\n",
       "    }\n",
       "\n",
       "    .dataframe thead th {\n",
       "        text-align: right;\n",
       "    }\n",
       "</style>\n",
       "<table border=\"1\" class=\"dataframe\">\n",
       "  <thead>\n",
       "    <tr style=\"text-align: right;\">\n",
       "      <th></th>\n",
       "      <th>제목</th>\n",
       "      <th>링크</th>\n",
       "      <th>년도</th>\n",
       "      <th>평점</th>\n",
       "    </tr>\n",
       "  </thead>\n",
       "  <tbody>\n",
       "    <tr>\n",
       "      <th>0</th>\n",
       "      <td>&lt;b&gt;지금 만나러 갑니다&lt;/b&gt;</td>\n",
       "      <td>https://movie.naver.com/movie/bi/mi/basic.nhn?...</td>\n",
       "      <td>2017</td>\n",
       "      <td>8.75</td>\n",
       "    </tr>\n",
       "    <tr>\n",
       "      <th>1</th>\n",
       "      <td>&lt;b&gt;지금 만나러 갑니다&lt;/b&gt; - TV 시리즈</td>\n",
       "      <td>https://movie.naver.com/movie/bi/mi/basic.nhn?...</td>\n",
       "      <td>2005</td>\n",
       "      <td>8.75</td>\n",
       "    </tr>\n",
       "    <tr>\n",
       "      <th>2</th>\n",
       "      <td>&lt;b&gt;지금&lt;/b&gt;, &lt;b&gt;만나러&lt;/b&gt; &lt;b&gt;갑니다&lt;/b&gt;</td>\n",
       "      <td>https://movie.naver.com/movie/bi/mi/basic.nhn?...</td>\n",
       "      <td>2004</td>\n",
       "      <td>9.35</td>\n",
       "    </tr>\n",
       "  </tbody>\n",
       "</table>\n",
       "</div>"
      ],
      "text/plain": [
       "                                 제목  \\\n",
       "0                 <b>지금 만나러 갑니다</b>   \n",
       "1        <b>지금 만나러 갑니다</b> - TV 시리즈   \n",
       "2  <b>지금</b>, <b>만나러</b> <b>갑니다</b>   \n",
       "\n",
       "                                                  링크    년도    평점  \n",
       "0  https://movie.naver.com/movie/bi/mi/basic.nhn?...  2017  8.75  \n",
       "1  https://movie.naver.com/movie/bi/mi/basic.nhn?...  2005  8.75  \n",
       "2  https://movie.naver.com/movie/bi/mi/basic.nhn?...  2004  9.35  "
      ]
     },
     "execution_count": 6,
     "metadata": {},
     "output_type": "execute_result"
    }
   ],
   "source": [
    "import pandas as pd\n",
    "\n",
    "item_result = pd.DataFrame({'제목' : title_list, '링크' : link_list, '년도' : date_list, '평점' : rate_list})\n",
    "item_result.head()"
   ]
  },
  {
   "cell_type": "code",
   "execution_count": 7,
   "id": "5024e9ad",
   "metadata": {},
   "outputs": [],
   "source": [
    "writer = pd.ExcelWriter(\"search_result_movie.xlsx\")\n",
    "item_result.to_excel(writer)\n",
    "writer.save()"
   ]
  },
  {
   "cell_type": "code",
   "execution_count": null,
   "id": "7c389cf6",
   "metadata": {},
   "outputs": [],
   "source": []
  }
 ],
 "metadata": {
  "kernelspec": {
   "display_name": "Python 3 (ipykernel)",
   "language": "python",
   "name": "python3"
  },
  "language_info": {
   "codemirror_mode": {
    "name": "ipython",
    "version": 3
   },
   "file_extension": ".py",
   "mimetype": "text/x-python",
   "name": "python",
   "nbconvert_exporter": "python",
   "pygments_lexer": "ipython3",
   "version": "3.9.7"
  }
 },
 "nbformat": 4,
 "nbformat_minor": 5
}

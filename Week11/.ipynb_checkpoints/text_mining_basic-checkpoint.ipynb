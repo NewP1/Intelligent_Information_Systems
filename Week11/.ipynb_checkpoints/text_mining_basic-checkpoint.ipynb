{
 "cells": [
  {
   "cell_type": "code",
   "execution_count": 1,
   "id": "c8ae7455",
   "metadata": {},
   "outputs": [],
   "source": [
    "from konlpy.tag import Hannanum, Kkma, Komoran, Okt\n",
    "\n",
    "hannanum = Hannanum()\n",
    "kkma = Kkma()\n",
    "komoran = Komoran()\n",
    "okt = Okt()"
   ]
  },
  {
   "cell_type": "code",
   "execution_count": 2,
   "id": "fff66660",
   "metadata": {},
   "outputs": [
    {
     "name": "stdout",
     "output_type": "stream",
     "text": [
      "Hannanum :  [('아버지가방에들어가', 'N'), ('이', 'J'), ('시ㄴ다', 'E')]\n",
      "Kkma :  [('아버지', 'NNG'), ('가방', 'NNG'), ('에', 'JKM'), ('들어가', 'VV'), ('시', 'EPH'), ('ㄴ다', 'EFN')]\n",
      "Komoran:  [('아버지', 'NNG'), ('가방', 'NNP'), ('에', 'JKB'), ('들어가', 'VV'), ('시', 'EP'), ('ㄴ다', 'EC')]\n",
      "Okt :  [('아버지', 'Noun'), ('가방', 'Noun'), ('에', 'Josa'), ('들어가신다', 'Verb')]\n"
     ]
    }
   ],
   "source": [
    "test_sent = '아버지가방에들어가신다'\n",
    "print('Hannanum : ', hannanum.pos(test_sent))\n",
    "print('Kkma : ', kkma.pos(test_sent))\n",
    "print('Komoran: ', komoran.pos(test_sent))\n",
    "print('Okt : ', okt.pos(test_sent))"
   ]
  },
  {
   "cell_type": "markdown",
   "id": "c1897fb0",
   "metadata": {},
   "source": [
    "## hannanum을 제외한 나머지 것들은 성능면에서 좋다고 볼수 있다."
   ]
  },
  {
   "cell_type": "code",
   "execution_count": 4,
   "id": "d9478586",
   "metadata": {},
   "outputs": [
    {
     "name": "stdout",
     "output_type": "stream",
     "text": [
      "Hannanum :  [('아버지가방에들어가', 'N'), ('이', 'J'), ('시ㄴ다', 'E')]\n",
      "time :  0.009099721908569336\n",
      "Kkma :  [('아버지', 'NNG'), ('가방', 'NNG'), ('에', 'JKM'), ('들어가', 'VV'), ('시', 'EPH'), ('ㄴ다', 'EFN')]\n",
      "time :  0.025366544723510742\n",
      "Komoran:  [('아버지', 'NNG'), ('가방', 'NNP'), ('에', 'JKB'), ('들어가', 'VV'), ('시', 'EP'), ('ㄴ다', 'EC')]\n",
      "time :  0.007994890213012695\n",
      "Okt :  [('아버지', 'Noun'), ('가방', 'Noun'), ('에', 'Josa'), ('들어가신다', 'Verb')]\n",
      "time :  0.008015871047973633\n"
     ]
    }
   ],
   "source": [
    "import time\n",
    "\n",
    "test_sent = '아버지가방에들어가신다'\n",
    "start = time.time()\n",
    "print('Hannanum : ', hannanum.pos(test_sent))\n",
    "print('time : ', time.time() - start)\n",
    "\n",
    "start = time.time()\n",
    "print('Kkma : ', kkma.pos(test_sent))\n",
    "print('time : ', time.time() - start)\n",
    "\n",
    "start = time.time()\n",
    "print('Komoran: ', komoran.pos(test_sent))\n",
    "print('time : ', time.time() - start)\n",
    "\n",
    "start = time.time()\n",
    "print('Okt : ', okt.pos(test_sent))\n",
    "print('time : ', time.time() - start)"
   ]
  },
  {
   "cell_type": "markdown",
   "id": "acb32a3f",
   "metadata": {},
   "source": [
    "### komoran이 좀 빠르고 다른 것들은 비슷비슷하다"
   ]
  },
  {
   "cell_type": "markdown",
   "id": "812b8d85",
   "metadata": {},
   "source": [
    "인터넷에서 긁어오면 okt,  뉴스 같은 건 komoran\n",
    "\n",
    "우리는 Okt를 이용하여 스크래핑한다!!!!!!!!!!!!!!!!!!!!!!!!!!!!!"
   ]
  },
  {
   "cell_type": "code",
   "execution_count": null,
   "id": "a208a4c1",
   "metadata": {},
   "outputs": [],
   "source": []
  }
 ],
 "metadata": {
  "kernelspec": {
   "display_name": "Python 3 (ipykernel)",
   "language": "python",
   "name": "python3"
  },
  "language_info": {
   "codemirror_mode": {
    "name": "ipython",
    "version": 3
   },
   "file_extension": ".py",
   "mimetype": "text/x-python",
   "name": "python",
   "nbconvert_exporter": "python",
   "pygments_lexer": "ipython3",
   "version": "3.9.7"
  }
 },
 "nbformat": 4,
 "nbformat_minor": 5
}
